{
 "cells": [
  {
   "cell_type": "code",
   "execution_count": 1,
   "metadata": {},
   "outputs": [],
   "source": [
    "import pandas as pd"
   ]
  },
  {
   "attachments": {},
   "cell_type": "markdown",
   "metadata": {},
   "source": [
    "# Investigate Data from Commercial foreign trade (Kommerzieler Ausserhandel Preis)"
   ]
  },
  {
   "cell_type": "code",
   "execution_count": null,
   "metadata": {},
   "outputs": [
    {
     "data": {
      "text/html": [
       "<div>\n",
       "<style scoped>\n",
       "    .dataframe tbody tr th:only-of-type {\n",
       "        vertical-align: middle;\n",
       "    }\n",
       "\n",
       "    .dataframe tbody tr th {\n",
       "        vertical-align: top;\n",
       "    }\n",
       "\n",
       "    .dataframe thead th {\n",
       "        text-align: right;\n",
       "    }\n",
       "</style>\n",
       "<table border=\"1\" class=\"dataframe\">\n",
       "  <thead>\n",
       "    <tr style=\"text-align: right;\">\n",
       "      <th></th>\n",
       "      <th>Datum</th>\n",
       "      <th>Anfang</th>\n",
       "      <th>Ende</th>\n",
       "      <th>Nettoexport [MWh] Berechnete Auflösungen</th>\n",
       "      <th>Niederlande (Export) [MWh] Berechnete Auflösungen</th>\n",
       "      <th>Niederlande (Import) [MWh] Berechnete Auflösungen</th>\n",
       "      <th>Schweiz (Export) [MWh] Berechnete Auflösungen</th>\n",
       "      <th>Schweiz (Import) [MWh] Berechnete Auflösungen</th>\n",
       "      <th>Dänemark (Export) [MWh] Berechnete Auflösungen</th>\n",
       "      <th>Dänemark (Import) [MWh] Berechnete Auflösungen</th>\n",
       "      <th>...</th>\n",
       "      <th>Österreich (Export) [MWh] Berechnete Auflösungen</th>\n",
       "      <th>Österreich (Import) [MWh] Berechnete Auflösungen</th>\n",
       "      <th>Frankreich (Export) [MWh] Berechnete Auflösungen</th>\n",
       "      <th>Frankreich (Import) [MWh] Berechnete Auflösungen</th>\n",
       "      <th>Polen (Export) [MWh] Berechnete Auflösungen</th>\n",
       "      <th>Polen (Import) [MWh] Berechnete Auflösungen</th>\n",
       "      <th>Norwegen (Export) [MWh] Berechnete Auflösungen</th>\n",
       "      <th>Norwegen (Import) [MWh] Berechnete Auflösungen</th>\n",
       "      <th>Belgien (Export) [MWh] Berechnete Auflösungen</th>\n",
       "      <th>Belgien (Import) [MWh] Berechnete Auflösungen</th>\n",
       "    </tr>\n",
       "  </thead>\n",
       "  <tbody>\n",
       "    <tr>\n",
       "      <th>0</th>\n",
       "      <td>01.01.2018</td>\n",
       "      <td>00:00</td>\n",
       "      <td>00:00</td>\n",
       "      <td>-</td>\n",
       "      <td>24.439</td>\n",
       "      <td>-172</td>\n",
       "      <td>19.250</td>\n",
       "      <td>-678</td>\n",
       "      <td>50.485</td>\n",
       "      <td>-85</td>\n",
       "      <td>...</td>\n",
       "      <td>120.809</td>\n",
       "      <td>-20.152</td>\n",
       "      <td>87.570</td>\n",
       "      <td>-14.248</td>\n",
       "      <td>2.933</td>\n",
       "      <td>-658</td>\n",
       "      <td>-</td>\n",
       "      <td>-</td>\n",
       "      <td>-</td>\n",
       "      <td>-</td>\n",
       "    </tr>\n",
       "    <tr>\n",
       "      <th>1</th>\n",
       "      <td>02.01.2018</td>\n",
       "      <td>00:00</td>\n",
       "      <td>00:00</td>\n",
       "      <td>-</td>\n",
       "      <td>55.880</td>\n",
       "      <td>-241</td>\n",
       "      <td>19.200</td>\n",
       "      <td>-287</td>\n",
       "      <td>18.874</td>\n",
       "      <td>-23.448</td>\n",
       "      <td>...</td>\n",
       "      <td>113.103</td>\n",
       "      <td>-52.742</td>\n",
       "      <td>36.463</td>\n",
       "      <td>-22.596</td>\n",
       "      <td>6.480</td>\n",
       "      <td>-581</td>\n",
       "      <td>-</td>\n",
       "      <td>-</td>\n",
       "      <td>-</td>\n",
       "      <td>-</td>\n",
       "    </tr>\n",
       "    <tr>\n",
       "      <th>2</th>\n",
       "      <td>03.01.2018</td>\n",
       "      <td>00:00</td>\n",
       "      <td>00:00</td>\n",
       "      <td>-</td>\n",
       "      <td>34.481</td>\n",
       "      <td>-24</td>\n",
       "      <td>19.202</td>\n",
       "      <td>-2</td>\n",
       "      <td>50.400</td>\n",
       "      <td>-30</td>\n",
       "      <td>...</td>\n",
       "      <td>135.379</td>\n",
       "      <td>-17.455</td>\n",
       "      <td>22.298</td>\n",
       "      <td>-2.909</td>\n",
       "      <td>6.688</td>\n",
       "      <td>0</td>\n",
       "      <td>-</td>\n",
       "      <td>-</td>\n",
       "      <td>-</td>\n",
       "      <td>-</td>\n",
       "    </tr>\n",
       "    <tr>\n",
       "      <th>3</th>\n",
       "      <td>04.01.2018</td>\n",
       "      <td>00:00</td>\n",
       "      <td>00:00</td>\n",
       "      <td>-</td>\n",
       "      <td>51.926</td>\n",
       "      <td>-2.052</td>\n",
       "      <td>21.722</td>\n",
       "      <td>-194</td>\n",
       "      <td>18.831</td>\n",
       "      <td>-26.153</td>\n",
       "      <td>...</td>\n",
       "      <td>120.083</td>\n",
       "      <td>-49.424</td>\n",
       "      <td>52.353</td>\n",
       "      <td>-32.326</td>\n",
       "      <td>2.663</td>\n",
       "      <td>-650</td>\n",
       "      <td>-</td>\n",
       "      <td>-</td>\n",
       "      <td>-</td>\n",
       "      <td>-</td>\n",
       "    </tr>\n",
       "    <tr>\n",
       "      <th>4</th>\n",
       "      <td>05.01.2018</td>\n",
       "      <td>00:00</td>\n",
       "      <td>00:00</td>\n",
       "      <td>-</td>\n",
       "      <td>58.059</td>\n",
       "      <td>-837</td>\n",
       "      <td>23.375</td>\n",
       "      <td>-4.317</td>\n",
       "      <td>15.987</td>\n",
       "      <td>-24.934</td>\n",
       "      <td>...</td>\n",
       "      <td>121.300</td>\n",
       "      <td>-44.237</td>\n",
       "      <td>63.425</td>\n",
       "      <td>-23.055</td>\n",
       "      <td>1.385</td>\n",
       "      <td>-7.027</td>\n",
       "      <td>-</td>\n",
       "      <td>-</td>\n",
       "      <td>-</td>\n",
       "      <td>-</td>\n",
       "    </tr>\n",
       "  </tbody>\n",
       "</table>\n",
       "<p>5 rows × 26 columns</p>\n",
       "</div>"
      ],
      "text/plain": [
       "        Datum Anfang   Ende Nettoexport [MWh] Berechnete Auflösungen  \\\n",
       "0  01.01.2018  00:00  00:00                                        -   \n",
       "1  02.01.2018  00:00  00:00                                        -   \n",
       "2  03.01.2018  00:00  00:00                                        -   \n",
       "3  04.01.2018  00:00  00:00                                        -   \n",
       "4  05.01.2018  00:00  00:00                                        -   \n",
       "\n",
       "  Niederlande (Export) [MWh] Berechnete Auflösungen  \\\n",
       "0                                            24.439   \n",
       "1                                            55.880   \n",
       "2                                            34.481   \n",
       "3                                            51.926   \n",
       "4                                            58.059   \n",
       "\n",
       "  Niederlande (Import) [MWh] Berechnete Auflösungen  \\\n",
       "0                                              -172   \n",
       "1                                              -241   \n",
       "2                                               -24   \n",
       "3                                            -2.052   \n",
       "4                                              -837   \n",
       "\n",
       "  Schweiz (Export) [MWh] Berechnete Auflösungen  \\\n",
       "0                                        19.250   \n",
       "1                                        19.200   \n",
       "2                                        19.202   \n",
       "3                                        21.722   \n",
       "4                                        23.375   \n",
       "\n",
       "  Schweiz (Import) [MWh] Berechnete Auflösungen  \\\n",
       "0                                          -678   \n",
       "1                                          -287   \n",
       "2                                            -2   \n",
       "3                                          -194   \n",
       "4                                        -4.317   \n",
       "\n",
       "  Dänemark (Export) [MWh] Berechnete Auflösungen  \\\n",
       "0                                         50.485   \n",
       "1                                         18.874   \n",
       "2                                         50.400   \n",
       "3                                         18.831   \n",
       "4                                         15.987   \n",
       "\n",
       "  Dänemark (Import) [MWh] Berechnete Auflösungen  ...  \\\n",
       "0                                            -85  ...   \n",
       "1                                        -23.448  ...   \n",
       "2                                            -30  ...   \n",
       "3                                        -26.153  ...   \n",
       "4                                        -24.934  ...   \n",
       "\n",
       "  Österreich (Export) [MWh] Berechnete Auflösungen  \\\n",
       "0                                          120.809   \n",
       "1                                          113.103   \n",
       "2                                          135.379   \n",
       "3                                          120.083   \n",
       "4                                          121.300   \n",
       "\n",
       "  Österreich (Import) [MWh] Berechnete Auflösungen  \\\n",
       "0                                          -20.152   \n",
       "1                                          -52.742   \n",
       "2                                          -17.455   \n",
       "3                                          -49.424   \n",
       "4                                          -44.237   \n",
       "\n",
       "  Frankreich (Export) [MWh] Berechnete Auflösungen  \\\n",
       "0                                           87.570   \n",
       "1                                           36.463   \n",
       "2                                           22.298   \n",
       "3                                           52.353   \n",
       "4                                           63.425   \n",
       "\n",
       "  Frankreich (Import) [MWh] Berechnete Auflösungen  \\\n",
       "0                                          -14.248   \n",
       "1                                          -22.596   \n",
       "2                                           -2.909   \n",
       "3                                          -32.326   \n",
       "4                                          -23.055   \n",
       "\n",
       "  Polen (Export) [MWh] Berechnete Auflösungen  \\\n",
       "0                                       2.933   \n",
       "1                                       6.480   \n",
       "2                                       6.688   \n",
       "3                                       2.663   \n",
       "4                                       1.385   \n",
       "\n",
       "  Polen (Import) [MWh] Berechnete Auflösungen  \\\n",
       "0                                        -658   \n",
       "1                                        -581   \n",
       "2                                           0   \n",
       "3                                        -650   \n",
       "4                                      -7.027   \n",
       "\n",
       "  Norwegen (Export) [MWh] Berechnete Auflösungen  \\\n",
       "0                                              -   \n",
       "1                                              -   \n",
       "2                                              -   \n",
       "3                                              -   \n",
       "4                                              -   \n",
       "\n",
       "  Norwegen (Import) [MWh] Berechnete Auflösungen  \\\n",
       "0                                              -   \n",
       "1                                              -   \n",
       "2                                              -   \n",
       "3                                              -   \n",
       "4                                              -   \n",
       "\n",
       "  Belgien (Export) [MWh] Berechnete Auflösungen  \\\n",
       "0                                             -   \n",
       "1                                             -   \n",
       "2                                             -   \n",
       "3                                             -   \n",
       "4                                             -   \n",
       "\n",
       "  Belgien (Import) [MWh] Berechnete Auflösungen  \n",
       "0                                             -  \n",
       "1                                             -  \n",
       "2                                             -  \n",
       "3                                             -  \n",
       "4                                             -  \n",
       "\n",
       "[5 rows x 26 columns]"
      ]
     },
     "metadata": {},
     "output_type": "display_data"
    }
   ],
   "source": [
    "foreing_trade = pd.read_csv('data-prices/Kommerzieller_Au_enhandel_2018_01_01_2018_12_31_Tag.csv', delimiter=';', decimal=',')\n",
    "foreing_trade.head()"
   ]
  },
  {
   "cell_type": "code",
   "execution_count": null,
   "metadata": {},
   "outputs": [
    {
     "data": {
      "text/plain": [
       "Index(['Datum', 'Anfang', 'Ende', 'Nettoexport [MWh] Berechnete Auflösungen',\n",
       "       'Niederlande (Export) [MWh] Berechnete Auflösungen',\n",
       "       'Niederlande (Import) [MWh] Berechnete Auflösungen',\n",
       "       'Schweiz (Export) [MWh] Berechnete Auflösungen',\n",
       "       'Schweiz (Import) [MWh] Berechnete Auflösungen',\n",
       "       'Dänemark (Export) [MWh] Berechnete Auflösungen',\n",
       "       'Dänemark (Import) [MWh] Berechnete Auflösungen',\n",
       "       'Tschechien (Export) [MWh] Berechnete Auflösungen',\n",
       "       'Tschechien (Import) [MWh] Berechnete Auflösungen',\n",
       "       'Luxemburg (Export) [MWh] Berechnete Auflösungen',\n",
       "       'Luxemburg (Import) [MWh] Berechnete Auflösungen',\n",
       "       'Schweden (Export) [MWh] Berechnete Auflösungen',\n",
       "       'Schweden (Import) [MWh] Berechnete Auflösungen',\n",
       "       'Österreich (Export) [MWh] Berechnete Auflösungen',\n",
       "       'Österreich (Import) [MWh] Berechnete Auflösungen',\n",
       "       'Frankreich (Export) [MWh] Berechnete Auflösungen',\n",
       "       'Frankreich (Import) [MWh] Berechnete Auflösungen',\n",
       "       'Polen (Export) [MWh] Berechnete Auflösungen',\n",
       "       'Polen (Import) [MWh] Berechnete Auflösungen',\n",
       "       'Norwegen (Export) [MWh] Berechnete Auflösungen',\n",
       "       'Norwegen (Import) [MWh] Berechnete Auflösungen',\n",
       "       'Belgien (Export) [MWh] Berechnete Auflösungen',\n",
       "       'Belgien (Import) [MWh] Berechnete Auflösungen', 'Date'],\n",
       "      dtype='object')"
      ]
     },
     "metadata": {},
     "output_type": "display_data"
    }
   ],
   "source": [
    "foreing_trade.columns"
   ]
  },
  {
   "cell_type": "code",
   "execution_count": null,
   "metadata": {},
   "outputs": [],
   "source": [
    "foreing_trade['Date'] = pd.to_datetime(foreing_trade['Date'], yearfirst=True)"
   ]
  },
  {
   "cell_type": "code",
   "execution_count": null,
   "metadata": {},
   "outputs": [
    {
     "data": {
      "text/plain": [
       "-    1.0\n",
       "Name: Nettoexport [MWh] Berechnete Auflösungen, dtype: float64"
      ]
     },
     "metadata": {},
     "output_type": "display_data"
    }
   ],
   "source": [
    "foreing_trade['Nettoexport [MWh] Berechnete Auflösungen'].value_counts(normalize=True)"
   ]
  },
  {
   "cell_type": "code",
   "execution_count": null,
   "metadata": {},
   "outputs": [
    {
     "data": {
      "text/plain": [
       "-    1.0\n",
       "Name: Norwegen (Import) [MWh] Berechnete Auflösungen, dtype: float64"
      ]
     },
     "metadata": {},
     "output_type": "display_data"
    }
   ],
   "source": [
    "foreing_trade['Norwegen (Import) [MWh] Berechnete Auflösungen'].value_counts(normalize=True)"
   ]
  },
  {
   "cell_type": "code",
   "execution_count": null,
   "metadata": {},
   "outputs": [
    {
     "data": {
      "text/plain": [
       "-    1.0\n",
       "Name: Nettoexport [MWh] Berechnete Auflösungen, dtype: float64"
      ]
     },
     "metadata": {},
     "output_type": "display_data"
    }
   ],
   "source": [
    "foreing_trade['Nettoexport [MWh] Berechnete Auflösungen'].value_counts(normalize=True)"
   ]
  },
  {
   "cell_type": "code",
   "execution_count": null,
   "metadata": {},
   "outputs": [
    {
     "data": {
      "text/plain": [
       "-    1.0\n",
       "Name: Norwegen (Import) [MWh] Berechnete Auflösungen, dtype: float64"
      ]
     },
     "metadata": {},
     "output_type": "display_data"
    }
   ],
   "source": [
    "foreing_trade['Norwegen (Import) [MWh] Berechnete Auflösungen'].value_counts(normalize=True)"
   ]
  },
  {
   "attachments": {},
   "cell_type": "markdown",
   "metadata": {},
   "source": [
    "# Investigate data from physical flow of electricity (physikalischer Stromfluss)"
   ]
  },
  {
   "cell_type": "code",
   "execution_count": null,
   "metadata": {},
   "outputs": [],
   "source": [
    "electricity_flow = pd.read_csv('SMARD/data-prices/Physikalischer_Stromfluss_2018_01_01_2018_12_31_Tag.csv', delimiter=';', decimal=',')\n",
    "electricity_flow.head()"
   ]
  },
  {
   "cell_type": "code",
   "execution_count": null,
   "metadata": {},
   "outputs": [
    {
     "data": {
      "text/plain": [
       "(365, 26)"
      ]
     },
     "metadata": {},
     "output_type": "display_data"
    }
   ],
   "source": [
    "electricity_flow.shape"
   ]
  },
  {
   "cell_type": "code",
   "execution_count": null,
   "metadata": {},
   "outputs": [
    {
     "ename": "NameError",
     "evalue": "name 'electricity_flow' is not defined",
     "output_type": "error",
     "traceback": [
      "\u001b[0;31m---------------------------------------------------------------------------\u001b[0m\n",
      "\u001b[0;31mNameError\u001b[0m                                 Traceback (most recent call last)\n",
      "\u001b[1;32m/home/araceli/code/energy-analysis-and-predictions/notebooks/load_data_test.ipynb Cell 53\u001b[0m in \u001b[0;36m1\n",
      "\u001b[0;32m----> <a href='vscode-notebook-cell://wsl%2Bubuntu/home/araceli/code/energy-analysis-and-predictions/notebooks/load_data_test.ipynb#Y102sdnNjb2RlLXJlbW90ZQ%3D%3D?line=0'>1</a>\u001b[0m electricity_flow[\u001b[39m'\u001b[39m\u001b[39mNettoexport [MWh] Berechnete Auflösungen\u001b[39m\u001b[39m'\u001b[39m]\u001b[39m.\u001b[39mvalue_counts(normalize\u001b[39m=\u001b[39m\u001b[39mTrue\u001b[39;00m)\n",
      "\n",
      "\u001b[0;31mNameError\u001b[0m: name 'electricity_flow' is not defined"
     ]
    }
   ],
   "source": [
    "electricity_flow['Nettoexport [MWh] Berechnete Auflösungen'].value_counts(normalize=True)"
   ]
  },
  {
   "cell_type": "code",
   "execution_count": null,
   "metadata": {},
   "outputs": [
    {
     "ename": "NameError",
     "evalue": "name 'electricity_flow' is not defined",
     "output_type": "error",
     "traceback": [
      "\u001b[0;31m---------------------------------------------------------------------------\u001b[0m\n",
      "\u001b[0;31mNameError\u001b[0m                                 Traceback (most recent call last)\n",
      "\u001b[1;32m/home/araceli/code/energy-analysis-and-predictions/notebooks/load_data_test.ipynb Cell 54\u001b[0m in \u001b[0;36m1\n",
      "\u001b[0;32m----> <a href='vscode-notebook-cell://wsl%2Bubuntu/home/araceli/code/energy-analysis-and-predictions/notebooks/load_data_test.ipynb#Y103sdnNjb2RlLXJlbW90ZQ%3D%3D?line=0'>1</a>\u001b[0m electricity_flow[\u001b[39m'\u001b[39m\u001b[39mNorwegen (Export) [MWh] Berechnete Auflösungen\u001b[39m\u001b[39m'\u001b[39m]\u001b[39m.\u001b[39mvalue_counts(normalize\u001b[39m=\u001b[39m\u001b[39mTrue\u001b[39;00m)\n",
      "\n",
      "\u001b[0;31mNameError\u001b[0m: name 'electricity_flow' is not defined"
     ]
    }
   ],
   "source": [
    "electricity_flow['Norwegen (Export) [MWh] Berechnete Auflösungen'].value_counts(normalize=True)"
   ]
  },
  {
   "cell_type": "code",
   "execution_count": null,
   "metadata": {},
   "outputs": [
    {
     "data": {
      "text/plain": [
       "1460"
      ]
     },
     "metadata": {},
     "output_type": "display_data"
    }
   ],
   "source": [
    "total_data_days = (2022-2018)*365\n",
    "total_data_days"
   ]
  },
  {
   "cell_type": "code",
   "execution_count": null,
   "metadata": {},
   "outputs": [
    {
     "data": {
      "text/plain": [
       "35040"
      ]
     },
     "metadata": {},
     "output_type": "display_data"
    }
   ],
   "source": [
    "total_data_hours = (2022-2018)*365*24\n",
    "total_data_hours"
   ]
  },
  {
   "cell_type": "code",
   "execution_count": null,
   "metadata": {},
   "outputs": [
    {
     "ename": "NameError",
     "evalue": "name 'electricity_flow' is not defined",
     "output_type": "error",
     "traceback": [
      "\u001b[0;31m---------------------------------------------------------------------------\u001b[0m\n",
      "\u001b[0;31mNameError\u001b[0m                                 Traceback (most recent call last)\n",
      "\u001b[1;32m/home/araceli/code/energy-analysis-and-predictions/notebooks/load_data_test.ipynb Cell 54\u001b[0m in \u001b[0;36m1\n",
      "\u001b[0;32m----> <a href='vscode-notebook-cell://wsl%2Bubuntu/home/araceli/code/energy-analysis-and-predictions/notebooks/load_data_test.ipynb#Y103sdnNjb2RlLXJlbW90ZQ%3D%3D?line=0'>1</a>\u001b[0m electricity_flow[\u001b[39m'\u001b[39m\u001b[39mNorwegen (Export) [MWh] Berechnete Auflösungen\u001b[39m\u001b[39m'\u001b[39m]\u001b[39m.\u001b[39mvalue_counts(normalize\u001b[39m=\u001b[39m\u001b[39mTrue\u001b[39;00m)\n",
      "\n",
      "\u001b[0;31mNameError\u001b[0m: name 'electricity_flow' is not defined"
     ]
    }
   ],
   "source": [
    "electricity_flow['Norwegen (Export) [MWh] Berechnete Auflösungen'].value_counts(normalize=True)"
   ]
  },
  {
   "cell_type": "code",
   "execution_count": null,
   "metadata": {},
   "outputs": [
    {
     "data": {
      "text/plain": [
       "1460"
      ]
     },
     "metadata": {},
     "output_type": "display_data"
    }
   ],
   "source": [
    "total_data_days = (2022-2018)*365\n",
    "total_data_days"
   ]
  },
  {
   "cell_type": "code",
   "execution_count": null,
   "metadata": {},
   "outputs": [
    {
     "data": {
      "text/plain": [
       "35040"
      ]
     },
     "metadata": {},
     "output_type": "display_data"
    }
   ],
   "source": [
    "total_data_hours = (2022-2018)*365*24\n",
    "total_data_hours"
   ]
  },
  {
   "attachments": {},
   "cell_type": "markdown",
   "metadata": {},
   "source": [
    "# Power Plant data"
   ]
  },
  {
   "cell_type": "code",
   "execution_count": null,
   "metadata": {},
   "outputs": [
    {
     "data": {
      "text/plain": [
       "['Abwinden-Asten_202201010000_202212312359_Tag_1.csv',\n",
       " 'Abwinden-Asten_202201010000_202212312359_Tag_1.csv:Zone.Identifier',\n",
       " 'Altenw_rth_202201010000_202212312359_Tag_3.csv',\n",
       " 'Altenw_rth_202201010000_202212312359_Tag_3.csv:Zone.Identifier',\n",
       " 'Bergkamen_202201010000_202212312359_Tag_6.csv']"
      ]
     },
     "metadata": {},
     "output_type": "display_data"
    }
   ],
   "source": [
    "path = r'SMARD/power-plant-data-2022-Jan-to-Dec'\n",
    "power_plant_list = os.listdir(path)\n",
    "power_plant_list.sort()\n",
    "power_plant_list[0:5]"
   ]
  },
  {
   "cell_type": "code",
   "execution_count": null,
   "metadata": {},
   "outputs": [
    {
     "data": {
      "text/plain": [
       "226"
      ]
     },
     "metadata": {},
     "output_type": "display_data"
    }
   ],
   "source": [
    "len(power_plant_list)"
   ]
  },
  {
   "cell_type": "code",
   "execution_count": null,
   "metadata": {},
   "outputs": [],
   "source": [
    "test =  pd.read_csv('SMARD/power-plant-data-2022-Jan-to-Dec/Amrumbank_West_202201010000_202212312359_Tag_4.csv',delimiter=';', decimal=',') \n",
    "test"
   ]
  },
  {
   "cell_type": "code",
   "execution_count": null,
   "metadata": {},
   "outputs": [
    {
     "data": {
      "text/plain": [
       "(1, 4)"
      ]
     },
     "metadata": {},
     "output_type": "display_data"
    }
   ],
   "source": [
    "test.shape"
   ]
  },
  {
   "cell_type": "code",
   "execution_count": null,
   "metadata": {},
   "outputs": [],
   "source": [
    "test2 = pd.read_csv('SMARD/power-plant-data-2022-Jan-to-Dec/Pumpspeicherkraftwerk_Vianden_202201010000_202212312359_Tag_137.csv', delimiter=';', decimal=',') \n",
    "test2.head()"
   ]
  },
  {
   "cell_type": "code",
   "execution_count": null,
   "metadata": {},
   "outputs": [],
   "source": [
    "num_cols = test2.columns[3:len(test2)]"
   ]
  },
  {
   "cell_type": "code",
   "execution_count": null,
   "metadata": {},
   "outputs": [],
   "source": [
    "def convert_str_to_float(text):\n",
    "    if text == '-':\n",
    "        return 0\n",
    "    else:\n",
    "        text=text.replace(',','.')\n",
    "        return float(text)"
   ]
  },
  {
   "cell_type": "code",
   "execution_count": null,
   "metadata": {},
   "outputs": [],
   "source": [
    "test2['Generation_DE Maschine 9 [MW] Berechnete Auflösungen']=test2['Generation_DE Maschine 9 [MW] Berechnete Auflösungen'].apply(from_str_to_float)"
   ]
  },
  {
   "cell_type": "code",
   "execution_count": null,
   "metadata": {},
   "outputs": [
    {
     "data": {
      "text/plain": [
       "0    148.0\n",
       "1      0.0\n",
       "2    257.0\n",
       "3    210.0\n",
       "4      0.0\n",
       "Name: Generation_DE Maschine 9 [MW] Berechnete Auflösungen, dtype: float64"
      ]
     },
     "metadata": {},
     "output_type": "display_data"
    }
   ],
   "source": [
    "test2['Generation_DE Maschine 9 [MW] Berechnete Auflösungen'].head()"
   ]
  },
  {
   "cell_type": "code",
   "execution_count": null,
   "metadata": {},
   "outputs": [],
   "source": [
    "for col in num_cols:\n",
    "    test2[col] = test2[col].apply(convert_str_to_float)  "
   ]
  },
  {
   "cell_type": "code",
   "execution_count": null,
   "metadata": {},
   "outputs": [
    {
     "data": {
      "text/plain": [
       "Datum                                                     object\n",
       "Anfang                                                    object\n",
       "Ende                                                      object\n",
       "Generation_DE Maschine 9 [MW] Berechnete Auflösungen     float64\n",
       "Generation_DE Maschine 8 [MW] Berechnete Auflösungen     float64\n",
       "Generation_DE Maschine 2 [MW] Berechnete Auflösungen     float64\n",
       "Generation_DE Maschine 3 [MW] Berechnete Auflösungen     float64\n",
       "Generation_DE Maschine 4 [MW] Berechnete Auflösungen     float64\n",
       "Generation_DE Maschine 7 [MW] Berechnete Auflösungen     float64\n",
       "Generation_DE Maschine 1 [MW] Berechnete Auflösungen     float64\n",
       "Generation_DE Maschine 5 [MW] Berechnete Auflösungen     float64\n",
       "Generation_DE Maschine 6 [MW] Berechnete Auflösungen     float64\n",
       "Generation_DE Maschine 10 [MW] Berechnete Auflösungen    float64\n",
       "Generation_DE Maschine 11 [MW] Berechnete Auflösungen    float64\n",
       "dtype: object"
      ]
     },
     "metadata": {},
     "output_type": "display_data"
    }
   ],
   "source": [
    "test2.dtypes"
   ]
  },
  {
   "cell_type": "code",
   "execution_count": null,
   "metadata": {},
   "outputs": [],
   "source": [
    "test2['Generation_DE [MW] Berechnete Auflösungen'] = test2.sum(numeric_only = True, axis =1)\n",
    "test2.head()"
   ]
  },
  {
   "cell_type": "code",
   "execution_count": null,
   "metadata": {},
   "outputs": [
    {
     "data": {
      "text/plain": [
       "2466.951"
      ]
     },
     "metadata": {},
     "output_type": "display_data"
    }
   ],
   "source": [
    "148.0 + 176.0+ 0.0+ 1.475+ 765.000+ 232.0+ 1.476+ 460.0\t+ 391.0+ 0.0+ 292.0\t"
   ]
  },
  {
   "cell_type": "code",
   "execution_count": null,
   "metadata": {},
   "outputs": [
    {
     "data": {
      "text/plain": [
       "str"
      ]
     },
     "metadata": {},
     "output_type": "display_data"
    }
   ],
   "source": [
    "type(test2['Generation_DE Maschine 9 [MW] Berechnete Auflösungen'][177])"
   ]
  },
  {
   "cell_type": "code",
   "execution_count": null,
   "metadata": {},
   "outputs": [
    {
     "data": {
      "text/plain": [
       "'-'"
      ]
     },
     "metadata": {},
     "output_type": "display_data"
    }
   ],
   "source": [
    "test2['Generation_DE Maschine 9 [MW] Berechnete Auflösungen'][178]"
   ]
  },
  {
   "cell_type": "code",
   "execution_count": null,
   "metadata": {},
   "outputs": [
    {
     "data": {
      "text/plain": [
       "230.0"
      ]
     },
     "metadata": {},
     "output_type": "display_data"
    }
   ],
   "source": [
    "float(test2['Generation_DE Maschine 9 [MW] Berechnete Auflösungen'][177])"
   ]
  },
  {
   "cell_type": "code",
   "execution_count": null,
   "metadata": {},
   "outputs": [
    {
     "data": {
      "text/html": [
       "<div>\n",
       "<style scoped>\n",
       "    .dataframe tbody tr th:only-of-type {\n",
       "        vertical-align: middle;\n",
       "    }\n",
       "\n",
       "    .dataframe tbody tr th {\n",
       "        vertical-align: top;\n",
       "    }\n",
       "\n",
       "    .dataframe thead th {\n",
       "        text-align: right;\n",
       "    }\n",
       "</style>\n",
       "<table border=\"1\" class=\"dataframe\">\n",
       "  <thead>\n",
       "    <tr style=\"text-align: right;\">\n",
       "      <th></th>\n",
       "      <th>Date</th>\n",
       "      <th>Start</th>\n",
       "      <th>End</th>\n",
       "      <th>Abwinden-Asten</th>\n",
       "    </tr>\n",
       "  </thead>\n",
       "  <tbody>\n",
       "    <tr>\n",
       "      <th>0</th>\n",
       "      <td>01.01.2022</td>\n",
       "      <td>00:00</td>\n",
       "      <td>00:00</td>\n",
       "      <td>3.906</td>\n",
       "    </tr>\n",
       "    <tr>\n",
       "      <th>1</th>\n",
       "      <td>02.01.2022</td>\n",
       "      <td>00:00</td>\n",
       "      <td>00:00</td>\n",
       "      <td>3.813</td>\n",
       "    </tr>\n",
       "    <tr>\n",
       "      <th>2</th>\n",
       "      <td>03.01.2022</td>\n",
       "      <td>00:00</td>\n",
       "      <td>00:00</td>\n",
       "      <td>3.479</td>\n",
       "    </tr>\n",
       "    <tr>\n",
       "      <th>3</th>\n",
       "      <td>04.01.2022</td>\n",
       "      <td>00:00</td>\n",
       "      <td>00:00</td>\n",
       "      <td>3.488</td>\n",
       "    </tr>\n",
       "    <tr>\n",
       "      <th>4</th>\n",
       "      <td>05.01.2022</td>\n",
       "      <td>00:00</td>\n",
       "      <td>00:00</td>\n",
       "      <td>3.667</td>\n",
       "    </tr>\n",
       "  </tbody>\n",
       "</table>\n",
       "</div>"
      ],
      "text/plain": [
       "         Date  Start    End Abwinden-Asten\n",
       "0  01.01.2022  00:00  00:00          3.906\n",
       "1  02.01.2022  00:00  00:00          3.813\n",
       "2  03.01.2022  00:00  00:00          3.479\n",
       "3  04.01.2022  00:00  00:00          3.488\n",
       "4  05.01.2022  00:00  00:00          3.667"
      ]
     },
     "metadata": {},
     "output_type": "display_data"
    }
   ],
   "source": [
    "# Take first company\n",
    "file1 = power_plant_list[0].split('_')[0]\n",
    "col = file1.split('_')[0]\n",
    "folder = path + '/' + power_plant_list[0]\n",
    "power_plant = pd.read_csv(folder, delimiter=';', decimal=',')\n",
    "power_plant.columns = ['Date', 'Start', 'End', col]\n",
    "power_plant.head()"
   ]
  },
  {
   "cell_type": "code",
   "execution_count": null,
   "metadata": {},
   "outputs": [
    {
     "data": {
      "text/plain": [
       "['Abwinden-Asten_202201010000_202212312359_Tag_1.csv',\n",
       " 'Ahrensfelde_202201010000_202212312359_Tag_2.csv',\n",
       " 'Ahrensfelde_202201010000_202212312359_Tag_2.csv:Zone.Identifier',\n",
       " 'Altenw_rth_202201010000_202212312359_Tag_3.csv',\n",
       " 'Altenw_rth_202201010000_202212312359_Tag_3.csv:Zone.Identifier']"
      ]
     },
     "metadata": {},
     "output_type": "display_data"
    }
   ],
   "source": [
    "power_plant_list.pop(1)\n",
    "power_plant_list[0:5]"
   ]
  },
  {
   "cell_type": "code",
   "execution_count": null,
   "metadata": {},
   "outputs": [
    {
     "data": {
      "text/html": [
       "<div>\n",
       "<style scoped>\n",
       "    .dataframe tbody tr th:only-of-type {\n",
       "        vertical-align: middle;\n",
       "    }\n",
       "\n",
       "    .dataframe tbody tr th {\n",
       "        vertical-align: top;\n",
       "    }\n",
       "\n",
       "    .dataframe thead th {\n",
       "        text-align: right;\n",
       "    }\n",
       "</style>\n",
       "<table border=\"1\" class=\"dataframe\">\n",
       "  <thead>\n",
       "    <tr style=\"text-align: right;\">\n",
       "      <th></th>\n",
       "      <th>Datum</th>\n",
       "      <th>Anfang</th>\n",
       "      <th>Ende</th>\n",
       "      <th>Generation_DE  [MW] Berechnete Auflösungen</th>\n",
       "    </tr>\n",
       "  </thead>\n",
       "  <tbody>\n",
       "    <tr>\n",
       "      <th>0</th>\n",
       "      <td>01.01.2022</td>\n",
       "      <td>00:00</td>\n",
       "      <td>00:00</td>\n",
       "      <td>3.906</td>\n",
       "    </tr>\n",
       "    <tr>\n",
       "      <th>1</th>\n",
       "      <td>02.01.2022</td>\n",
       "      <td>00:00</td>\n",
       "      <td>00:00</td>\n",
       "      <td>3.813</td>\n",
       "    </tr>\n",
       "    <tr>\n",
       "      <th>2</th>\n",
       "      <td>03.01.2022</td>\n",
       "      <td>00:00</td>\n",
       "      <td>00:00</td>\n",
       "      <td>3.479</td>\n",
       "    </tr>\n",
       "    <tr>\n",
       "      <th>3</th>\n",
       "      <td>04.01.2022</td>\n",
       "      <td>00:00</td>\n",
       "      <td>00:00</td>\n",
       "      <td>3.488</td>\n",
       "    </tr>\n",
       "    <tr>\n",
       "      <th>4</th>\n",
       "      <td>05.01.2022</td>\n",
       "      <td>00:00</td>\n",
       "      <td>00:00</td>\n",
       "      <td>3.667</td>\n",
       "    </tr>\n",
       "  </tbody>\n",
       "</table>\n",
       "</div>"
      ],
      "text/plain": [
       "        Datum Anfang   Ende Generation_DE  [MW] Berechnete Auflösungen\n",
       "0  01.01.2022  00:00  00:00                                      3.906\n",
       "1  02.01.2022  00:00  00:00                                      3.813\n",
       "2  03.01.2022  00:00  00:00                                      3.479\n",
       "3  04.01.2022  00:00  00:00                                      3.488\n",
       "4  05.01.2022  00:00  00:00                                      3.667"
      ]
     },
     "metadata": {},
     "output_type": "display_data"
    }
   ],
   "source": [
    "for file in power_plant_list:\n",
    "    col = file.split('_')[0]\n",
    "    folder = path + '/' + file\n",
    "    df = pd.read_csv(folder, delimiter=';', decimal=',')\n",
    "    \n",
    "    if df.shape[0] > 1:\n",
    "        if df.shape[2] > 4:\n",
    "            num_cols =  df.columns[3:len(test2)]\n",
    "            for col in num_cols:\n",
    "                test2[col] = test2[col].apply(convert_str_to_float)  \n",
    "            df['Generation_DE [MW] Berechnete Auflösungen'] = df.sum(numeric_only = True, axis =1)\n",
    "        data_name = 'Generation_DE [MW] Berechnete Auflösungen' \n",
    "        for i in df.columns:\n",
    "            if 'Berechnete Auflösungen' in i:\n",
    "                data_name = i\n",
    "        power_plant[col] = df[data_name]\n",
    "    else:\n",
    "        print(f'Company {col} data is empty')\n"
   ]
  },
  {
   "cell_type": "code",
   "execution_count": null,
   "metadata": {},
   "outputs": [],
   "source": [
    "power_plant_dict= {\n",
    "    'Laufwasser': ['Abwinden-Asten'],\n",
    "    'Erdgas' : ['Ahrensfelde']    \n",
    "}\n",
    "    "
   ]
  },
  {
   "cell_type": "code",
   "execution_count": null,
   "metadata": {},
   "outputs": [
    {
     "data": {
      "text/html": [
       "<div>\n",
       "<style scoped>\n",
       "    .dataframe tbody tr th:only-of-type {\n",
       "        vertical-align: middle;\n",
       "    }\n",
       "\n",
       "    .dataframe tbody tr th {\n",
       "        vertical-align: top;\n",
       "    }\n",
       "\n",
       "    .dataframe thead th {\n",
       "        text-align: right;\n",
       "    }\n",
       "</style>\n",
       "<table border=\"1\" class=\"dataframe\">\n",
       "  <thead>\n",
       "    <tr style=\"text-align: right;\">\n",
       "      <th></th>\n",
       "      <th>Name</th>\n",
       "      <th>Place</th>\n",
       "      <th>Energy_Source</th>\n",
       "      <th>Rated_capacity</th>\n",
       "    </tr>\n",
       "  </thead>\n",
       "  <tbody>\n",
       "    <tr>\n",
       "      <th>0</th>\n",
       "      <td>Abfallentsorgungszentrum Asdonkshof</td>\n",
       "      <td>Kamp-Lintfort</td>\n",
       "      <td>Abfall</td>\n",
       "      <td>20.8 MW</td>\n",
       "    </tr>\n",
       "    <tr>\n",
       "      <th>1</th>\n",
       "      <td>Abfallheizkraftwerk Neunkirchen</td>\n",
       "      <td>Neunkirchen</td>\n",
       "      <td>Abfall</td>\n",
       "      <td>11.6 MW</td>\n",
       "    </tr>\n",
       "    <tr>\n",
       "      <th>2</th>\n",
       "      <td>AMK - Abfallentsorgungsgesellschaft des Maerki...</td>\n",
       "      <td>Iserlohn</td>\n",
       "      <td>Abfall</td>\n",
       "      <td>12.6 MW</td>\n",
       "    </tr>\n",
       "    <tr>\n",
       "      <th>3</th>\n",
       "      <td>AVA GmbH</td>\n",
       "      <td>Augsburg</td>\n",
       "      <td>Abfall</td>\n",
       "      <td>10 MW</td>\n",
       "    </tr>\n",
       "    <tr>\n",
       "      <th>4</th>\n",
       "      <td>AVA Velsen</td>\n",
       "      <td>Saarbruecken</td>\n",
       "      <td>Abfall</td>\n",
       "      <td>16 MW</td>\n",
       "    </tr>\n",
       "  </tbody>\n",
       "</table>\n",
       "</div>"
      ],
      "text/plain": [
       "                                                Name           Place  \\\n",
       "0               Abfallentsorgungszentrum Asdonkshof   Kamp-Lintfort    \n",
       "1                   Abfallheizkraftwerk Neunkirchen     Neunkirchen    \n",
       "2  AMK - Abfallentsorgungsgesellschaft des Maerki...       Iserlohn    \n",
       "3                                          AVA GmbH        Augsburg    \n",
       "4                                        AVA Velsen    Saarbruecken    \n",
       "\n",
       "  Energy_Source Rated_capacity  \n",
       "0       Abfall        20.8 MW   \n",
       "1       Abfall        11.6 MW   \n",
       "2       Abfall        12.6 MW   \n",
       "3       Abfall          10 MW   \n",
       "4       Abfall          16 MW   "
      ]
     },
     "metadata": {},
     "output_type": "display_data"
    }
   ],
   "source": [
    "\n",
    "test2 = pd.read_csv('Powerplant_types/Powerplant_types_v4.csv',delimiter = \",\", encoding = \"utf-8\") \n",
    "test2.head()"
   ]
  },
  {
   "cell_type": "code",
   "execution_count": null,
   "metadata": {},
   "outputs": [
    {
     "data": {
      "text/plain": [
       "Erdgas                                     269\n",
       "Laufwasser                                 104\n",
       "Wind (Onshore)                              90\n",
       "Steinkohle                                  80\n",
       "Photovoltaik                                63\n",
       "Biomasse                                    56\n",
       "Abfall                                      45\n",
       "Braunkohle                                  28\n",
       "Pumpspeicher                                28\n",
       "Wind (Offshore)                             28\n",
       "Sonstige konventionelle Energietraeger      25\n",
       "Mineraloelprodukte                          23\n",
       "Speicherwasser (ohne Pumpspeicher)          21\n",
       "Batteriespeicher                            15\n",
       "Kernenergie                                  8\n",
       "Steinkohle - Heizoel                         1\n",
       "Biomasse                                     1\n",
       "Waerme                                       1\n",
       "Erdgas – Heizoel                             1\n",
       "Name: Energy_Source, dtype: int64"
      ]
     },
     "metadata": {},
     "output_type": "display_data"
    }
   ],
   "source": [
    "test2['Energy_Source'].value_counts()"
   ]
  }
 ],
 "metadata": {
  "kernelspec": {
   "display_name": "lewagon",
   "language": "python",
   "name": "python3"
  },
  "language_info": {
   "codemirror_mode": {
    "name": "ipython",
    "version": 3
   },
   "file_extension": ".py",
   "mimetype": "text/x-python",
   "name": "python",
   "nbconvert_exporter": "python",
   "pygments_lexer": "ipython3",
   "version": "3.10.6"
  },
  "orig_nbformat": 4
 },
 "nbformat": 4,
 "nbformat_minor": 2
}
