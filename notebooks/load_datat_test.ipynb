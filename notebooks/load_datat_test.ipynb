{
 "cells": [
  {
   "cell_type": "markdown",
   "metadata": {},
   "source": [
    "## Imports"
   ]
  },
  {
   "attachments": {},
   "cell_type": "markdown",
   "metadata": {},
   "source": [
    "# Energy market data from 1st Januar 2018 to 31 December 2018 per day"
   ]
  },
  {
   "cell_type": "code",
   "execution_count": 1,
   "metadata": {},
   "outputs": [],
   "source": [
    "import numpy as np\n",
    "import pandas as pd\n",
    "import matplotlib.pyplot as plt\n",
    "import os"
   ]
  },
  {
   "attachments": {},
   "cell_type": "markdown",
   "metadata": {},
   "source": [
    "## Investigate Data from wholesale price (Großhandelspreis)"
   ]
  },
  {
   "cell_type": "code",
   "execution_count": 2,
   "metadata": {},
   "outputs": [
    {
     "data": {
      "text/html": [
       "<div>\n",
       "<style scoped>\n",
       "    .dataframe tbody tr th:only-of-type {\n",
       "        vertical-align: middle;\n",
       "    }\n",
       "\n",
       "    .dataframe tbody tr th {\n",
       "        vertical-align: top;\n",
       "    }\n",
       "\n",
       "    .dataframe thead th {\n",
       "        text-align: right;\n",
       "    }\n",
       "</style>\n",
       "<table border=\"1\" class=\"dataframe\">\n",
       "  <thead>\n",
       "    <tr style=\"text-align: right;\">\n",
       "      <th></th>\n",
       "      <th>Datum</th>\n",
       "      <th>Anfang</th>\n",
       "      <th>Ende</th>\n",
       "      <th>Deutschland/Luxemburg [€/MWh] Berechnete Auflösungen</th>\n",
       "      <th>∅ Anrainer DE/LU [€/MWh] Berechnete Auflösungen</th>\n",
       "      <th>Belgien [€/MWh] Berechnete Auflösungen</th>\n",
       "      <th>Dänemark 1 [€/MWh] Berechnete Auflösungen</th>\n",
       "      <th>Dänemark 2 [€/MWh] Berechnete Auflösungen</th>\n",
       "      <th>Frankreich [€/MWh] Berechnete Auflösungen</th>\n",
       "      <th>Niederlande [€/MWh] Berechnete Auflösungen</th>\n",
       "      <th>Norwegen 2 [€/MWh] Berechnete Auflösungen</th>\n",
       "      <th>Österreich [€/MWh] Berechnete Auflösungen</th>\n",
       "      <th>Polen [€/MWh] Berechnete Auflösungen</th>\n",
       "      <th>Schweden 4 [€/MWh] Berechnete Auflösungen</th>\n",
       "      <th>Schweiz [€/MWh] Berechnete Auflösungen</th>\n",
       "      <th>Tschechien [€/MWh] Berechnete Auflösungen</th>\n",
       "      <th>DE/AT/LU [€/MWh] Berechnete Auflösungen</th>\n",
       "      <th>Italien (Nord) [€/MWh] Berechnete Auflösungen</th>\n",
       "      <th>Slowenien [€/MWh] Berechnete Auflösungen</th>\n",
       "      <th>Ungarn [€/MWh] Berechnete Auflösungen</th>\n",
       "    </tr>\n",
       "  </thead>\n",
       "  <tbody>\n",
       "    <tr>\n",
       "      <th>0</th>\n",
       "      <td>01.01.2020</td>\n",
       "      <td>00:00</td>\n",
       "      <td>00:00</td>\n",
       "      <td>34.96</td>\n",
       "      <td>32.44</td>\n",
       "      <td>35.45</td>\n",
       "      <td>30.99</td>\n",
       "      <td>30.99</td>\n",
       "      <td>35.21</td>\n",
       "      <td>34.58</td>\n",
       "      <td>30.94</td>\n",
       "      <td>35.03</td>\n",
       "      <td>33.46</td>\n",
       "      <td>27.74</td>\n",
       "      <td>31.82</td>\n",
       "      <td>32.12</td>\n",
       "      <td>-</td>\n",
       "      <td>35.57</td>\n",
       "      <td>35.26</td>\n",
       "      <td>32.14</td>\n",
       "    </tr>\n",
       "    <tr>\n",
       "      <th>1</th>\n",
       "      <td>02.01.2020</td>\n",
       "      <td>00:00</td>\n",
       "      <td>00:00</td>\n",
       "      <td>38.87</td>\n",
       "      <td>37.17</td>\n",
       "      <td>38.99</td>\n",
       "      <td>30.58</td>\n",
       "      <td>38.35</td>\n",
       "      <td>39.46</td>\n",
       "      <td>38.78</td>\n",
       "      <td>30.82</td>\n",
       "      <td>40.14</td>\n",
       "      <td>38.65</td>\n",
       "      <td>26.77</td>\n",
       "      <td>39.17</td>\n",
       "      <td>42.63</td>\n",
       "      <td>-</td>\n",
       "      <td>42.71</td>\n",
       "      <td>42.71</td>\n",
       "      <td>50.43</td>\n",
       "    </tr>\n",
       "    <tr>\n",
       "      <th>2</th>\n",
       "      <td>03.01.2020</td>\n",
       "      <td>00:00</td>\n",
       "      <td>00:00</td>\n",
       "      <td>26.11</td>\n",
       "      <td>33.08</td>\n",
       "      <td>37.77</td>\n",
       "      <td>23.24</td>\n",
       "      <td>25.88</td>\n",
       "      <td>36.84</td>\n",
       "      <td>37.25</td>\n",
       "      <td>29.21</td>\n",
       "      <td>38.11</td>\n",
       "      <td>36.54</td>\n",
       "      <td>22.64</td>\n",
       "      <td>40.17</td>\n",
       "      <td>37.05</td>\n",
       "      <td>-</td>\n",
       "      <td>41.09</td>\n",
       "      <td>41.13</td>\n",
       "      <td>51.20</td>\n",
       "    </tr>\n",
       "    <tr>\n",
       "      <th>3</th>\n",
       "      <td>04.01.2020</td>\n",
       "      <td>00:00</td>\n",
       "      <td>00:00</td>\n",
       "      <td>20.32</td>\n",
       "      <td>29.09</td>\n",
       "      <td>35.65</td>\n",
       "      <td>19.67</td>\n",
       "      <td>19.85</td>\n",
       "      <td>34.34</td>\n",
       "      <td>33.76</td>\n",
       "      <td>28.88</td>\n",
       "      <td>33.27</td>\n",
       "      <td>36.31</td>\n",
       "      <td>21.17</td>\n",
       "      <td>35.40</td>\n",
       "      <td>28.04</td>\n",
       "      <td>-</td>\n",
       "      <td>41.35</td>\n",
       "      <td>42.24</td>\n",
       "      <td>40.73</td>\n",
       "    </tr>\n",
       "    <tr>\n",
       "      <th>4</th>\n",
       "      <td>05.01.2020</td>\n",
       "      <td>00:00</td>\n",
       "      <td>00:00</td>\n",
       "      <td>35.55</td>\n",
       "      <td>34.12</td>\n",
       "      <td>36.26</td>\n",
       "      <td>30.75</td>\n",
       "      <td>32.68</td>\n",
       "      <td>36.05</td>\n",
       "      <td>35.18</td>\n",
       "      <td>30.70</td>\n",
       "      <td>35.70</td>\n",
       "      <td>34.58</td>\n",
       "      <td>29.65</td>\n",
       "      <td>37.71</td>\n",
       "      <td>34.78</td>\n",
       "      <td>-</td>\n",
       "      <td>38.06</td>\n",
       "      <td>37.90</td>\n",
       "      <td>36.19</td>\n",
       "    </tr>\n",
       "  </tbody>\n",
       "</table>\n",
       "</div>"
      ],
      "text/plain": [
       "        Datum Anfang   Ende  \\\n",
       "0  01.01.2020  00:00  00:00   \n",
       "1  02.01.2020  00:00  00:00   \n",
       "2  03.01.2020  00:00  00:00   \n",
       "3  04.01.2020  00:00  00:00   \n",
       "4  05.01.2020  00:00  00:00   \n",
       "\n",
       "   Deutschland/Luxemburg [€/MWh] Berechnete Auflösungen  \\\n",
       "0                                              34.96      \n",
       "1                                              38.87      \n",
       "2                                              26.11      \n",
       "3                                              20.32      \n",
       "4                                              35.55      \n",
       "\n",
       "   ∅ Anrainer DE/LU [€/MWh] Berechnete Auflösungen  \\\n",
       "0                                            32.44   \n",
       "1                                            37.17   \n",
       "2                                            33.08   \n",
       "3                                            29.09   \n",
       "4                                            34.12   \n",
       "\n",
       "   Belgien [€/MWh] Berechnete Auflösungen  \\\n",
       "0                                   35.45   \n",
       "1                                   38.99   \n",
       "2                                   37.77   \n",
       "3                                   35.65   \n",
       "4                                   36.26   \n",
       "\n",
       "   Dänemark 1 [€/MWh] Berechnete Auflösungen  \\\n",
       "0                                      30.99   \n",
       "1                                      30.58   \n",
       "2                                      23.24   \n",
       "3                                      19.67   \n",
       "4                                      30.75   \n",
       "\n",
       "   Dänemark 2 [€/MWh] Berechnete Auflösungen  \\\n",
       "0                                      30.99   \n",
       "1                                      38.35   \n",
       "2                                      25.88   \n",
       "3                                      19.85   \n",
       "4                                      32.68   \n",
       "\n",
       "   Frankreich [€/MWh] Berechnete Auflösungen  \\\n",
       "0                                      35.21   \n",
       "1                                      39.46   \n",
       "2                                      36.84   \n",
       "3                                      34.34   \n",
       "4                                      36.05   \n",
       "\n",
       "   Niederlande [€/MWh] Berechnete Auflösungen  \\\n",
       "0                                       34.58   \n",
       "1                                       38.78   \n",
       "2                                       37.25   \n",
       "3                                       33.76   \n",
       "4                                       35.18   \n",
       "\n",
       "   Norwegen 2 [€/MWh] Berechnete Auflösungen  \\\n",
       "0                                      30.94   \n",
       "1                                      30.82   \n",
       "2                                      29.21   \n",
       "3                                      28.88   \n",
       "4                                      30.70   \n",
       "\n",
       "   Österreich [€/MWh] Berechnete Auflösungen  \\\n",
       "0                                      35.03   \n",
       "1                                      40.14   \n",
       "2                                      38.11   \n",
       "3                                      33.27   \n",
       "4                                      35.70   \n",
       "\n",
       "   Polen [€/MWh] Berechnete Auflösungen  \\\n",
       "0                                 33.46   \n",
       "1                                 38.65   \n",
       "2                                 36.54   \n",
       "3                                 36.31   \n",
       "4                                 34.58   \n",
       "\n",
       "   Schweden 4 [€/MWh] Berechnete Auflösungen  \\\n",
       "0                                      27.74   \n",
       "1                                      26.77   \n",
       "2                                      22.64   \n",
       "3                                      21.17   \n",
       "4                                      29.65   \n",
       "\n",
       "   Schweiz [€/MWh] Berechnete Auflösungen  \\\n",
       "0                                   31.82   \n",
       "1                                   39.17   \n",
       "2                                   40.17   \n",
       "3                                   35.40   \n",
       "4                                   37.71   \n",
       "\n",
       "   Tschechien [€/MWh] Berechnete Auflösungen  \\\n",
       "0                                      32.12   \n",
       "1                                      42.63   \n",
       "2                                      37.05   \n",
       "3                                      28.04   \n",
       "4                                      34.78   \n",
       "\n",
       "  DE/AT/LU [€/MWh] Berechnete Auflösungen  \\\n",
       "0                                       -   \n",
       "1                                       -   \n",
       "2                                       -   \n",
       "3                                       -   \n",
       "4                                       -   \n",
       "\n",
       "   Italien (Nord) [€/MWh] Berechnete Auflösungen  \\\n",
       "0                                          35.57   \n",
       "1                                          42.71   \n",
       "2                                          41.09   \n",
       "3                                          41.35   \n",
       "4                                          38.06   \n",
       "\n",
       "   Slowenien [€/MWh] Berechnete Auflösungen  \\\n",
       "0                                     35.26   \n",
       "1                                     42.71   \n",
       "2                                     41.13   \n",
       "3                                     42.24   \n",
       "4                                     37.90   \n",
       "\n",
       "   Ungarn [€/MWh] Berechnete Auflösungen  \n",
       "0                                  32.14  \n",
       "1                                  50.43  \n",
       "2                                  51.20  \n",
       "3                                  40.73  \n",
       "4                                  36.19  "
      ]
     },
     "execution_count": 2,
     "metadata": {},
     "output_type": "execute_result"
    }
   ],
   "source": [
    "wholesale_price = pd.read_csv('SMARD/data-prices/Gro_handelspreise_2020_01_01_2020_12_31_Tag.csv', delimiter=';', decimal=',')\n",
    "wholesale_price.head()"
   ]
  },
  {
   "cell_type": "code",
   "execution_count": 3,
   "metadata": {},
   "outputs": [
    {
     "data": {
      "text/html": [
       "<div>\n",
       "<style scoped>\n",
       "    .dataframe tbody tr th:only-of-type {\n",
       "        vertical-align: middle;\n",
       "    }\n",
       "\n",
       "    .dataframe tbody tr th {\n",
       "        vertical-align: top;\n",
       "    }\n",
       "\n",
       "    .dataframe thead th {\n",
       "        text-align: right;\n",
       "    }\n",
       "</style>\n",
       "<table border=\"1\" class=\"dataframe\">\n",
       "  <thead>\n",
       "    <tr style=\"text-align: right;\">\n",
       "      <th></th>\n",
       "      <th>Datum</th>\n",
       "      <th>Anfang</th>\n",
       "      <th>Ende</th>\n",
       "      <th>Deutschland/Luxemburg [€/MWh] Berechnete Auflösungen</th>\n",
       "      <th>∅ Anrainer DE/LU [€/MWh] Berechnete Auflösungen</th>\n",
       "      <th>Belgien [€/MWh] Berechnete Auflösungen</th>\n",
       "      <th>Dänemark 1 [€/MWh] Berechnete Auflösungen</th>\n",
       "      <th>Dänemark 2 [€/MWh] Berechnete Auflösungen</th>\n",
       "      <th>Frankreich [€/MWh] Berechnete Auflösungen</th>\n",
       "      <th>Niederlande [€/MWh] Berechnete Auflösungen</th>\n",
       "      <th>Norwegen 2 [€/MWh] Berechnete Auflösungen</th>\n",
       "      <th>Österreich [€/MWh] Berechnete Auflösungen</th>\n",
       "      <th>Polen [€/MWh] Berechnete Auflösungen</th>\n",
       "      <th>Schweden 4 [€/MWh] Berechnete Auflösungen</th>\n",
       "      <th>Schweiz [€/MWh] Berechnete Auflösungen</th>\n",
       "      <th>Tschechien [€/MWh] Berechnete Auflösungen</th>\n",
       "      <th>DE/AT/LU [€/MWh] Berechnete Auflösungen</th>\n",
       "      <th>Italien (Nord) [€/MWh] Berechnete Auflösungen</th>\n",
       "      <th>Slowenien [€/MWh] Berechnete Auflösungen</th>\n",
       "      <th>Ungarn [€/MWh] Berechnete Auflösungen</th>\n",
       "    </tr>\n",
       "  </thead>\n",
       "  <tbody>\n",
       "    <tr>\n",
       "      <th>0</th>\n",
       "      <td>01.01.2018</td>\n",
       "      <td>00:00</td>\n",
       "      <td>00:00</td>\n",
       "      <td>-</td>\n",
       "      <td>-</td>\n",
       "      <td>4.67</td>\n",
       "      <td>21.91</td>\n",
       "      <td>23.97</td>\n",
       "      <td>2.66</td>\n",
       "      <td>29.52</td>\n",
       "      <td>26.04</td>\n",
       "      <td>-</td>\n",
       "      <td>-</td>\n",
       "      <td>24.46</td>\n",
       "      <td>17.12</td>\n",
       "      <td>-3.15</td>\n",
       "      <td>-25,3</td>\n",
       "      <td>45.34</td>\n",
       "      <td>-7,3</td>\n",
       "      <td>6,57</td>\n",
       "    </tr>\n",
       "    <tr>\n",
       "      <th>1</th>\n",
       "      <td>02.01.2018</td>\n",
       "      <td>00:00</td>\n",
       "      <td>00:00</td>\n",
       "      <td>-</td>\n",
       "      <td>-</td>\n",
       "      <td>32.02</td>\n",
       "      <td>30.67</td>\n",
       "      <td>32.29</td>\n",
       "      <td>32.25</td>\n",
       "      <td>37.11</td>\n",
       "      <td>31.79</td>\n",
       "      <td>-</td>\n",
       "      <td>-</td>\n",
       "      <td>31.62</td>\n",
       "      <td>45.09</td>\n",
       "      <td>33.38</td>\n",
       "      <td>33,44</td>\n",
       "      <td>39.96</td>\n",
       "      <td>35,58</td>\n",
       "      <td>33,38</td>\n",
       "    </tr>\n",
       "    <tr>\n",
       "      <th>2</th>\n",
       "      <td>03.01.2018</td>\n",
       "      <td>00:00</td>\n",
       "      <td>00:00</td>\n",
       "      <td>-</td>\n",
       "      <td>-</td>\n",
       "      <td>23.06</td>\n",
       "      <td>21.01</td>\n",
       "      <td>21.71</td>\n",
       "      <td>16.52</td>\n",
       "      <td>36.67</td>\n",
       "      <td>28.32</td>\n",
       "      <td>-</td>\n",
       "      <td>-</td>\n",
       "      <td>28.80</td>\n",
       "      <td>47.84</td>\n",
       "      <td>25.37</td>\n",
       "      <td>8,97</td>\n",
       "      <td>52.24</td>\n",
       "      <td>50,22</td>\n",
       "      <td>30,02</td>\n",
       "    </tr>\n",
       "    <tr>\n",
       "      <th>3</th>\n",
       "      <td>04.01.2018</td>\n",
       "      <td>00:00</td>\n",
       "      <td>00:00</td>\n",
       "      <td>-</td>\n",
       "      <td>-</td>\n",
       "      <td>35.56</td>\n",
       "      <td>34.95</td>\n",
       "      <td>35.56</td>\n",
       "      <td>30.70</td>\n",
       "      <td>39.38</td>\n",
       "      <td>31.97</td>\n",
       "      <td>-</td>\n",
       "      <td>-</td>\n",
       "      <td>32.12</td>\n",
       "      <td>47.89</td>\n",
       "      <td>27.49</td>\n",
       "      <td>29,86</td>\n",
       "      <td>42.84</td>\n",
       "      <td>42,84</td>\n",
       "      <td>40,52</td>\n",
       "    </tr>\n",
       "    <tr>\n",
       "      <th>4</th>\n",
       "      <td>05.01.2018</td>\n",
       "      <td>00:00</td>\n",
       "      <td>00:00</td>\n",
       "      <td>-</td>\n",
       "      <td>-</td>\n",
       "      <td>34.89</td>\n",
       "      <td>35.89</td>\n",
       "      <td>38.10</td>\n",
       "      <td>34.01</td>\n",
       "      <td>36.59</td>\n",
       "      <td>31.18</td>\n",
       "      <td>-</td>\n",
       "      <td>-</td>\n",
       "      <td>32.26</td>\n",
       "      <td>44.32</td>\n",
       "      <td>30.49</td>\n",
       "      <td>31,51</td>\n",
       "      <td>51.38</td>\n",
       "      <td>34,72</td>\n",
       "      <td>36,03</td>\n",
       "    </tr>\n",
       "  </tbody>\n",
       "</table>\n",
       "</div>"
      ],
      "text/plain": [
       "        Datum Anfang   Ende  \\\n",
       "0  01.01.2018  00:00  00:00   \n",
       "1  02.01.2018  00:00  00:00   \n",
       "2  03.01.2018  00:00  00:00   \n",
       "3  04.01.2018  00:00  00:00   \n",
       "4  05.01.2018  00:00  00:00   \n",
       "\n",
       "  Deutschland/Luxemburg [€/MWh] Berechnete Auflösungen  \\\n",
       "0                                                  -     \n",
       "1                                                  -     \n",
       "2                                                  -     \n",
       "3                                                  -     \n",
       "4                                                  -     \n",
       "\n",
       "  ∅ Anrainer DE/LU [€/MWh] Berechnete Auflösungen  \\\n",
       "0                                               -   \n",
       "1                                               -   \n",
       "2                                               -   \n",
       "3                                               -   \n",
       "4                                               -   \n",
       "\n",
       "   Belgien [€/MWh] Berechnete Auflösungen  \\\n",
       "0                                    4.67   \n",
       "1                                   32.02   \n",
       "2                                   23.06   \n",
       "3                                   35.56   \n",
       "4                                   34.89   \n",
       "\n",
       "   Dänemark 1 [€/MWh] Berechnete Auflösungen  \\\n",
       "0                                      21.91   \n",
       "1                                      30.67   \n",
       "2                                      21.01   \n",
       "3                                      34.95   \n",
       "4                                      35.89   \n",
       "\n",
       "   Dänemark 2 [€/MWh] Berechnete Auflösungen  \\\n",
       "0                                      23.97   \n",
       "1                                      32.29   \n",
       "2                                      21.71   \n",
       "3                                      35.56   \n",
       "4                                      38.10   \n",
       "\n",
       "   Frankreich [€/MWh] Berechnete Auflösungen  \\\n",
       "0                                       2.66   \n",
       "1                                      32.25   \n",
       "2                                      16.52   \n",
       "3                                      30.70   \n",
       "4                                      34.01   \n",
       "\n",
       "   Niederlande [€/MWh] Berechnete Auflösungen  \\\n",
       "0                                       29.52   \n",
       "1                                       37.11   \n",
       "2                                       36.67   \n",
       "3                                       39.38   \n",
       "4                                       36.59   \n",
       "\n",
       "   Norwegen 2 [€/MWh] Berechnete Auflösungen  \\\n",
       "0                                      26.04   \n",
       "1                                      31.79   \n",
       "2                                      28.32   \n",
       "3                                      31.97   \n",
       "4                                      31.18   \n",
       "\n",
       "  Österreich [€/MWh] Berechnete Auflösungen  \\\n",
       "0                                         -   \n",
       "1                                         -   \n",
       "2                                         -   \n",
       "3                                         -   \n",
       "4                                         -   \n",
       "\n",
       "  Polen [€/MWh] Berechnete Auflösungen  \\\n",
       "0                                    -   \n",
       "1                                    -   \n",
       "2                                    -   \n",
       "3                                    -   \n",
       "4                                    -   \n",
       "\n",
       "   Schweden 4 [€/MWh] Berechnete Auflösungen  \\\n",
       "0                                      24.46   \n",
       "1                                      31.62   \n",
       "2                                      28.80   \n",
       "3                                      32.12   \n",
       "4                                      32.26   \n",
       "\n",
       "   Schweiz [€/MWh] Berechnete Auflösungen  \\\n",
       "0                                   17.12   \n",
       "1                                   45.09   \n",
       "2                                   47.84   \n",
       "3                                   47.89   \n",
       "4                                   44.32   \n",
       "\n",
       "   Tschechien [€/MWh] Berechnete Auflösungen  \\\n",
       "0                                      -3.15   \n",
       "1                                      33.38   \n",
       "2                                      25.37   \n",
       "3                                      27.49   \n",
       "4                                      30.49   \n",
       "\n",
       "  DE/AT/LU [€/MWh] Berechnete Auflösungen  \\\n",
       "0                                   -25,3   \n",
       "1                                   33,44   \n",
       "2                                    8,97   \n",
       "3                                   29,86   \n",
       "4                                   31,51   \n",
       "\n",
       "   Italien (Nord) [€/MWh] Berechnete Auflösungen  \\\n",
       "0                                          45.34   \n",
       "1                                          39.96   \n",
       "2                                          52.24   \n",
       "3                                          42.84   \n",
       "4                                          51.38   \n",
       "\n",
       "  Slowenien [€/MWh] Berechnete Auflösungen  \\\n",
       "0                                     -7,3   \n",
       "1                                    35,58   \n",
       "2                                    50,22   \n",
       "3                                    42,84   \n",
       "4                                    34,72   \n",
       "\n",
       "  Ungarn [€/MWh] Berechnete Auflösungen  \n",
       "0                                  6,57  \n",
       "1                                 33,38  \n",
       "2                                 30,02  \n",
       "3                                 40,52  \n",
       "4                                 36,03  "
      ]
     },
     "execution_count": 3,
     "metadata": {},
     "output_type": "execute_result"
    }
   ],
   "source": [
    "wholesale_price = pd.read_csv('SMARD/data-prices/Gro_handelspreise_2018_01_01_2018_12_31_Tag.csv', delimiter=';', decimal=',')\n",
    "wholesale_price.head()"
   ]
  },
  {
   "cell_type": "code",
   "execution_count": 4,
   "metadata": {},
   "outputs": [
    {
     "data": {
      "text/plain": [
       "(365, 20)"
      ]
     },
     "execution_count": 4,
     "metadata": {},
     "output_type": "execute_result"
    }
   ],
   "source": [
    "wholesale_price.shape"
   ]
  },
  {
   "cell_type": "code",
   "execution_count": 12,
   "metadata": {},
   "outputs": [],
   "source": [
    "wholesale_price.columns= ['Date', 'Start', 'End',\n",
    "         'Germany/Luxembourg [€/MWh] Calculated resolutions',\n",
    "         '∅ residents DE/LU [€/MWh] calculated resolutions',\n",
    "         'Belgium [€/MWh] Calculated resolutions',\n",
    "         'Denmark 1 [€/MWh] Calculated resolutions',\n",
    "         'Denmark 2 [€/MWh] Calculated resolutions',\n",
    "         'France [€/MWh] Calculated resolutions',\n",
    "         'Netherlands [€/MWh] Calculated resolutions',\n",
    "         'Norway 2 [€/MWh] Calculated resolutions',\n",
    "         'Austria [€/MWh] Calculated resolutions',\n",
    "         'Poland [€/MWh] Calculated Resolutions',\n",
    "         'Sweden 4 [€/MWh] Calculated resolutions',\n",
    "         'Switzerland [€/MWh] Calculated resolutions',\n",
    "         'Czech Republic [€/MWh] Calculated resolutions',\n",
    "         'DE/AT/LU [€/MWh] calculated resolutions',\n",
    "         'Italy (North) [€/MWh] Calculated resolutions',\n",
    "         'Slovenia [€/MWh] Calculated Resolutions',\n",
    "         'Hungary [€/MWh] Calculated Resolutions']"
   ]
  },
  {
   "cell_type": "code",
   "execution_count": 14,
   "metadata": {},
   "outputs": [
    {
     "data": {
      "text/html": [
       "<div>\n",
       "<style scoped>\n",
       "    .dataframe tbody tr th:only-of-type {\n",
       "        vertical-align: middle;\n",
       "    }\n",
       "\n",
       "    .dataframe tbody tr th {\n",
       "        vertical-align: top;\n",
       "    }\n",
       "\n",
       "    .dataframe thead th {\n",
       "        text-align: right;\n",
       "    }\n",
       "</style>\n",
       "<table border=\"1\" class=\"dataframe\">\n",
       "  <thead>\n",
       "    <tr style=\"text-align: right;\">\n",
       "      <th></th>\n",
       "      <th>Date</th>\n",
       "      <th>Start</th>\n",
       "      <th>End</th>\n",
       "      <th>Germany/Luxembourg [€/MWh] Calculated resolutions</th>\n",
       "      <th>∅ residents DE/LU [€/MWh] calculated resolutions</th>\n",
       "      <th>Belgium [€/MWh] Calculated resolutions</th>\n",
       "      <th>Denmark 1 [€/MWh] Calculated resolutions</th>\n",
       "      <th>Denmark 2 [€/MWh] Calculated resolutions</th>\n",
       "      <th>France [€/MWh] Calculated resolutions</th>\n",
       "      <th>Netherlands [€/MWh] Calculated resolutions</th>\n",
       "      <th>Norway 2 [€/MWh] Calculated resolutions</th>\n",
       "      <th>Austria [€/MWh] Calculated resolutions</th>\n",
       "      <th>Poland [€/MWh] Calculated Resolutions</th>\n",
       "      <th>Sweden 4 [€/MWh] Calculated resolutions</th>\n",
       "      <th>Switzerland [€/MWh] Calculated resolutions</th>\n",
       "      <th>Czech Republic [€/MWh] Calculated resolutions</th>\n",
       "      <th>DE/AT/LU [€/MWh] calculated resolutions</th>\n",
       "      <th>Italy (North) [€/MWh] Calculated resolutions</th>\n",
       "      <th>Slovenia [€/MWh] Calculated Resolutions</th>\n",
       "      <th>Hungary [€/MWh] Calculated Resolutions</th>\n",
       "    </tr>\n",
       "  </thead>\n",
       "  <tbody>\n",
       "    <tr>\n",
       "      <th>0</th>\n",
       "      <td>01.01.2018</td>\n",
       "      <td>00:00</td>\n",
       "      <td>00:00</td>\n",
       "      <td>-</td>\n",
       "      <td>-</td>\n",
       "      <td>4.67</td>\n",
       "      <td>21.91</td>\n",
       "      <td>23.97</td>\n",
       "      <td>2.66</td>\n",
       "      <td>29.52</td>\n",
       "      <td>26.04</td>\n",
       "      <td>-</td>\n",
       "      <td>-</td>\n",
       "      <td>24.46</td>\n",
       "      <td>17.12</td>\n",
       "      <td>-3.15</td>\n",
       "      <td>-25,3</td>\n",
       "      <td>45.34</td>\n",
       "      <td>-7,3</td>\n",
       "      <td>6,57</td>\n",
       "    </tr>\n",
       "    <tr>\n",
       "      <th>1</th>\n",
       "      <td>02.01.2018</td>\n",
       "      <td>00:00</td>\n",
       "      <td>00:00</td>\n",
       "      <td>-</td>\n",
       "      <td>-</td>\n",
       "      <td>32.02</td>\n",
       "      <td>30.67</td>\n",
       "      <td>32.29</td>\n",
       "      <td>32.25</td>\n",
       "      <td>37.11</td>\n",
       "      <td>31.79</td>\n",
       "      <td>-</td>\n",
       "      <td>-</td>\n",
       "      <td>31.62</td>\n",
       "      <td>45.09</td>\n",
       "      <td>33.38</td>\n",
       "      <td>33,44</td>\n",
       "      <td>39.96</td>\n",
       "      <td>35,58</td>\n",
       "      <td>33,38</td>\n",
       "    </tr>\n",
       "    <tr>\n",
       "      <th>2</th>\n",
       "      <td>03.01.2018</td>\n",
       "      <td>00:00</td>\n",
       "      <td>00:00</td>\n",
       "      <td>-</td>\n",
       "      <td>-</td>\n",
       "      <td>23.06</td>\n",
       "      <td>21.01</td>\n",
       "      <td>21.71</td>\n",
       "      <td>16.52</td>\n",
       "      <td>36.67</td>\n",
       "      <td>28.32</td>\n",
       "      <td>-</td>\n",
       "      <td>-</td>\n",
       "      <td>28.80</td>\n",
       "      <td>47.84</td>\n",
       "      <td>25.37</td>\n",
       "      <td>8,97</td>\n",
       "      <td>52.24</td>\n",
       "      <td>50,22</td>\n",
       "      <td>30,02</td>\n",
       "    </tr>\n",
       "    <tr>\n",
       "      <th>3</th>\n",
       "      <td>04.01.2018</td>\n",
       "      <td>00:00</td>\n",
       "      <td>00:00</td>\n",
       "      <td>-</td>\n",
       "      <td>-</td>\n",
       "      <td>35.56</td>\n",
       "      <td>34.95</td>\n",
       "      <td>35.56</td>\n",
       "      <td>30.70</td>\n",
       "      <td>39.38</td>\n",
       "      <td>31.97</td>\n",
       "      <td>-</td>\n",
       "      <td>-</td>\n",
       "      <td>32.12</td>\n",
       "      <td>47.89</td>\n",
       "      <td>27.49</td>\n",
       "      <td>29,86</td>\n",
       "      <td>42.84</td>\n",
       "      <td>42,84</td>\n",
       "      <td>40,52</td>\n",
       "    </tr>\n",
       "    <tr>\n",
       "      <th>4</th>\n",
       "      <td>05.01.2018</td>\n",
       "      <td>00:00</td>\n",
       "      <td>00:00</td>\n",
       "      <td>-</td>\n",
       "      <td>-</td>\n",
       "      <td>34.89</td>\n",
       "      <td>35.89</td>\n",
       "      <td>38.10</td>\n",
       "      <td>34.01</td>\n",
       "      <td>36.59</td>\n",
       "      <td>31.18</td>\n",
       "      <td>-</td>\n",
       "      <td>-</td>\n",
       "      <td>32.26</td>\n",
       "      <td>44.32</td>\n",
       "      <td>30.49</td>\n",
       "      <td>31,51</td>\n",
       "      <td>51.38</td>\n",
       "      <td>34,72</td>\n",
       "      <td>36,03</td>\n",
       "    </tr>\n",
       "  </tbody>\n",
       "</table>\n",
       "</div>"
      ],
      "text/plain": [
       "         Date  Start    End Germany/Luxembourg [€/MWh] Calculated resolutions  \\\n",
       "0  01.01.2018  00:00  00:00                                                 -   \n",
       "1  02.01.2018  00:00  00:00                                                 -   \n",
       "2  03.01.2018  00:00  00:00                                                 -   \n",
       "3  04.01.2018  00:00  00:00                                                 -   \n",
       "4  05.01.2018  00:00  00:00                                                 -   \n",
       "\n",
       "  ∅ residents DE/LU [€/MWh] calculated resolutions  \\\n",
       "0                                                -   \n",
       "1                                                -   \n",
       "2                                                -   \n",
       "3                                                -   \n",
       "4                                                -   \n",
       "\n",
       "   Belgium [€/MWh] Calculated resolutions  \\\n",
       "0                                    4.67   \n",
       "1                                   32.02   \n",
       "2                                   23.06   \n",
       "3                                   35.56   \n",
       "4                                   34.89   \n",
       "\n",
       "   Denmark 1 [€/MWh] Calculated resolutions  \\\n",
       "0                                     21.91   \n",
       "1                                     30.67   \n",
       "2                                     21.01   \n",
       "3                                     34.95   \n",
       "4                                     35.89   \n",
       "\n",
       "   Denmark 2 [€/MWh] Calculated resolutions  \\\n",
       "0                                     23.97   \n",
       "1                                     32.29   \n",
       "2                                     21.71   \n",
       "3                                     35.56   \n",
       "4                                     38.10   \n",
       "\n",
       "   France [€/MWh] Calculated resolutions  \\\n",
       "0                                   2.66   \n",
       "1                                  32.25   \n",
       "2                                  16.52   \n",
       "3                                  30.70   \n",
       "4                                  34.01   \n",
       "\n",
       "   Netherlands [€/MWh] Calculated resolutions  \\\n",
       "0                                       29.52   \n",
       "1                                       37.11   \n",
       "2                                       36.67   \n",
       "3                                       39.38   \n",
       "4                                       36.59   \n",
       "\n",
       "   Norway 2 [€/MWh] Calculated resolutions  \\\n",
       "0                                    26.04   \n",
       "1                                    31.79   \n",
       "2                                    28.32   \n",
       "3                                    31.97   \n",
       "4                                    31.18   \n",
       "\n",
       "  Austria [€/MWh] Calculated resolutions  \\\n",
       "0                                      -   \n",
       "1                                      -   \n",
       "2                                      -   \n",
       "3                                      -   \n",
       "4                                      -   \n",
       "\n",
       "  Poland [€/MWh] Calculated Resolutions  \\\n",
       "0                                     -   \n",
       "1                                     -   \n",
       "2                                     -   \n",
       "3                                     -   \n",
       "4                                     -   \n",
       "\n",
       "   Sweden 4 [€/MWh] Calculated resolutions  \\\n",
       "0                                    24.46   \n",
       "1                                    31.62   \n",
       "2                                    28.80   \n",
       "3                                    32.12   \n",
       "4                                    32.26   \n",
       "\n",
       "   Switzerland [€/MWh] Calculated resolutions  \\\n",
       "0                                       17.12   \n",
       "1                                       45.09   \n",
       "2                                       47.84   \n",
       "3                                       47.89   \n",
       "4                                       44.32   \n",
       "\n",
       "   Czech Republic [€/MWh] Calculated resolutions  \\\n",
       "0                                          -3.15   \n",
       "1                                          33.38   \n",
       "2                                          25.37   \n",
       "3                                          27.49   \n",
       "4                                          30.49   \n",
       "\n",
       "  DE/AT/LU [€/MWh] calculated resolutions  \\\n",
       "0                                   -25,3   \n",
       "1                                   33,44   \n",
       "2                                    8,97   \n",
       "3                                   29,86   \n",
       "4                                   31,51   \n",
       "\n",
       "   Italy (North) [€/MWh] Calculated resolutions  \\\n",
       "0                                         45.34   \n",
       "1                                         39.96   \n",
       "2                                         52.24   \n",
       "3                                         42.84   \n",
       "4                                         51.38   \n",
       "\n",
       "  Slovenia [€/MWh] Calculated Resolutions  \\\n",
       "0                                    -7,3   \n",
       "1                                   35,58   \n",
       "2                                   50,22   \n",
       "3                                   42,84   \n",
       "4                                   34,72   \n",
       "\n",
       "  Hungary [€/MWh] Calculated Resolutions  \n",
       "0                                   6,57  \n",
       "1                                  33,38  \n",
       "2                                  30,02  \n",
       "3                                  40,52  \n",
       "4                                  36,03  "
      ]
     },
     "execution_count": 14,
     "metadata": {},
     "output_type": "execute_result"
    }
   ],
   "source": [
    "wholesale_price.head()"
   ]
  },
  {
   "cell_type": "code",
   "execution_count": 16,
   "metadata": {},
   "outputs": [
    {
     "data": {
      "text/plain": [
       "-        0.747945\n",
       "59,45    0.005479\n",
       "52,99    0.002740\n",
       "54,75    0.002740\n",
       "59,21    0.002740\n",
       "           ...   \n",
       "43,97    0.002740\n",
       "43,46    0.002740\n",
       "48,12    0.002740\n",
       "58,53    0.002740\n",
       "54,69    0.002740\n",
       "Name: Germany/Luxembourg [€/MWh] Calculated resolutions, Length: 92, dtype: float64"
      ]
     },
     "execution_count": 16,
     "metadata": {},
     "output_type": "execute_result"
    }
   ],
   "source": [
    "wholesale_price['Germany/Luxembourg [€/MWh] Calculated resolutions'].value_counts()/len(data)"
   ]
  },
  {
   "cell_type": "code",
   "execution_count": 17,
   "metadata": {},
   "outputs": [
    {
     "data": {
      "text/plain": [
       "-        0.747945\n",
       "62,85    0.005479\n",
       "76,02    0.002740\n",
       "57,49    0.002740\n",
       "59,33    0.002740\n",
       "           ...   \n",
       "45,98    0.002740\n",
       "54,32    0.002740\n",
       "61,58    0.002740\n",
       "59,29    0.002740\n",
       "54,86    0.002740\n",
       "Name: Austria [€/MWh] Calculated resolutions, Length: 92, dtype: float64"
      ]
     },
     "execution_count": 17,
     "metadata": {},
     "output_type": "execute_result"
    }
   ],
   "source": [
    "wholesale_price['Austria [€/MWh] Calculated resolutions'].value_counts()/len(data)"
   ]
  },
  {
   "cell_type": "code",
   "execution_count": 19,
   "metadata": {},
   "outputs": [
    {
     "data": {
      "text/plain": [
       "-    1.0\n",
       "Name: Poland [€/MWh] Calculated Resolutions, dtype: float64"
      ]
     },
     "execution_count": 19,
     "metadata": {},
     "output_type": "execute_result"
    }
   ],
   "source": [
    "wholesale_price['Poland [€/MWh] Calculated Resolutions'].value_counts()/len(data)"
   ]
  },
  {
   "cell_type": "code",
   "execution_count": 23,
   "metadata": {},
   "outputs": [],
   "source": [
    "wholesale_price = wholesale_price.drop(columns=['Start', 'End'])"
   ]
  },
  {
   "cell_type": "code",
   "execution_count": 24,
   "metadata": {},
   "outputs": [
    {
     "data": {
      "text/plain": [
       "Date                                                  object\n",
       "Germany/Luxembourg [€/MWh] Calculated resolutions     object\n",
       "∅ residents DE/LU [€/MWh] calculated resolutions      object\n",
       "Belgium [€/MWh] Calculated resolutions               float64\n",
       "Denmark 1 [€/MWh] Calculated resolutions             float64\n",
       "Denmark 2 [€/MWh] Calculated resolutions             float64\n",
       "France [€/MWh] Calculated resolutions                float64\n",
       "Netherlands [€/MWh] Calculated resolutions           float64\n",
       "Norway 2 [€/MWh] Calculated resolutions              float64\n",
       "Austria [€/MWh] Calculated resolutions                object\n",
       "Poland [€/MWh] Calculated Resolutions                 object\n",
       "Sweden 4 [€/MWh] Calculated resolutions              float64\n",
       "Switzerland [€/MWh] Calculated resolutions           float64\n",
       "Czech Republic [€/MWh] Calculated resolutions        float64\n",
       "DE/AT/LU [€/MWh] calculated resolutions               object\n",
       "Italy (North) [€/MWh] Calculated resolutions         float64\n",
       "Slovenia [€/MWh] Calculated Resolutions               object\n",
       "Hungary [€/MWh] Calculated Resolutions                object\n",
       "dtype: object"
      ]
     },
     "execution_count": 24,
     "metadata": {},
     "output_type": "execute_result"
    }
   ],
   "source": [
    "wholesale_price.dtypes"
   ]
  },
  {
   "cell_type": "code",
   "execution_count": null,
   "metadata": {},
   "outputs": [],
   "source": [
    "wholesale_price['Date'] = pd.to_datetime(df['Date'], yearfirst=True)\n",
    "wholesale_price.dtypes "
   ]
  },
  {
   "cell_type": "code",
   "execution_count": 28,
   "metadata": {},
   "outputs": [
    {
     "data": {
      "text/plain": [
       "<AxesSubplot:xlabel='Date'>"
      ]
     },
     "execution_count": 28,
     "metadata": {},
     "output_type": "execute_result"
    },
    {
     "data": {
      "image/png": "[encoded data removed]",
      "text/plain": [
       "<Figure size 640x480 with 1 Axes>"
      ]
     },
     "metadata": {},
     "output_type": "display_data"
    }
   ],
   "source": [
    "wholesale_price.plot('Date', 'Belgium [€/MWh] Calculated resolutions')\n",
    "# x_ticks = []\n",
    "plt.xticks([])"
   ]
  },
  {
   "attachments": {},
   "cell_type": "markdown",
   "metadata": {},
   "source": [
    "## Investigate Data from Commercial foreign trade (Kommerzieler Ausserhandel Preis)"
   ]
  },
  {
   "cell_type": "code",
   "execution_count": 33,
   "metadata": {},
   "outputs": [
    {
     "data": {
      "text/html": [
       "<div>\n",
       "<style scoped>\n",
       "    .dataframe tbody tr th:only-of-type {\n",
       "        vertical-align: middle;\n",
       "    }\n",
       "\n",
       "    .dataframe tbody tr th {\n",
       "        vertical-align: top;\n",
       "    }\n",
       "\n",
       "    .dataframe thead th {\n",
       "        text-align: right;\n",
       "    }\n",
       "</style>\n",
       "<table border=\"1\" class=\"dataframe\">\n",
       "  <thead>\n",
       "    <tr style=\"text-align: right;\">\n",
       "      <th></th>\n",
       "      <th>Datum</th>\n",
       "      <th>Anfang</th>\n",
       "      <th>Ende</th>\n",
       "      <th>Nettoexport [MWh] Berechnete Auflösungen</th>\n",
       "      <th>Niederlande (Export) [MWh] Berechnete Auflösungen</th>\n",
       "      <th>Niederlande (Import) [MWh] Berechnete Auflösungen</th>\n",
       "      <th>Schweiz (Export) [MWh] Berechnete Auflösungen</th>\n",
       "      <th>Schweiz (Import) [MWh] Berechnete Auflösungen</th>\n",
       "      <th>Dänemark (Export) [MWh] Berechnete Auflösungen</th>\n",
       "      <th>Dänemark (Import) [MWh] Berechnete Auflösungen</th>\n",
       "      <th>...</th>\n",
       "      <th>Österreich (Export) [MWh] Berechnete Auflösungen</th>\n",
       "      <th>Österreich (Import) [MWh] Berechnete Auflösungen</th>\n",
       "      <th>Frankreich (Export) [MWh] Berechnete Auflösungen</th>\n",
       "      <th>Frankreich (Import) [MWh] Berechnete Auflösungen</th>\n",
       "      <th>Polen (Export) [MWh] Berechnete Auflösungen</th>\n",
       "      <th>Polen (Import) [MWh] Berechnete Auflösungen</th>\n",
       "      <th>Norwegen (Export) [MWh] Berechnete Auflösungen</th>\n",
       "      <th>Norwegen (Import) [MWh] Berechnete Auflösungen</th>\n",
       "      <th>Belgien (Export) [MWh] Berechnete Auflösungen</th>\n",
       "      <th>Belgien (Import) [MWh] Berechnete Auflösungen</th>\n",
       "    </tr>\n",
       "  </thead>\n",
       "  <tbody>\n",
       "    <tr>\n",
       "      <th>0</th>\n",
       "      <td>01.01.2018</td>\n",
       "      <td>00:00</td>\n",
       "      <td>00:00</td>\n",
       "      <td>-</td>\n",
       "      <td>24.439</td>\n",
       "      <td>-172</td>\n",
       "      <td>19.250</td>\n",
       "      <td>-678</td>\n",
       "      <td>50.485</td>\n",
       "      <td>-85</td>\n",
       "      <td>...</td>\n",
       "      <td>120.809</td>\n",
       "      <td>-20.152</td>\n",
       "      <td>87.570</td>\n",
       "      <td>-14.248</td>\n",
       "      <td>2.933</td>\n",
       "      <td>-658</td>\n",
       "      <td>-</td>\n",
       "      <td>-</td>\n",
       "      <td>-</td>\n",
       "      <td>-</td>\n",
       "    </tr>\n",
       "    <tr>\n",
       "      <th>1</th>\n",
       "      <td>02.01.2018</td>\n",
       "      <td>00:00</td>\n",
       "      <td>00:00</td>\n",
       "      <td>-</td>\n",
       "      <td>55.880</td>\n",
       "      <td>-241</td>\n",
       "      <td>19.200</td>\n",
       "      <td>-287</td>\n",
       "      <td>18.874</td>\n",
       "      <td>-23.448</td>\n",
       "      <td>...</td>\n",
       "      <td>113.103</td>\n",
       "      <td>-52.742</td>\n",
       "      <td>36.463</td>\n",
       "      <td>-22.596</td>\n",
       "      <td>6.480</td>\n",
       "      <td>-581</td>\n",
       "      <td>-</td>\n",
       "      <td>-</td>\n",
       "      <td>-</td>\n",
       "      <td>-</td>\n",
       "    </tr>\n",
       "    <tr>\n",
       "      <th>2</th>\n",
       "      <td>03.01.2018</td>\n",
       "      <td>00:00</td>\n",
       "      <td>00:00</td>\n",
       "      <td>-</td>\n",
       "      <td>34.481</td>\n",
       "      <td>-24</td>\n",
       "      <td>19.202</td>\n",
       "      <td>-2</td>\n",
       "      <td>50.400</td>\n",
       "      <td>-30</td>\n",
       "      <td>...</td>\n",
       "      <td>135.379</td>\n",
       "      <td>-17.455</td>\n",
       "      <td>22.298</td>\n",
       "      <td>-2.909</td>\n",
       "      <td>6.688</td>\n",
       "      <td>0</td>\n",
       "      <td>-</td>\n",
       "      <td>-</td>\n",
       "      <td>-</td>\n",
       "      <td>-</td>\n",
       "    </tr>\n",
       "    <tr>\n",
       "      <th>3</th>\n",
       "      <td>04.01.2018</td>\n",
       "      <td>00:00</td>\n",
       "      <td>00:00</td>\n",
       "      <td>-</td>\n",
       "      <td>51.926</td>\n",
       "      <td>-2.052</td>\n",
       "      <td>21.722</td>\n",
       "      <td>-194</td>\n",
       "      <td>18.831</td>\n",
       "      <td>-26.153</td>\n",
       "      <td>...</td>\n",
       "      <td>120.083</td>\n",
       "      <td>-49.424</td>\n",
       "      <td>52.353</td>\n",
       "      <td>-32.326</td>\n",
       "      <td>2.663</td>\n",
       "      <td>-650</td>\n",
       "      <td>-</td>\n",
       "      <td>-</td>\n",
       "      <td>-</td>\n",
       "      <td>-</td>\n",
       "    </tr>\n",
       "    <tr>\n",
       "      <th>4</th>\n",
       "      <td>05.01.2018</td>\n",
       "      <td>00:00</td>\n",
       "      <td>00:00</td>\n",
       "      <td>-</td>\n",
       "      <td>58.059</td>\n",
       "      <td>-837</td>\n",
       "      <td>23.375</td>\n",
       "      <td>-4.317</td>\n",
       "      <td>15.987</td>\n",
       "      <td>-24.934</td>\n",
       "      <td>...</td>\n",
       "      <td>121.300</td>\n",
       "      <td>-44.237</td>\n",
       "      <td>63.425</td>\n",
       "      <td>-23.055</td>\n",
       "      <td>1.385</td>\n",
       "      <td>-7.027</td>\n",
       "      <td>-</td>\n",
       "      <td>-</td>\n",
       "      <td>-</td>\n",
       "      <td>-</td>\n",
       "    </tr>\n",
       "  </tbody>\n",
       "</table>\n",
       "<p>5 rows × 26 columns</p>\n",
       "</div>"
      ],
      "text/plain": [
       "        Datum Anfang   Ende Nettoexport [MWh] Berechnete Auflösungen  \\\n",
       "0  01.01.2018  00:00  00:00                                        -   \n",
       "1  02.01.2018  00:00  00:00                                        -   \n",
       "2  03.01.2018  00:00  00:00                                        -   \n",
       "3  04.01.2018  00:00  00:00                                        -   \n",
       "4  05.01.2018  00:00  00:00                                        -   \n",
       "\n",
       "  Niederlande (Export) [MWh] Berechnete Auflösungen  \\\n",
       "0                                            24.439   \n",
       "1                                            55.880   \n",
       "2                                            34.481   \n",
       "3                                            51.926   \n",
       "4                                            58.059   \n",
       "\n",
       "  Niederlande (Import) [MWh] Berechnete Auflösungen  \\\n",
       "0                                              -172   \n",
       "1                                              -241   \n",
       "2                                               -24   \n",
       "3                                            -2.052   \n",
       "4                                              -837   \n",
       "\n",
       "  Schweiz (Export) [MWh] Berechnete Auflösungen  \\\n",
       "0                                        19.250   \n",
       "1                                        19.200   \n",
       "2                                        19.202   \n",
       "3                                        21.722   \n",
       "4                                        23.375   \n",
       "\n",
       "  Schweiz (Import) [MWh] Berechnete Auflösungen  \\\n",
       "0                                          -678   \n",
       "1                                          -287   \n",
       "2                                            -2   \n",
       "3                                          -194   \n",
       "4                                        -4.317   \n",
       "\n",
       "  Dänemark (Export) [MWh] Berechnete Auflösungen  \\\n",
       "0                                         50.485   \n",
       "1                                         18.874   \n",
       "2                                         50.400   \n",
       "3                                         18.831   \n",
       "4                                         15.987   \n",
       "\n",
       "  Dänemark (Import) [MWh] Berechnete Auflösungen  ...  \\\n",
       "0                                            -85  ...   \n",
       "1                                        -23.448  ...   \n",
       "2                                            -30  ...   \n",
       "3                                        -26.153  ...   \n",
       "4                                        -24.934  ...   \n",
       "\n",
       "  Österreich (Export) [MWh] Berechnete Auflösungen  \\\n",
       "0                                          120.809   \n",
       "1                                          113.103   \n",
       "2                                          135.379   \n",
       "3                                          120.083   \n",
       "4                                          121.300   \n",
       "\n",
       "  Österreich (Import) [MWh] Berechnete Auflösungen  \\\n",
       "0                                          -20.152   \n",
       "1                                          -52.742   \n",
       "2                                          -17.455   \n",
       "3                                          -49.424   \n",
       "4                                          -44.237   \n",
       "\n",
       "  Frankreich (Export) [MWh] Berechnete Auflösungen  \\\n",
       "0                                           87.570   \n",
       "1                                           36.463   \n",
       "2                                           22.298   \n",
       "3                                           52.353   \n",
       "4                                           63.425   \n",
       "\n",
       "  Frankreich (Import) [MWh] Berechnete Auflösungen  \\\n",
       "0                                          -14.248   \n",
       "1                                          -22.596   \n",
       "2                                           -2.909   \n",
       "3                                          -32.326   \n",
       "4                                          -23.055   \n",
       "\n",
       "  Polen (Export) [MWh] Berechnete Auflösungen  \\\n",
       "0                                       2.933   \n",
       "1                                       6.480   \n",
       "2                                       6.688   \n",
       "3                                       2.663   \n",
       "4                                       1.385   \n",
       "\n",
       "  Polen (Import) [MWh] Berechnete Auflösungen  \\\n",
       "0                                        -658   \n",
       "1                                        -581   \n",
       "2                                           0   \n",
       "3                                        -650   \n",
       "4                                      -7.027   \n",
       "\n",
       "  Norwegen (Export) [MWh] Berechnete Auflösungen  \\\n",
       "0                                              -   \n",
       "1                                              -   \n",
       "2                                              -   \n",
       "3                                              -   \n",
       "4                                              -   \n",
       "\n",
       "  Norwegen (Import) [MWh] Berechnete Auflösungen  \\\n",
       "0                                              -   \n",
       "1                                              -   \n",
       "2                                              -   \n",
       "3                                              -   \n",
       "4                                              -   \n",
       "\n",
       "  Belgien (Export) [MWh] Berechnete Auflösungen  \\\n",
       "0                                             -   \n",
       "1                                             -   \n",
       "2                                             -   \n",
       "3                                             -   \n",
       "4                                             -   \n",
       "\n",
       "  Belgien (Import) [MWh] Berechnete Auflösungen  \n",
       "0                                             -  \n",
       "1                                             -  \n",
       "2                                             -  \n",
       "3                                             -  \n",
       "4                                             -  \n",
       "\n",
       "[5 rows x 26 columns]"
      ]
     },
     "execution_count": 33,
     "metadata": {},
     "output_type": "execute_result"
    }
   ],
   "source": [
    "foreing_trade = pd.read_csv('data-prices/Kommerzieller_Au_enhandel_2018_01_01_2018_12_31_Tag.csv', delimiter=';', decimal=',')\n",
    "foreing_trade.head()"
   ]
  },
  {
   "cell_type": "code",
   "execution_count": 38,
   "metadata": {},
   "outputs": [
    {
     "data": {
      "text/plain": [
       "Index(['Datum', 'Anfang', 'Ende', 'Nettoexport [MWh] Berechnete Auflösungen',\n",
       "       'Niederlande (Export) [MWh] Berechnete Auflösungen',\n",
       "       'Niederlande (Import) [MWh] Berechnete Auflösungen',\n",
       "       'Schweiz (Export) [MWh] Berechnete Auflösungen',\n",
       "       'Schweiz (Import) [MWh] Berechnete Auflösungen',\n",
       "       'Dänemark (Export) [MWh] Berechnete Auflösungen',\n",
       "       'Dänemark (Import) [MWh] Berechnete Auflösungen',\n",
       "       'Tschechien (Export) [MWh] Berechnete Auflösungen',\n",
       "       'Tschechien (Import) [MWh] Berechnete Auflösungen',\n",
       "       'Luxemburg (Export) [MWh] Berechnete Auflösungen',\n",
       "       'Luxemburg (Import) [MWh] Berechnete Auflösungen',\n",
       "       'Schweden (Export) [MWh] Berechnete Auflösungen',\n",
       "       'Schweden (Import) [MWh] Berechnete Auflösungen',\n",
       "       'Österreich (Export) [MWh] Berechnete Auflösungen',\n",
       "       'Österreich (Import) [MWh] Berechnete Auflösungen',\n",
       "       'Frankreich (Export) [MWh] Berechnete Auflösungen',\n",
       "       'Frankreich (Import) [MWh] Berechnete Auflösungen',\n",
       "       'Polen (Export) [MWh] Berechnete Auflösungen',\n",
       "       'Polen (Import) [MWh] Berechnete Auflösungen',\n",
       "       'Norwegen (Export) [MWh] Berechnete Auflösungen',\n",
       "       'Norwegen (Import) [MWh] Berechnete Auflösungen',\n",
       "       'Belgien (Export) [MWh] Berechnete Auflösungen',\n",
       "       'Belgien (Import) [MWh] Berechnete Auflösungen', 'Date'],\n",
       "      dtype='object')"
      ]
     },
     "execution_count": 38,
     "metadata": {},
     "output_type": "execute_result"
    }
   ],
   "source": [
    "foreing_trade.columns"
   ]
  },
  {
   "cell_type": "code",
   "execution_count": 42,
   "metadata": {},
   "outputs": [],
   "source": [
    "foreing_trade['Date'] = pd.to_datetime(foreing_trade['Date'], yearfirst=True)"
   ]
  },
  {
   "cell_type": "code",
   "execution_count": 37,
   "metadata": {},
   "outputs": [
    {
     "data": {
      "text/plain": [
       "-    1.0\n",
       "Name: Nettoexport [MWh] Berechnete Auflösungen, dtype: float64"
      ]
     },
     "execution_count": 37,
     "metadata": {},
     "output_type": "execute_result"
    }
   ],
   "source": [
    "foreing_trade['Nettoexport [MWh] Berechnete Auflösungen'].value_counts(normalize=True)"
   ]
  },
  {
   "cell_type": "code",
   "execution_count": 39,
   "metadata": {},
   "outputs": [
    {
     "data": {
      "text/plain": [
       "-    1.0\n",
       "Name: Norwegen (Import) [MWh] Berechnete Auflösungen, dtype: float64"
      ]
     },
     "execution_count": 39,
     "metadata": {},
     "output_type": "execute_result"
    }
   ],
   "source": [
    "foreing_trade['Norwegen (Import) [MWh] Berechnete Auflösungen'].value_counts(normalize=True)"
   ]
  },
  {
   "cell_type": "markdown",
   "metadata": {},
   "source": [
    "\n",
    "## Investigate data from physical flow of electricity (physikalischer Stromfluss)"
   ]
  },
  {
   "cell_type": "code",
   "execution_count": null,
   "metadata": {},
   "outputs": [],
   "source": [
    "electricity_flow = pd.read_csv('SMARD/data-prices/Physikalischer_Stromfluss_2018_01_01_2018_12_31_Tag.csv', delimiter=';', decimal=',')\n",
    "electricity_flow.head()"
   ]
  },
  {
   "cell_type": "code",
   "execution_count": 43,
   "metadata": {},
   "outputs": [
    {
     "data": {
      "text/plain": [
       "(365, 26)"
      ]
     },
     "execution_count": 43,
     "metadata": {},
     "output_type": "execute_result"
    }
   ],
   "source": [
    "electricity_flow.shape"
   ]
  },
  {
   "cell_type": "code",
   "execution_count": 44,
   "metadata": {},
   "outputs": [
    {
     "data": {
      "text/plain": [
       "-    1.0\n",
       "Name: Nettoexport [MWh] Berechnete Auflösungen, dtype: float64"
      ]
     },
     "execution_count": 44,
     "metadata": {},
     "output_type": "execute_result"
    }
   ],
   "source": [
    "electricity_flow['Nettoexport [MWh] Berechnete Auflösungen'].value_counts(normalize=True)"
   ]
  },
  {
   "cell_type": "code",
   "execution_count": 45,
   "metadata": {},
   "outputs": [
    {
     "data": {
      "text/plain": [
       "-    1.0\n",
       "Name: Norwegen (Export) [MWh] Berechnete Auflösungen, dtype: float64"
      ]
     },
     "execution_count": 45,
     "metadata": {},
     "output_type": "execute_result"
    }
   ],
   "source": [
    "electricity_flow['Norwegen (Export) [MWh] Berechnete Auflösungen'].value_counts(normalize=True)"
   ]
  },
  {
   "cell_type": "code",
   "execution_count": 47,
   "metadata": {},
   "outputs": [
    {
     "data": {
      "text/plain": [
       "1460"
      ]
     },
     "execution_count": 47,
     "metadata": {},
     "output_type": "execute_result"
    }
   ],
   "source": [
    "total_data_days = (2022-2018)*365\n",
    "total_data_days"
   ]
  },
  {
   "cell_type": "code",
   "execution_count": 48,
   "metadata": {},
   "outputs": [
    {
     "data": {
      "text/plain": [
       "35040"
      ]
     },
     "execution_count": 48,
     "metadata": {},
     "output_type": "execute_result"
    }
   ],
   "source": [
    "total_data_hours = (2022-2018)*365*24\n",
    "total_data_hours"
   ]
  },
  {
   "cell_type": "markdown",
   "metadata": {},
   "source": [
    "# Power Plant data"
   ]
  },
  {
   "cell_type": "code",
   "execution_count": 2,
   "metadata": {},
   "outputs": [
    {
     "data": {
      "text/plain": [
       "['Abwinden-Asten_202201010000_202212312359_Tag_1.csv',\n",
       " 'Abwinden-Asten_202201010000_202212312359_Tag_1.csv:Zone.Identifier',\n",
       " 'Altenw_rth_202201010000_202212312359_Tag_3.csv',\n",
       " 'Altenw_rth_202201010000_202212312359_Tag_3.csv:Zone.Identifier',\n",
       " 'Bergkamen_202201010000_202212312359_Tag_6.csv']"
      ]
     },
     "execution_count": 2,
     "metadata": {},
     "output_type": "execute_result"
    }
   ],
   "source": [
    "path = r'SMARD/power-plant-data-2022-Jan-to-Dec'\n",
    "power_plant_list = os.listdir(path)\n",
    "power_plant_list.sort()\n",
    "power_plant_list[0:5]"
   ]
  },
  {
   "cell_type": "code",
   "execution_count": 3,
   "metadata": {},
   "outputs": [
    {
     "data": {
      "text/plain": [
       "226"
      ]
     },
     "execution_count": 3,
     "metadata": {},
     "output_type": "execute_result"
    }
   ],
   "source": [
    "len(power_plant_list)"
   ]
  },
  {
   "cell_type": "code",
   "execution_count": null,
   "metadata": {},
   "outputs": [],
   "source": [
    "test =  pd.read_csv('SMARD/power-plant-data-2022-Jan-to-Dec/Amrumbank_West_202201010000_202212312359_Tag_4.csv',delimiter=';', decimal=',') \n",
    "test"
   ]
  },
  {
   "cell_type": "code",
   "execution_count": 46,
   "metadata": {},
   "outputs": [
    {
     "data": {
      "text/plain": [
       "(1, 4)"
      ]
     },
     "execution_count": 46,
     "metadata": {},
     "output_type": "execute_result"
    }
   ],
   "source": [
    "test.shape"
   ]
  },
  {
   "cell_type": "code",
   "execution_count": null,
   "metadata": {},
   "outputs": [],
   "source": [
    "test2 = pd.read_csv('SMARD/power-plant-data-2022-Jan-to-Dec/Pumpspeicherkraftwerk_Vianden_202201010000_202212312359_Tag_137.csv', delimiter=';', decimal=',') \n",
    "test2.head()"
   ]
  },
  {
   "cell_type": "code",
   "execution_count": 62,
   "metadata": {},
   "outputs": [],
   "source": [
    "num_cols = test2.columns[3:len(test2)]"
   ]
  },
  {
   "cell_type": "code",
   "execution_count": 63,
   "metadata": {},
   "outputs": [],
   "source": [
    "def convert_str_to_float(text):\n",
    "    if text == '-':\n",
    "        return 0\n",
    "    else:\n",
    "        text=text.replace(',','.')\n",
    "        return float(text)"
   ]
  },
  {
   "cell_type": "code",
   "execution_count": 59,
   "metadata": {},
   "outputs": [],
   "source": [
    "test2['Generation_DE Maschine 9 [MW] Berechnete Auflösungen']=test2['Generation_DE Maschine 9 [MW] Berechnete Auflösungen'].apply(from_str_to_float)"
   ]
  },
  {
   "cell_type": "code",
   "execution_count": 60,
   "metadata": {},
   "outputs": [
    {
     "data": {
      "text/plain": [
       "0    148.0\n",
       "1      0.0\n",
       "2    257.0\n",
       "3    210.0\n",
       "4      0.0\n",
       "Name: Generation_DE Maschine 9 [MW] Berechnete Auflösungen, dtype: float64"
      ]
     },
     "execution_count": 60,
     "metadata": {},
     "output_type": "execute_result"
    }
   ],
   "source": [
    "test2['Generation_DE Maschine 9 [MW] Berechnete Auflösungen'].head()"
   ]
  },
  {
   "cell_type": "code",
   "execution_count": 64,
   "metadata": {},
   "outputs": [],
   "source": [
    "for col in num_cols:\n",
    "    test2[col] = test2[col].apply(convert_str_to_float)  "
   ]
  },
  {
   "cell_type": "code",
   "execution_count": 65,
   "metadata": {},
   "outputs": [
    {
     "data": {
      "text/plain": [
       "Datum                                                     object\n",
       "Anfang                                                    object\n",
       "Ende                                                      object\n",
       "Generation_DE Maschine 9 [MW] Berechnete Auflösungen     float64\n",
       "Generation_DE Maschine 8 [MW] Berechnete Auflösungen     float64\n",
       "Generation_DE Maschine 2 [MW] Berechnete Auflösungen     float64\n",
       "Generation_DE Maschine 3 [MW] Berechnete Auflösungen     float64\n",
       "Generation_DE Maschine 4 [MW] Berechnete Auflösungen     float64\n",
       "Generation_DE Maschine 7 [MW] Berechnete Auflösungen     float64\n",
       "Generation_DE Maschine 1 [MW] Berechnete Auflösungen     float64\n",
       "Generation_DE Maschine 5 [MW] Berechnete Auflösungen     float64\n",
       "Generation_DE Maschine 6 [MW] Berechnete Auflösungen     float64\n",
       "Generation_DE Maschine 10 [MW] Berechnete Auflösungen    float64\n",
       "Generation_DE Maschine 11 [MW] Berechnete Auflösungen    float64\n",
       "dtype: object"
      ]
     },
     "execution_count": 65,
     "metadata": {},
     "output_type": "execute_result"
    }
   ],
   "source": [
    "test2.dtypes"
   ]
  },
  {
   "cell_type": "code",
   "execution_count": null,
   "metadata": {},
   "outputs": [],
   "source": [
    "test2['Generation_DE [MW] Berechnete Auflösungen'] = test2.sum(numeric_only = True, axis =1)\n",
    "test2.head()"
   ]
  },
  {
   "cell_type": "code",
   "execution_count": 71,
   "metadata": {},
   "outputs": [
    {
     "data": {
      "text/plain": [
       "2466.951"
      ]
     },
     "execution_count": 71,
     "metadata": {},
     "output_type": "execute_result"
    }
   ],
   "source": [
    "148.0 + 176.0+ 0.0+ 1.475+ 765.000+ 232.0+ 1.476+ 460.0\t+ 391.0+ 0.0+ 292.0\t"
   ]
  },
  {
   "cell_type": "code",
   "execution_count": 28,
   "metadata": {},
   "outputs": [
    {
     "data": {
      "text/plain": [
       "str"
      ]
     },
     "execution_count": 28,
     "metadata": {},
     "output_type": "execute_result"
    }
   ],
   "source": [
    "type(test2['Generation_DE Maschine 9 [MW] Berechnete Auflösungen'][177])"
   ]
  },
  {
   "cell_type": "code",
   "execution_count": 30,
   "metadata": {},
   "outputs": [
    {
     "data": {
      "text/plain": [
       "'-'"
      ]
     },
     "execution_count": 30,
     "metadata": {},
     "output_type": "execute_result"
    }
   ],
   "source": [
    "test2['Generation_DE Maschine 9 [MW] Berechnete Auflösungen'][178]"
   ]
  },
  {
   "cell_type": "code",
   "execution_count": 39,
   "metadata": {},
   "outputs": [
    {
     "data": {
      "text/plain": [
       "230.0"
      ]
     },
     "execution_count": 39,
     "metadata": {},
     "output_type": "execute_result"
    }
   ],
   "source": [
    "float(test2['Generation_DE Maschine 9 [MW] Berechnete Auflösungen'][177])"
   ]
  },
  {
   "cell_type": "code",
   "execution_count": 42,
   "metadata": {},
   "outputs": [
    {
     "data": {
      "text/html": [
       "<div>\n",
       "<style scoped>\n",
       "    .dataframe tbody tr th:only-of-type {\n",
       "        vertical-align: middle;\n",
       "    }\n",
       "\n",
       "    .dataframe tbody tr th {\n",
       "        vertical-align: top;\n",
       "    }\n",
       "\n",
       "    .dataframe thead th {\n",
       "        text-align: right;\n",
       "    }\n",
       "</style>\n",
       "<table border=\"1\" class=\"dataframe\">\n",
       "  <thead>\n",
       "    <tr style=\"text-align: right;\">\n",
       "      <th></th>\n",
       "      <th>Date</th>\n",
       "      <th>Start</th>\n",
       "      <th>End</th>\n",
       "      <th>Abwinden-Asten</th>\n",
       "    </tr>\n",
       "  </thead>\n",
       "  <tbody>\n",
       "    <tr>\n",
       "      <th>0</th>\n",
       "      <td>01.01.2022</td>\n",
       "      <td>00:00</td>\n",
       "      <td>00:00</td>\n",
       "      <td>3.906</td>\n",
       "    </tr>\n",
       "    <tr>\n",
       "      <th>1</th>\n",
       "      <td>02.01.2022</td>\n",
       "      <td>00:00</td>\n",
       "      <td>00:00</td>\n",
       "      <td>3.813</td>\n",
       "    </tr>\n",
       "    <tr>\n",
       "      <th>2</th>\n",
       "      <td>03.01.2022</td>\n",
       "      <td>00:00</td>\n",
       "      <td>00:00</td>\n",
       "      <td>3.479</td>\n",
       "    </tr>\n",
       "    <tr>\n",
       "      <th>3</th>\n",
       "      <td>04.01.2022</td>\n",
       "      <td>00:00</td>\n",
       "      <td>00:00</td>\n",
       "      <td>3.488</td>\n",
       "    </tr>\n",
       "    <tr>\n",
       "      <th>4</th>\n",
       "      <td>05.01.2022</td>\n",
       "      <td>00:00</td>\n",
       "      <td>00:00</td>\n",
       "      <td>3.667</td>\n",
       "    </tr>\n",
       "  </tbody>\n",
       "</table>\n",
       "</div>"
      ],
      "text/plain": [
       "         Date  Start    End Abwinden-Asten\n",
       "0  01.01.2022  00:00  00:00          3.906\n",
       "1  02.01.2022  00:00  00:00          3.813\n",
       "2  03.01.2022  00:00  00:00          3.479\n",
       "3  04.01.2022  00:00  00:00          3.488\n",
       "4  05.01.2022  00:00  00:00          3.667"
      ]
     },
     "execution_count": 42,
     "metadata": {},
     "output_type": "execute_result"
    }
   ],
   "source": [
    "# Take first company\n",
    "file1 = power_plant_list[0].split('_')[0]\n",
    "col = file1.split('_')[0]\n",
    "folder = path + '/' + power_plant_list[0]\n",
    "power_plant = pd.read_csv(folder, delimiter=';', decimal=',')\n",
    "power_plant.columns = ['Date', 'Start', 'End', col]\n",
    "power_plant.head()"
   ]
  },
  {
   "cell_type": "code",
   "execution_count": 39,
   "metadata": {},
   "outputs": [
    {
     "data": {
      "text/plain": [
       "['Abwinden-Asten_202201010000_202212312359_Tag_1.csv',\n",
       " 'Ahrensfelde_202201010000_202212312359_Tag_2.csv',\n",
       " 'Ahrensfelde_202201010000_202212312359_Tag_2.csv:Zone.Identifier',\n",
       " 'Altenw_rth_202201010000_202212312359_Tag_3.csv',\n",
       " 'Altenw_rth_202201010000_202212312359_Tag_3.csv:Zone.Identifier']"
      ]
     },
     "execution_count": 39,
     "metadata": {},
     "output_type": "execute_result"
    }
   ],
   "source": [
    "power_plant_list.pop(1)\n",
    "power_plant_list[0:5]"
   ]
  },
  {
   "cell_type": "code",
   "execution_count": 32,
   "metadata": {},
   "outputs": [
    {
     "data": {
      "text/html": [
       "<div>\n",
       "<style scoped>\n",
       "    .dataframe tbody tr th:only-of-type {\n",
       "        vertical-align: middle;\n",
       "    }\n",
       "\n",
       "    .dataframe tbody tr th {\n",
       "        vertical-align: top;\n",
       "    }\n",
       "\n",
       "    .dataframe thead th {\n",
       "        text-align: right;\n",
       "    }\n",
       "</style>\n",
       "<table border=\"1\" class=\"dataframe\">\n",
       "  <thead>\n",
       "    <tr style=\"text-align: right;\">\n",
       "      <th></th>\n",
       "      <th>Datum</th>\n",
       "      <th>Anfang</th>\n",
       "      <th>Ende</th>\n",
       "      <th>Generation_DE  [MW] Berechnete Auflösungen</th>\n",
       "    </tr>\n",
       "  </thead>\n",
       "  <tbody>\n",
       "    <tr>\n",
       "      <th>0</th>\n",
       "      <td>01.01.2022</td>\n",
       "      <td>00:00</td>\n",
       "      <td>00:00</td>\n",
       "      <td>3.906</td>\n",
       "    </tr>\n",
       "    <tr>\n",
       "      <th>1</th>\n",
       "      <td>02.01.2022</td>\n",
       "      <td>00:00</td>\n",
       "      <td>00:00</td>\n",
       "      <td>3.813</td>\n",
       "    </tr>\n",
       "    <tr>\n",
       "      <th>2</th>\n",
       "      <td>03.01.2022</td>\n",
       "      <td>00:00</td>\n",
       "      <td>00:00</td>\n",
       "      <td>3.479</td>\n",
       "    </tr>\n",
       "    <tr>\n",
       "      <th>3</th>\n",
       "      <td>04.01.2022</td>\n",
       "      <td>00:00</td>\n",
       "      <td>00:00</td>\n",
       "      <td>3.488</td>\n",
       "    </tr>\n",
       "    <tr>\n",
       "      <th>4</th>\n",
       "      <td>05.01.2022</td>\n",
       "      <td>00:00</td>\n",
       "      <td>00:00</td>\n",
       "      <td>3.667</td>\n",
       "    </tr>\n",
       "  </tbody>\n",
       "</table>\n",
       "</div>"
      ],
      "text/plain": [
       "        Datum Anfang   Ende Generation_DE  [MW] Berechnete Auflösungen\n",
       "0  01.01.2022  00:00  00:00                                      3.906\n",
       "1  02.01.2022  00:00  00:00                                      3.813\n",
       "2  03.01.2022  00:00  00:00                                      3.479\n",
       "3  04.01.2022  00:00  00:00                                      3.488\n",
       "4  05.01.2022  00:00  00:00                                      3.667"
      ]
     },
     "execution_count": 32,
     "metadata": {},
     "output_type": "execute_result"
    }
   ],
   "source": [
    "for file in power_plant_list:\n",
    "    col = file.split('_')[0]\n",
    "    folder = path + '/' + file\n",
    "    df = pd.read_csv(folder, delimiter=';', decimal=',')\n",
    "    \n",
    "    if df.shape[0] > 1:\n",
    "        if df.shape[2] > 4:\n",
    "            num_cols =  df.columns[3:len(test2)]\n",
    "            for col in num_cols:\n",
    "                test2[col] = test2[col].apply(convert_str_to_float)  \n",
    "            df['Generation_DE [MW] Berechnete Auflösungen'] = df.sum(numeric_only = True, axis =1)\n",
    "        data_name = 'Generation_DE [MW] Berechnete Auflösungen' \n",
    "        for i in df.columns:\n",
    "            if 'Berechnete Auflösungen' in i:\n",
    "                data_name = i\n",
    "        power_plant[col] = df[data_name]\n",
    "    else:\n",
    "        print(f'Company {col} data is empty')\n"
   ]
  },
  {
   "cell_type": "code",
   "execution_count": null,
   "metadata": {},
   "outputs": [],
   "source": [
    "power_plant_dict= {\n",
    "    'Laufwasser': ['Abwinden-Asten'],\n",
    "    'Erdgas' : ['Ahrensfelde']    \n",
    "}\n",
    "    "
   ]
  },
  {
   "cell_type": "code",
   "execution_count": 13,
   "metadata": {},
   "outputs": [
    {
     "data": {
      "text/html": [
       "<div>\n",
       "<style scoped>\n",
       "    .dataframe tbody tr th:only-of-type {\n",
       "        vertical-align: middle;\n",
       "    }\n",
       "\n",
       "    .dataframe tbody tr th {\n",
       "        vertical-align: top;\n",
       "    }\n",
       "\n",
       "    .dataframe thead th {\n",
       "        text-align: right;\n",
       "    }\n",
       "</style>\n",
       "<table border=\"1\" class=\"dataframe\">\n",
       "  <thead>\n",
       "    <tr style=\"text-align: right;\">\n",
       "      <th></th>\n",
       "      <th>Name</th>\n",
       "      <th>Place</th>\n",
       "      <th>Energy_Source</th>\n",
       "      <th>Rated_capacity</th>\n",
       "    </tr>\n",
       "  </thead>\n",
       "  <tbody>\n",
       "    <tr>\n",
       "      <th>0</th>\n",
       "      <td>Abfallentsorgungszentrum Asdonkshof</td>\n",
       "      <td>Kamp-Lintfort</td>\n",
       "      <td>Abfall</td>\n",
       "      <td>20.8 MW</td>\n",
       "    </tr>\n",
       "    <tr>\n",
       "      <th>1</th>\n",
       "      <td>Abfallheizkraftwerk Neunkirchen</td>\n",
       "      <td>Neunkirchen</td>\n",
       "      <td>Abfall</td>\n",
       "      <td>11.6 MW</td>\n",
       "    </tr>\n",
       "    <tr>\n",
       "      <th>2</th>\n",
       "      <td>AMK - Abfallentsorgungsgesellschaft des Maerki...</td>\n",
       "      <td>Iserlohn</td>\n",
       "      <td>Abfall</td>\n",
       "      <td>12.6 MW</td>\n",
       "    </tr>\n",
       "    <tr>\n",
       "      <th>3</th>\n",
       "      <td>AVA GmbH</td>\n",
       "      <td>Augsburg</td>\n",
       "      <td>Abfall</td>\n",
       "      <td>10 MW</td>\n",
       "    </tr>\n",
       "    <tr>\n",
       "      <th>4</th>\n",
       "      <td>AVA Velsen</td>\n",
       "      <td>Saarbruecken</td>\n",
       "      <td>Abfall</td>\n",
       "      <td>16 MW</td>\n",
       "    </tr>\n",
       "  </tbody>\n",
       "</table>\n",
       "</div>"
      ],
      "text/plain": [
       "                                                Name           Place  \\\n",
       "0               Abfallentsorgungszentrum Asdonkshof   Kamp-Lintfort    \n",
       "1                   Abfallheizkraftwerk Neunkirchen     Neunkirchen    \n",
       "2  AMK - Abfallentsorgungsgesellschaft des Maerki...       Iserlohn    \n",
       "3                                          AVA GmbH        Augsburg    \n",
       "4                                        AVA Velsen    Saarbruecken    \n",
       "\n",
       "  Energy_Source Rated_capacity  \n",
       "0       Abfall        20.8 MW   \n",
       "1       Abfall        11.6 MW   \n",
       "2       Abfall        12.6 MW   \n",
       "3       Abfall          10 MW   \n",
       "4       Abfall          16 MW   "
      ]
     },
     "execution_count": 13,
     "metadata": {},
     "output_type": "execute_result"
    }
   ],
   "source": [
    "\n",
    "test2 = pd.read_csv('Powerplant_types/Powerplant_types_v4.csv',delimiter = \",\", encoding = \"utf-8\") \n",
    "test2.head()"
   ]
  },
  {
   "cell_type": "code",
   "execution_count": 15,
   "metadata": {},
   "outputs": [
    {
     "data": {
      "text/plain": [
       "Erdgas                                     269\n",
       "Laufwasser                                 104\n",
       "Wind (Onshore)                              90\n",
       "Steinkohle                                  80\n",
       "Photovoltaik                                63\n",
       "Biomasse                                    56\n",
       "Abfall                                      45\n",
       "Braunkohle                                  28\n",
       "Pumpspeicher                                28\n",
       "Wind (Offshore)                             28\n",
       "Sonstige konventionelle Energietraeger      25\n",
       "Mineraloelprodukte                          23\n",
       "Speicherwasser (ohne Pumpspeicher)          21\n",
       "Batteriespeicher                            15\n",
       "Kernenergie                                  8\n",
       "Steinkohle - Heizoel                         1\n",
       "Biomasse                                     1\n",
       "Waerme                                       1\n",
       "Erdgas – Heizoel                             1\n",
       "Name: Energy_Source, dtype: int64"
      ]
     },
     "execution_count": 15,
     "metadata": {},
     "output_type": "execute_result"
    }
   ],
   "source": [
    "test2['Energy_Source'].value_counts()"
   ]
  }
 ],
 "metadata": {
  "kernelspec": {
   "display_name": "Python 3",
   "language": "python",
   "name": "python3"
  },
  "language_info": {
   "codemirror_mode": {
    "name": "ipython",
    "version": 3
   },
   "file_extension": ".py",
   "mimetype": "text/x-python",
   "name": "python",
   "nbconvert_exporter": "python",
   "pygments_lexer": "ipython3",
   "version": "3.10.6"
  },
  "orig_nbformat": 4,
  "vscode": {
   "interpreter": {
    "hash": "0d39961f5a890b7e0f98dc3b1a34cbea5c044797cc6249b49b71442453fde5c1"
   }
  }
 },
 "nbformat": 4,
 "nbformat_minor": 2
}
