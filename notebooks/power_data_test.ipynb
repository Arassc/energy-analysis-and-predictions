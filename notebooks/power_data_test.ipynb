{
 "cells": [
  {
   "attachments": {},
   "cell_type": "markdown",
   "metadata": {},
   "source": [
    "# Imports"
   ]
  },
  {
   "cell_type": "code",
   "execution_count": 1,
   "metadata": {},
   "outputs": [
    {
     "name": "stdout",
     "output_type": "stream",
     "text": [
      "/home/araceli/code/energy-analysis-and-predictions/notebooks\n"
     ]
    }
   ],
   "source": [
    "import pandas as pd\n",
    "import os \n",
    "current_folder = os.getcwd()\n",
    "print(current_folder)\n",
    "parent_folder = os.path.dirname(current_folder)\n",
    "os.chdir(parent_folder)"
   ]
  },
  {
   "cell_type": "code",
   "execution_count": 3,
   "metadata": {},
   "outputs": [
    {
     "name": "stdout",
     "output_type": "stream",
     "text": [
      "The autoreload extension is already loaded. To reload it, use:\n",
      "  %reload_ext autoreload\n"
     ]
    }
   ],
   "source": [
    "%load_ext autoreload\n",
    "%autoreload 2\n",
    "%matplotlib inline\n",
    "import numpy as np\n",
    "import pandas as pd\n",
    "pd.options.mode.chained_assignment = None\n",
    "\n",
    "from utils.parameters import ENERGY_COMPANIES_FOLDER, ENERGY_COMPANY_SECTOR\n",
    "\n",
    "from load_data.load_energy_prices import load_energy_prices_data, \\\n",
    "                            load_energy_prices_from_all_files         \n",
    "\n",
    "from predict_data.create_train_test_data import get_scaled_X_y_train_and_test_data\n",
    "from predict_data.create_simple_train_test_data import get_X_y_scaled_and_splited                       \n",
    "from predict_data.load_gru_model import load_gru_model          \n",
    "from predict_data.model_methods import compile_model, train_model,evaluate_model, predict_model                                          \n",
    "\n",
    "from visualize_data.plot_price_with_interactive_timestamps import plot_price_with_interactive_timestamps   \n",
    "from visualize_data.plot_model_history import plot_history\n",
    "from visualize_data.plot_predict_vs_test import plot_predict_vs_test"
   ]
  },
  {
   "attachments": {},
   "cell_type": "markdown",
   "metadata": {},
   "source": [
    "# COMPANY SECTORS"
   ]
  },
  {
   "cell_type": "code",
   "execution_count": 53,
   "metadata": {},
   "outputs": [
    {
     "data": {
      "text/html": [
       "<div>\n",
       "<style scoped>\n",
       "    .dataframe tbody tr th:only-of-type {\n",
       "        vertical-align: middle;\n",
       "    }\n",
       "\n",
       "    .dataframe tbody tr th {\n",
       "        vertical-align: top;\n",
       "    }\n",
       "\n",
       "    .dataframe thead th {\n",
       "        text-align: right;\n",
       "    }\n",
       "</style>\n",
       "<table border=\"1\" class=\"dataframe\">\n",
       "  <thead>\n",
       "    <tr style=\"text-align: right;\">\n",
       "      <th></th>\n",
       "      <th>Name</th>\n",
       "      <th>Place</th>\n",
       "      <th>Energy_Source</th>\n",
       "      <th>Rated_capacity</th>\n",
       "    </tr>\n",
       "  </thead>\n",
       "  <tbody>\n",
       "    <tr>\n",
       "      <th>0</th>\n",
       "      <td>Abfallentsorgungszentrum Asdonkshof</td>\n",
       "      <td>Kamp-Lintfort</td>\n",
       "      <td>Abfall</td>\n",
       "      <td>20.8 MW</td>\n",
       "    </tr>\n",
       "    <tr>\n",
       "      <th>1</th>\n",
       "      <td>Abfallheizkraftwerk Neunkirchen</td>\n",
       "      <td>Neunkirchen</td>\n",
       "      <td>Abfall</td>\n",
       "      <td>11.6 MW</td>\n",
       "    </tr>\n",
       "    <tr>\n",
       "      <th>2</th>\n",
       "      <td>AMK - Abfallentsorgungsgesellschaft des Maerki...</td>\n",
       "      <td>Iserlohn</td>\n",
       "      <td>Abfall</td>\n",
       "      <td>12.6 MW</td>\n",
       "    </tr>\n",
       "    <tr>\n",
       "      <th>3</th>\n",
       "      <td>AVA GmbH</td>\n",
       "      <td>Augsburg</td>\n",
       "      <td>Abfall</td>\n",
       "      <td>10 MW</td>\n",
       "    </tr>\n",
       "    <tr>\n",
       "      <th>4</th>\n",
       "      <td>AVA Velsen</td>\n",
       "      <td>Saarbruecken</td>\n",
       "      <td>Abfall</td>\n",
       "      <td>16 MW</td>\n",
       "    </tr>\n",
       "  </tbody>\n",
       "</table>\n",
       "</div>"
      ],
      "text/plain": [
       "                                                Name           Place  \\\n",
       "0               Abfallentsorgungszentrum Asdonkshof   Kamp-Lintfort    \n",
       "1                   Abfallheizkraftwerk Neunkirchen     Neunkirchen    \n",
       "2  AMK - Abfallentsorgungsgesellschaft des Maerki...       Iserlohn    \n",
       "3                                          AVA GmbH        Augsburg    \n",
       "4                                        AVA Velsen    Saarbruecken    \n",
       "\n",
       "  Energy_Source Rated_capacity  \n",
       "0       Abfall        20.8 MW   \n",
       "1       Abfall        11.6 MW   \n",
       "2       Abfall        12.6 MW   \n",
       "3       Abfall          10 MW   \n",
       "4       Abfall          16 MW   "
      ]
     },
     "execution_count": 53,
     "metadata": {},
     "output_type": "execute_result"
    }
   ],
   "source": [
    "energy_sectors = pd.read_csv(ENERGY_COMPANY_SECTOR ,delimiter = \",\", encoding = \"utf-8\") \n",
    "energy_sectors.head()"
   ]
  },
  {
   "cell_type": "code",
   "execution_count": 55,
   "metadata": {},
   "outputs": [],
   "source": [
    "energy_sectors['Energy_Source'] = energy_sectors['Energy_Source'].map(lambda x: str(x)[:-1])"
   ]
  },
  {
   "cell_type": "code",
   "execution_count": 56,
   "metadata": {},
   "outputs": [
    {
     "data": {
      "text/plain": [
       "Erdgas                                    269\n",
       "Laufwasser                                104\n",
       "Wind (Onshore)                             90\n",
       "Steinkohle                                 80\n",
       "Photovoltaik                               63\n",
       "Biomasse                                   56\n",
       "na                                         55\n",
       "Abfall                                     45\n",
       "Braunkohle                                 28\n",
       "Pumpspeicher                               28\n",
       "Wind (Offshore)                            28\n",
       "Sonstige konventionelle Energietraeger     25\n",
       "Mineraloelprodukte                         23\n",
       "Speicherwasser (ohne Pumpspeicher)         21\n",
       "Batteriespeicher                           15\n",
       "Kernenergie                                 8\n",
       "Steinkohle - Heizoe                         1\n",
       "Biomass                                     1\n",
       "Waerme                                      1\n",
       "Erdgas – Heizoe                             1\n",
       "Name: Energy_Source, dtype: int64"
      ]
     },
     "execution_count": 56,
     "metadata": {},
     "output_type": "execute_result"
    }
   ],
   "source": [
    "energy_sector_types = energy_sectors['Energy_Source'].value_counts()\n",
    "energy_sector_types"
   ]
  },
  {
   "cell_type": "code",
   "execution_count": 57,
   "metadata": {},
   "outputs": [
    {
     "data": {
      "text/plain": [
       "['Abfall',\n",
       " 'Batteriespeicher',\n",
       " 'Biomass',\n",
       " 'Biomasse',\n",
       " 'Braunkohle',\n",
       " 'Erdgas',\n",
       " 'Erdgas – Heizoe',\n",
       " 'Kernenergie',\n",
       " 'Laufwasser',\n",
       " 'Mineraloelprodukte',\n",
       " 'Photovoltaik',\n",
       " 'Pumpspeicher',\n",
       " 'Sonstige konventionelle Energietraeger',\n",
       " 'Speicherwasser (ohne Pumpspeicher)',\n",
       " 'Steinkohle',\n",
       " 'Steinkohle - Heizoe',\n",
       " 'Waerme',\n",
       " 'Wind (Offshore)',\n",
       " 'Wind (Onshore)',\n",
       " 'na']"
      ]
     },
     "execution_count": 57,
     "metadata": {},
     "output_type": "execute_result"
    }
   ],
   "source": [
    "sectors = list(energy_sector_types.index)\n",
    "#sectors = [sector[:-1] for sector in sectors]\n",
    "sectors.sort()\n",
    "sectors"
   ]
  },
  {
   "cell_type": "code",
   "execution_count": 64,
   "metadata": {},
   "outputs": [
    {
     "data": {
      "text/plain": [
       "{'Abfall': [],\n",
       " 'Batteriespeicher': [],\n",
       " 'Biomass': [],\n",
       " 'Biomasse': [],\n",
       " 'Braunkohle': [],\n",
       " 'Erdgas': [],\n",
       " 'Erdgas – Heizoe': [],\n",
       " 'Kernenergie': [],\n",
       " 'Laufwasser': [],\n",
       " 'Mineraloelprodukte': [],\n",
       " 'Photovoltaik': [],\n",
       " 'Pumpspeicher': [],\n",
       " 'Sonstige konventionelle Energietraeger': [],\n",
       " 'Speicherwasser (ohne Pumpspeicher)': [],\n",
       " 'Steinkohle': [],\n",
       " 'Steinkohle - Heizoe': [],\n",
       " 'Waerme': [],\n",
       " 'Wind (Offshore)': [],\n",
       " 'Wind (Onshore)': [],\n",
       " 'na': []}"
      ]
     },
     "execution_count": 64,
     "metadata": {},
     "output_type": "execute_result"
    }
   ],
   "source": [
    "dict_companies = {sector:[] for sector in sectors}\n",
    "dict_companies"
   ]
  },
  {
   "cell_type": "code",
   "execution_count": null,
   "metadata": {},
   "outputs": [],
   "source": [
    "Erdgas = []\n",
    "Laufwasser ', 'Wind (Onshore) ', 'Steinkohle ',\n",
    "       'Photovoltaik ', 'Biomasse ', 'Abfall ', 'Braunkohle ', 'Pumpspeicher ',\n",
    "       'Wind (Offshore) ', 'Sonstige konventionelle Energietraeger ',\n",
    "       'Mineraloelprodukte ', 'Speicherwasser (ohne Pumpspeicher) ',\n",
    "       'Batteriespeicher ', 'Kernenergie ', 'Steinkohle - Heizoel', 'Biomasse',\n",
    "       'Waerme ', 'Erdgas – Heizoel'"
   ]
  },
  {
   "attachments": {},
   "cell_type": "markdown",
   "metadata": {},
   "source": [
    "# Power Plant data"
   ]
  },
  {
   "cell_type": "code",
   "execution_count": 15,
   "metadata": {},
   "outputs": [
    {
     "name": "stdout",
     "output_type": "stream",
     "text": [
      "len(power_plant_list)= 226\n"
     ]
    }
   ],
   "source": [
    "#foldername = os.path.join(ENERGY_COMPANIES_FOLDER,'power-plant-data-2022-Jan-to-Dec' )\n",
    "power_plant_list = os.listdir(ENERGY_COMPANIES_FOLDER)\n",
    "power_plant_list.sort()\n",
    "print('len(power_plant_list)=', len(power_plant_list))\n"
   ]
  },
  {
   "cell_type": "code",
   "execution_count": 16,
   "metadata": {},
   "outputs": [
    {
     "data": {
      "text/plain": [
       "'Abwinden-Asten_202201010000_202212312359_Tag_1.csv'"
      ]
     },
     "execution_count": 16,
     "metadata": {},
     "output_type": "execute_result"
    }
   ],
   "source": [
    "power_plant_list[0]"
   ]
  },
  {
   "cell_type": "code",
   "execution_count": 19,
   "metadata": {},
   "outputs": [
    {
     "name": "stdout",
     "output_type": "stream",
     "text": [
      "/home/araceli/code/energy-analysis-and-predictions/raw_data/energy-companies/power-plant-data-2022-Jan-to-Dec/Abwinden-Asten_202201010000_202212312359_Tag_1.csv\n"
     ]
    },
    {
     "data": {
      "text/html": [
       "<div>\n",
       "<style scoped>\n",
       "    .dataframe tbody tr th:only-of-type {\n",
       "        vertical-align: middle;\n",
       "    }\n",
       "\n",
       "    .dataframe tbody tr th {\n",
       "        vertical-align: top;\n",
       "    }\n",
       "\n",
       "    .dataframe thead th {\n",
       "        text-align: right;\n",
       "    }\n",
       "</style>\n",
       "<table border=\"1\" class=\"dataframe\">\n",
       "  <thead>\n",
       "    <tr style=\"text-align: right;\">\n",
       "      <th></th>\n",
       "      <th>Datum</th>\n",
       "      <th>Anfang</th>\n",
       "      <th>Ende</th>\n",
       "      <th>Generation_DE  [MW] Berechnete Auflösungen</th>\n",
       "    </tr>\n",
       "  </thead>\n",
       "  <tbody>\n",
       "    <tr>\n",
       "      <th>0</th>\n",
       "      <td>01.01.2022</td>\n",
       "      <td>00:00</td>\n",
       "      <td>00:00</td>\n",
       "      <td>3.906</td>\n",
       "    </tr>\n",
       "    <tr>\n",
       "      <th>1</th>\n",
       "      <td>02.01.2022</td>\n",
       "      <td>00:00</td>\n",
       "      <td>00:00</td>\n",
       "      <td>3.813</td>\n",
       "    </tr>\n",
       "    <tr>\n",
       "      <th>2</th>\n",
       "      <td>03.01.2022</td>\n",
       "      <td>00:00</td>\n",
       "      <td>00:00</td>\n",
       "      <td>3.479</td>\n",
       "    </tr>\n",
       "    <tr>\n",
       "      <th>3</th>\n",
       "      <td>04.01.2022</td>\n",
       "      <td>00:00</td>\n",
       "      <td>00:00</td>\n",
       "      <td>3.488</td>\n",
       "    </tr>\n",
       "    <tr>\n",
       "      <th>4</th>\n",
       "      <td>05.01.2022</td>\n",
       "      <td>00:00</td>\n",
       "      <td>00:00</td>\n",
       "      <td>3.667</td>\n",
       "    </tr>\n",
       "  </tbody>\n",
       "</table>\n",
       "</div>"
      ],
      "text/plain": [
       "        Datum Anfang   Ende Generation_DE  [MW] Berechnete Auflösungen\n",
       "0  01.01.2022  00:00  00:00                                      3.906\n",
       "1  02.01.2022  00:00  00:00                                      3.813\n",
       "2  03.01.2022  00:00  00:00                                      3.479\n",
       "3  04.01.2022  00:00  00:00                                      3.488\n",
       "4  05.01.2022  00:00  00:00                                      3.667"
      ]
     },
     "execution_count": 19,
     "metadata": {},
     "output_type": "execute_result"
    }
   ],
   "source": [
    "filename = os.path.join(ENERGY_COMPANIES_FOLDER, power_plant_list[0])\n",
    "print(filename)\n",
    "test_1 = pd.read_csv(filename, delimiter=',', decimal='.')\n",
    "test_1.head()"
   ]
  },
  {
   "cell_type": "code",
   "execution_count": 25,
   "metadata": {},
   "outputs": [
    {
     "data": {
      "text/plain": [
       "'Abwinden-Asten'"
      ]
     },
     "execution_count": 25,
     "metadata": {},
     "output_type": "execute_result"
    }
   ],
   "source": [
    "x=power_plant_list[0].split('_')[0]\n",
    "x"
   ]
  },
  {
   "cell_type": "code",
   "execution_count": 35,
   "metadata": {},
   "outputs": [
    {
     "data": {
      "text/plain": [
       "False    922\n",
       "True      20\n",
       "Name: Name, dtype: int64"
      ]
     },
     "execution_count": 35,
     "metadata": {},
     "output_type": "execute_result"
    }
   ],
   "source": [
    "energy_sectors['Name'].isna().value_counts()"
   ]
  },
  {
   "cell_type": "code",
   "execution_count": 65,
   "metadata": {},
   "outputs": [
    {
     "name": "stdout",
     "output_type": "stream",
     "text": [
      "Laufwasser\n"
     ]
    },
    {
     "data": {
      "text/plain": [
       "[]"
      ]
     },
     "execution_count": 65,
     "metadata": {},
     "output_type": "execute_result"
    }
   ],
   "source": [
    "energy_sectors = energy_sectors.dropna()\n",
    "condition = energy_sectors['Name'].str.contains(x)\n",
    "# condition = energy_sectors['Name']==x\n",
    "company_df = energy_sectors[condition]\n",
    "company_sector = company_df['Energy_Source'].values[0]\n",
    "print(company_sector )\n",
    "#energy_sectors['Name'].str.contains(x).any()\n",
    "#dict_companies[company_sector].append(test_1)\n",
    "dict_companies['Abfall']"
   ]
  },
  {
   "cell_type": "code",
   "execution_count": null,
   "metadata": {},
   "outputs": [],
   "source": [
    "test =  pd.read_csv('SMARD/power-plant-data-2022-Jan-to-Dec/Amrumbank_West_202201010000_202212312359_Tag_4.csv',delimiter=';', decimal=',') \n",
    "test"
   ]
  },
  {
   "cell_type": "code",
   "execution_count": null,
   "metadata": {},
   "outputs": [
    {
     "data": {
      "text/plain": [
       "(1, 4)"
      ]
     },
     "metadata": {},
     "output_type": "display_data"
    }
   ],
   "source": [
    "test.shape"
   ]
  },
  {
   "cell_type": "code",
   "execution_count": null,
   "metadata": {},
   "outputs": [],
   "source": [
    "test2 = pd.read_csv('SMARD/power-plant-data-2022-Jan-to-Dec/Pumpspeicherkraftwerk_Vianden_202201010000_202212312359_Tag_137.csv', delimiter=';', decimal=',') \n",
    "test2.head()"
   ]
  },
  {
   "cell_type": "code",
   "execution_count": null,
   "metadata": {},
   "outputs": [],
   "source": [
    "num_cols = test2.columns[3:len(test2)]"
   ]
  },
  {
   "cell_type": "code",
   "execution_count": null,
   "metadata": {},
   "outputs": [],
   "source": [
    "def convert_str_to_float(text):\n",
    "    if text == '-':\n",
    "        return 0\n",
    "    else:\n",
    "        text=text.replace(',','.')\n",
    "        return float(text)"
   ]
  },
  {
   "cell_type": "code",
   "execution_count": null,
   "metadata": {},
   "outputs": [],
   "source": [
    "test2['Generation_DE Maschine 9 [MW] Berechnete Auflösungen']=test2['Generation_DE Maschine 9 [MW] Berechnete Auflösungen'].apply(from_str_to_float)"
   ]
  },
  {
   "cell_type": "code",
   "execution_count": null,
   "metadata": {},
   "outputs": [
    {
     "data": {
      "text/plain": [
       "0    148.0\n",
       "1      0.0\n",
       "2    257.0\n",
       "3    210.0\n",
       "4      0.0\n",
       "Name: Generation_DE Maschine 9 [MW] Berechnete Auflösungen, dtype: float64"
      ]
     },
     "metadata": {},
     "output_type": "display_data"
    }
   ],
   "source": [
    "test2['Generation_DE Maschine 9 [MW] Berechnete Auflösungen'].head()"
   ]
  },
  {
   "cell_type": "code",
   "execution_count": null,
   "metadata": {},
   "outputs": [],
   "source": [
    "for col in num_cols:\n",
    "    test2[col] = test2[col].apply(convert_str_to_float)  "
   ]
  },
  {
   "cell_type": "code",
   "execution_count": null,
   "metadata": {},
   "outputs": [
    {
     "data": {
      "text/plain": [
       "Datum                                                     object\n",
       "Anfang                                                    object\n",
       "Ende                                                      object\n",
       "Generation_DE Maschine 9 [MW] Berechnete Auflösungen     float64\n",
       "Generation_DE Maschine 8 [MW] Berechnete Auflösungen     float64\n",
       "Generation_DE Maschine 2 [MW] Berechnete Auflösungen     float64\n",
       "Generation_DE Maschine 3 [MW] Berechnete Auflösungen     float64\n",
       "Generation_DE Maschine 4 [MW] Berechnete Auflösungen     float64\n",
       "Generation_DE Maschine 7 [MW] Berechnete Auflösungen     float64\n",
       "Generation_DE Maschine 1 [MW] Berechnete Auflösungen     float64\n",
       "Generation_DE Maschine 5 [MW] Berechnete Auflösungen     float64\n",
       "Generation_DE Maschine 6 [MW] Berechnete Auflösungen     float64\n",
       "Generation_DE Maschine 10 [MW] Berechnete Auflösungen    float64\n",
       "Generation_DE Maschine 11 [MW] Berechnete Auflösungen    float64\n",
       "dtype: object"
      ]
     },
     "metadata": {},
     "output_type": "display_data"
    }
   ],
   "source": [
    "test2.dtypes"
   ]
  },
  {
   "cell_type": "code",
   "execution_count": null,
   "metadata": {},
   "outputs": [],
   "source": [
    "test2['Generation_DE [MW] Berechnete Auflösungen'] = test2.sum(numeric_only = True, axis =1)\n",
    "test2.head()"
   ]
  },
  {
   "cell_type": "code",
   "execution_count": null,
   "metadata": {},
   "outputs": [
    {
     "data": {
      "text/plain": [
       "2466.951"
      ]
     },
     "metadata": {},
     "output_type": "display_data"
    }
   ],
   "source": [
    "148.0 + 176.0+ 0.0+ 1.475+ 765.000+ 232.0+ 1.476+ 460.0\t+ 391.0+ 0.0+ 292.0\t"
   ]
  },
  {
   "cell_type": "code",
   "execution_count": null,
   "metadata": {},
   "outputs": [
    {
     "data": {
      "text/plain": [
       "str"
      ]
     },
     "metadata": {},
     "output_type": "display_data"
    }
   ],
   "source": [
    "type(test2['Generation_DE Maschine 9 [MW] Berechnete Auflösungen'][177])"
   ]
  },
  {
   "cell_type": "code",
   "execution_count": null,
   "metadata": {},
   "outputs": [
    {
     "data": {
      "text/plain": [
       "'-'"
      ]
     },
     "metadata": {},
     "output_type": "display_data"
    }
   ],
   "source": [
    "test2['Generation_DE Maschine 9 [MW] Berechnete Auflösungen'][178]"
   ]
  },
  {
   "cell_type": "code",
   "execution_count": null,
   "metadata": {},
   "outputs": [
    {
     "data": {
      "text/plain": [
       "230.0"
      ]
     },
     "metadata": {},
     "output_type": "display_data"
    }
   ],
   "source": [
    "float(test2['Generation_DE Maschine 9 [MW] Berechnete Auflösungen'][177])"
   ]
  },
  {
   "cell_type": "code",
   "execution_count": null,
   "metadata": {},
   "outputs": [
    {
     "data": {
      "text/html": [
       "<div>\n",
       "<style scoped>\n",
       "    .dataframe tbody tr th:only-of-type {\n",
       "        vertical-align: middle;\n",
       "    }\n",
       "\n",
       "    .dataframe tbody tr th {\n",
       "        vertical-align: top;\n",
       "    }\n",
       "\n",
       "    .dataframe thead th {\n",
       "        text-align: right;\n",
       "    }\n",
       "</style>\n",
       "<table border=\"1\" class=\"dataframe\">\n",
       "  <thead>\n",
       "    <tr style=\"text-align: right;\">\n",
       "      <th></th>\n",
       "      <th>Date</th>\n",
       "      <th>Start</th>\n",
       "      <th>End</th>\n",
       "      <th>Abwinden-Asten</th>\n",
       "    </tr>\n",
       "  </thead>\n",
       "  <tbody>\n",
       "    <tr>\n",
       "      <th>0</th>\n",
       "      <td>01.01.2022</td>\n",
       "      <td>00:00</td>\n",
       "      <td>00:00</td>\n",
       "      <td>3.906</td>\n",
       "    </tr>\n",
       "    <tr>\n",
       "      <th>1</th>\n",
       "      <td>02.01.2022</td>\n",
       "      <td>00:00</td>\n",
       "      <td>00:00</td>\n",
       "      <td>3.813</td>\n",
       "    </tr>\n",
       "    <tr>\n",
       "      <th>2</th>\n",
       "      <td>03.01.2022</td>\n",
       "      <td>00:00</td>\n",
       "      <td>00:00</td>\n",
       "      <td>3.479</td>\n",
       "    </tr>\n",
       "    <tr>\n",
       "      <th>3</th>\n",
       "      <td>04.01.2022</td>\n",
       "      <td>00:00</td>\n",
       "      <td>00:00</td>\n",
       "      <td>3.488</td>\n",
       "    </tr>\n",
       "    <tr>\n",
       "      <th>4</th>\n",
       "      <td>05.01.2022</td>\n",
       "      <td>00:00</td>\n",
       "      <td>00:00</td>\n",
       "      <td>3.667</td>\n",
       "    </tr>\n",
       "  </tbody>\n",
       "</table>\n",
       "</div>"
      ],
      "text/plain": [
       "         Date  Start    End Abwinden-Asten\n",
       "0  01.01.2022  00:00  00:00          3.906\n",
       "1  02.01.2022  00:00  00:00          3.813\n",
       "2  03.01.2022  00:00  00:00          3.479\n",
       "3  04.01.2022  00:00  00:00          3.488\n",
       "4  05.01.2022  00:00  00:00          3.667"
      ]
     },
     "metadata": {},
     "output_type": "display_data"
    }
   ],
   "source": [
    "# Take first company\n",
    "file1 = power_plant_list[0].split('_')[0]\n",
    "col = file1.split('_')[0]\n",
    "folder = path + '/' + power_plant_list[0]\n",
    "power_plant = pd.read_csv(folder, delimiter=';', decimal=',')\n",
    "power_plant.columns = ['Date', 'Start', 'End', col]\n",
    "power_plant.head()"
   ]
  },
  {
   "cell_type": "code",
   "execution_count": null,
   "metadata": {},
   "outputs": [
    {
     "data": {
      "text/plain": [
       "['Abwinden-Asten_202201010000_202212312359_Tag_1.csv',\n",
       " 'Ahrensfelde_202201010000_202212312359_Tag_2.csv',\n",
       " 'Ahrensfelde_202201010000_202212312359_Tag_2.csv:Zone.Identifier',\n",
       " 'Altenw_rth_202201010000_202212312359_Tag_3.csv',\n",
       " 'Altenw_rth_202201010000_202212312359_Tag_3.csv:Zone.Identifier']"
      ]
     },
     "metadata": {},
     "output_type": "display_data"
    }
   ],
   "source": [
    "power_plant_list.pop(1)\n",
    "power_plant_list[0:5]"
   ]
  },
  {
   "cell_type": "code",
   "execution_count": null,
   "metadata": {},
   "outputs": [
    {
     "data": {
      "text/html": [
       "<div>\n",
       "<style scoped>\n",
       "    .dataframe tbody tr th:only-of-type {\n",
       "        vertical-align: middle;\n",
       "    }\n",
       "\n",
       "    .dataframe tbody tr th {\n",
       "        vertical-align: top;\n",
       "    }\n",
       "\n",
       "    .dataframe thead th {\n",
       "        text-align: right;\n",
       "    }\n",
       "</style>\n",
       "<table border=\"1\" class=\"dataframe\">\n",
       "  <thead>\n",
       "    <tr style=\"text-align: right;\">\n",
       "      <th></th>\n",
       "      <th>Datum</th>\n",
       "      <th>Anfang</th>\n",
       "      <th>Ende</th>\n",
       "      <th>Generation_DE  [MW] Berechnete Auflösungen</th>\n",
       "    </tr>\n",
       "  </thead>\n",
       "  <tbody>\n",
       "    <tr>\n",
       "      <th>0</th>\n",
       "      <td>01.01.2022</td>\n",
       "      <td>00:00</td>\n",
       "      <td>00:00</td>\n",
       "      <td>3.906</td>\n",
       "    </tr>\n",
       "    <tr>\n",
       "      <th>1</th>\n",
       "      <td>02.01.2022</td>\n",
       "      <td>00:00</td>\n",
       "      <td>00:00</td>\n",
       "      <td>3.813</td>\n",
       "    </tr>\n",
       "    <tr>\n",
       "      <th>2</th>\n",
       "      <td>03.01.2022</td>\n",
       "      <td>00:00</td>\n",
       "      <td>00:00</td>\n",
       "      <td>3.479</td>\n",
       "    </tr>\n",
       "    <tr>\n",
       "      <th>3</th>\n",
       "      <td>04.01.2022</td>\n",
       "      <td>00:00</td>\n",
       "      <td>00:00</td>\n",
       "      <td>3.488</td>\n",
       "    </tr>\n",
       "    <tr>\n",
       "      <th>4</th>\n",
       "      <td>05.01.2022</td>\n",
       "      <td>00:00</td>\n",
       "      <td>00:00</td>\n",
       "      <td>3.667</td>\n",
       "    </tr>\n",
       "  </tbody>\n",
       "</table>\n",
       "</div>"
      ],
      "text/plain": [
       "        Datum Anfang   Ende Generation_DE  [MW] Berechnete Auflösungen\n",
       "0  01.01.2022  00:00  00:00                                      3.906\n",
       "1  02.01.2022  00:00  00:00                                      3.813\n",
       "2  03.01.2022  00:00  00:00                                      3.479\n",
       "3  04.01.2022  00:00  00:00                                      3.488\n",
       "4  05.01.2022  00:00  00:00                                      3.667"
      ]
     },
     "metadata": {},
     "output_type": "display_data"
    }
   ],
   "source": [
    "for file in power_plant_list:\n",
    "    col = file.split('_')[0]\n",
    "    folder = path + '/' + file\n",
    "    df = pd.read_csv(folder, delimiter=';', decimal=',')\n",
    "    \n",
    "    if df.shape[0] > 1:\n",
    "        if df.shape[2] > 4:\n",
    "            num_cols =  df.columns[3:len(test2)]\n",
    "            for col in num_cols:\n",
    "                test2[col] = test2[col].apply(convert_str_to_float)  \n",
    "            df['Generation_DE [MW] Berechnete Auflösungen'] = df.sum(numeric_only = True, axis =1)\n",
    "        data_name = 'Generation_DE [MW] Berechnete Auflösungen' \n",
    "        for i in df.columns:\n",
    "            if 'Berechnete Auflösungen' in i:\n",
    "                data_name = i\n",
    "        power_plant[col] = df[data_name]\n",
    "    else:\n",
    "        print(f'Company {col} data is empty')\n"
   ]
  },
  {
   "cell_type": "code",
   "execution_count": null,
   "metadata": {},
   "outputs": [],
   "source": [
    "power_plant_dict= {\n",
    "    'Laufwasser': ['Abwinden-Asten'],\n",
    "    'Erdgas' : ['Ahrensfelde']    \n",
    "}\n",
    "    "
   ]
  }
 ],
 "metadata": {
  "kernelspec": {
   "display_name": "lewagon",
   "language": "python",
   "name": "python3"
  },
  "language_info": {
   "codemirror_mode": {
    "name": "ipython",
    "version": 3
   },
   "file_extension": ".py",
   "mimetype": "text/x-python",
   "name": "python",
   "nbconvert_exporter": "python",
   "pygments_lexer": "ipython3",
   "version": "3.10.6"
  },
  "orig_nbformat": 4
 },
 "nbformat": 4,
 "nbformat_minor": 2
}
