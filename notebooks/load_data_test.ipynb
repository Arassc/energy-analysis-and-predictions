{
 "cells": [
  {
   "attachments": {},
   "cell_type": "markdown",
   "metadata": {},
   "source": [
    "## Imports"
   ]
  },
  {
   "cell_type": "code",
   "execution_count": 2,
   "metadata": {},
   "outputs": [
    {
     "name": "stdout",
     "output_type": "stream",
     "text": [
      "/home/araceli/code/energy-analysis-and-predictions/notebooks\n",
      "/home/araceli/code/energy-analysis-and-predictions\n"
     ]
    }
   ],
   "source": [
    "import os\n",
    "print(os.getcwd())\n",
    "current_path = os.getcwd()\n",
    "parent_path = os.path.dirname(current_path)\n",
    "os.chdir(parent_path)\n",
    "#os.chdir('energy-analysis-and-predictions')\n",
    "print(os.getcwd())"
   ]
  },
  {
   "cell_type": "code",
   "execution_count": 74,
   "metadata": {},
   "outputs": [
    {
     "name": "stdout",
     "output_type": "stream",
     "text": [
      "The autoreload extension is already loaded. To reload it, use:\n",
      "  %reload_ext autoreload\n"
     ]
    }
   ],
   "source": [
    "%load_ext autoreload\n",
    "%autoreload 2\n",
    "%matplotlib inline\n",
    "import numpy as np\n",
    "import pandas as pd\n",
    "import matplotlib.pyplot as plt\n",
    "import math\n",
    "from utils.parameters import ENERGY_PRICE_FOLDER, \\\n",
    "                             ENERGY_COMPANIES_FOLDER\n",
    "from load_data.load_energy_prices import load_energy_prices_data         \n",
    "from predict_data.create_train_test_data import get_X_y_train_and_test_data                \n"
   ]
  },
  {
   "attachments": {},
   "cell_type": "markdown",
   "metadata": {},
   "source": [
    "# Energy Prices "
   ]
  },
  {
   "attachments": {},
   "cell_type": "markdown",
   "metadata": {},
   "source": [
    "## Load data for one file using years: 2018  and 2020 "
   ]
  },
  {
   "cell_type": "code",
   "execution_count": 38,
   "metadata": {},
   "outputs": [
    {
     "name": "stdout",
     "output_type": "stream",
     "text": [
      "Germany/Luxembourg [€/MWh]\n",
      "count of not null values = 92\n",
      "∅ residents Germany/Luxembourg [€/MWh]\n",
      "count of not null values = 0\n",
      "Germany/Luxembourg/Austria [€/MWh]\n",
      "count of not null values = 273\n"
     ]
    },
    {
     "name": "stderr",
     "output_type": "stream",
     "text": [
      "/home/araceli/code/energy-analysis-and-predictions/load_data/load_energy_prices.py:48: SettingWithCopyWarning: \n",
      "A value is trying to be set on a copy of a slice from a DataFrame.\n",
      "Try using .loc[row_indexer,col_indexer] = value instead\n",
      "\n",
      "See the caveats in the documentation: https://pandas.pydata.org/pandas-docs/stable/user_guide/indexing.html#returning-a-view-versus-a-copy\n",
      "  df = df[['Date', col]]\n",
      "/home/araceli/code/energy-analysis-and-predictions/load_data/load_energy_prices.py:48: SettingWithCopyWarning: \n",
      "A value is trying to be set on a copy of a slice from a DataFrame.\n",
      "Try using .loc[row_indexer,col_indexer] = value instead\n",
      "\n",
      "See the caveats in the documentation: https://pandas.pydata.org/pandas-docs/stable/user_guide/indexing.html#returning-a-view-versus-a-copy\n",
      "  df = df[['Date', col]]\n"
     ]
    },
    {
     "data": {
      "text/html": [
       "<div>\n",
       "<style scoped>\n",
       "    .dataframe tbody tr th:only-of-type {\n",
       "        vertical-align: middle;\n",
       "    }\n",
       "\n",
       "    .dataframe tbody tr th {\n",
       "        vertical-align: top;\n",
       "    }\n",
       "\n",
       "    .dataframe thead th {\n",
       "        text-align: right;\n",
       "    }\n",
       "</style>\n",
       "<table border=\"1\" class=\"dataframe\">\n",
       "  <thead>\n",
       "    <tr style=\"text-align: right;\">\n",
       "      <th></th>\n",
       "      <th>Date</th>\n",
       "      <th>Germany [€/MWh]</th>\n",
       "    </tr>\n",
       "  </thead>\n",
       "  <tbody>\n",
       "    <tr>\n",
       "      <th>0</th>\n",
       "      <td>2018-01-01</td>\n",
       "      <td>-25,3</td>\n",
       "    </tr>\n",
       "    <tr>\n",
       "      <th>1</th>\n",
       "      <td>2018-01-02</td>\n",
       "      <td>33,44</td>\n",
       "    </tr>\n",
       "    <tr>\n",
       "      <th>2</th>\n",
       "      <td>2018-01-03</td>\n",
       "      <td>8,97</td>\n",
       "    </tr>\n",
       "    <tr>\n",
       "      <th>3</th>\n",
       "      <td>2018-01-04</td>\n",
       "      <td>29,86</td>\n",
       "    </tr>\n",
       "    <tr>\n",
       "      <th>4</th>\n",
       "      <td>2018-01-05</td>\n",
       "      <td>31,51</td>\n",
       "    </tr>\n",
       "  </tbody>\n",
       "</table>\n",
       "</div>"
      ],
      "text/plain": [
       "        Date Germany [€/MWh]\n",
       "0 2018-01-01           -25,3\n",
       "1 2018-01-02           33,44\n",
       "2 2018-01-03            8,97\n",
       "3 2018-01-04           29,86\n",
       "4 2018-01-05           31,51"
      ]
     },
     "execution_count": 38,
     "metadata": {},
     "output_type": "execute_result"
    }
   ],
   "source": [
    "folder_energy_test_2018 = os.path.join(ENERGY_PRICE_FOLDER, 'Gro_handelspreise_2018_01_01_2018_12_31_Tag.csv')\n",
    "price_2018 = load_energy_prices_data(folder_energy_test_2018, 'Germany')\n",
    "price_2018.head()"
   ]
  },
  {
   "cell_type": "code",
   "execution_count": 41,
   "metadata": {},
   "outputs": [
    {
     "name": "stdout",
     "output_type": "stream",
     "text": [
      "Germany/Luxembourg [€/MWh]\n",
      "count of not null values = 366\n",
      "∅ residents Germany/Luxembourg [€/MWh]\n",
      "count of not null values = 366\n",
      "Germany/Luxembourg/Austria [€/MWh]\n",
      "count of not null values = 0\n"
     ]
    },
    {
     "data": {
      "text/html": [
       "<div>\n",
       "<style scoped>\n",
       "    .dataframe tbody tr th:only-of-type {\n",
       "        vertical-align: middle;\n",
       "    }\n",
       "\n",
       "    .dataframe tbody tr th {\n",
       "        vertical-align: top;\n",
       "    }\n",
       "\n",
       "    .dataframe thead th {\n",
       "        text-align: right;\n",
       "    }\n",
       "</style>\n",
       "<table border=\"1\" class=\"dataframe\">\n",
       "  <thead>\n",
       "    <tr style=\"text-align: right;\">\n",
       "      <th></th>\n",
       "      <th>Date</th>\n",
       "      <th>Germany [€/MWh]</th>\n",
       "    </tr>\n",
       "  </thead>\n",
       "  <tbody>\n",
       "    <tr>\n",
       "      <th>0</th>\n",
       "      <td>2020-01-01</td>\n",
       "      <td>33.700</td>\n",
       "    </tr>\n",
       "    <tr>\n",
       "      <th>1</th>\n",
       "      <td>2020-01-02</td>\n",
       "      <td>38.020</td>\n",
       "    </tr>\n",
       "    <tr>\n",
       "      <th>2</th>\n",
       "      <td>2020-01-03</td>\n",
       "      <td>29.595</td>\n",
       "    </tr>\n",
       "    <tr>\n",
       "      <th>3</th>\n",
       "      <td>2020-01-04</td>\n",
       "      <td>24.705</td>\n",
       "    </tr>\n",
       "    <tr>\n",
       "      <th>4</th>\n",
       "      <td>2020-01-05</td>\n",
       "      <td>34.835</td>\n",
       "    </tr>\n",
       "  </tbody>\n",
       "</table>\n",
       "</div>"
      ],
      "text/plain": [
       "        Date  Germany [€/MWh]\n",
       "0 2020-01-01           33.700\n",
       "1 2020-01-02           38.020\n",
       "2 2020-01-03           29.595\n",
       "3 2020-01-04           24.705\n",
       "4 2020-01-05           34.835"
      ]
     },
     "execution_count": 41,
     "metadata": {},
     "output_type": "execute_result"
    }
   ],
   "source": [
    "folder_energy_test_2020 = os.path.join(ENERGY_PRICE_FOLDER, 'Gro_handelspreise_2020_01_01_2020_12_31_Tag.csv')\n",
    "price_2020 = load_energy_prices_data(folder_energy_test_2020, 'Germany')\n",
    "price_2020.head()"
   ]
  },
  {
   "attachments": {},
   "cell_type": "markdown",
   "metadata": {},
   "source": [
    "## Energy price loading all files "
   ]
  },
  {
   "cell_type": "code",
   "execution_count": 42,
   "metadata": {},
   "outputs": [
    {
     "data": {
      "text/plain": [
       "['Gro_handelspreise_2021_01_01_2021_12_31_Tag.csv',\n",
       " 'Gro_handelspreise_2020_01_01_2020_12_31_Tag.csv',\n",
       " 'Gro_handelspreise_2018_01_01_2018_12_31_Tag.csv',\n",
       " 'Gro_handelspreise_2019_01_01_2019_12_31_Tag.csv',\n",
       " 'Gro_handelspreise_2022_01_01_2022_12_31_Tag.csv']"
      ]
     },
     "execution_count": 42,
     "metadata": {},
     "output_type": "execute_result"
    }
   ],
   "source": [
    "list_files =  os.listdir(ENERGY_PRICE_FOLDER)\n",
    "list_files"
   ]
  },
  {
   "cell_type": "code",
   "execution_count": 62,
   "metadata": {},
   "outputs": [
    {
     "name": "stdout",
     "output_type": "stream",
     "text": [
      "Gro_handelspreise_2021_01_01_2021_12_31_Tag.csv\n",
      "Index(['Date', 'Germany [€/MWh]'], dtype='object')\n",
      "Index(['Germany [€/MWh]'], dtype='object')\n",
      "Gro_handelspreise_2020_01_01_2020_12_31_Tag.csv\n",
      "Index(['Date', 'Germany [€/MWh]'], dtype='object')\n",
      "Index(['Germany [€/MWh]'], dtype='object')\n",
      "Gro_handelspreise_2018_01_01_2018_12_31_Tag.csv\n",
      "Index(['Date', 'Germany [€/MWh]'], dtype='object')\n",
      "Index(['Germany [€/MWh]'], dtype='object')\n",
      "Gro_handelspreise_2019_01_01_2019_12_31_Tag.csv\n",
      "Index(['Date', 'Germany [€/MWh]'], dtype='object')\n",
      "Index(['Germany [€/MWh]'], dtype='object')\n",
      "Gro_handelspreise_2022_01_01_2022_12_31_Tag.csv\n",
      "Index(['Date', 'Germany [€/MWh]'], dtype='object')\n",
      "Index(['Germany [€/MWh]'], dtype='object')\n"
     ]
    },
    {
     "name": "stderr",
     "output_type": "stream",
     "text": [
      "/home/araceli/code/energy-analysis-and-predictions/load_data/load_energy_prices.py:48: SettingWithCopyWarning: \n",
      "A value is trying to be set on a copy of a slice from a DataFrame.\n",
      "Try using .loc[row_indexer,col_indexer] = value instead\n",
      "\n",
      "See the caveats in the documentation: https://pandas.pydata.org/pandas-docs/stable/user_guide/indexing.html#returning-a-view-versus-a-copy\n",
      "  df['Date'] = pd.to_datetime(df['Date'], format='%d.%m.%Y')\n",
      "/home/araceli/code/energy-analysis-and-predictions/load_data/load_energy_prices.py:48: SettingWithCopyWarning: \n",
      "A value is trying to be set on a copy of a slice from a DataFrame.\n",
      "Try using .loc[row_indexer,col_indexer] = value instead\n",
      "\n",
      "See the caveats in the documentation: https://pandas.pydata.org/pandas-docs/stable/user_guide/indexing.html#returning-a-view-versus-a-copy\n",
      "  df['Date'] = pd.to_datetime(df['Date'], format='%d.%m.%Y')\n",
      "/home/araceli/code/energy-analysis-and-predictions/load_data/load_energy_prices.py:48: SettingWithCopyWarning: \n",
      "A value is trying to be set on a copy of a slice from a DataFrame.\n",
      "Try using .loc[row_indexer,col_indexer] = value instead\n",
      "\n",
      "See the caveats in the documentation: https://pandas.pydata.org/pandas-docs/stable/user_guide/indexing.html#returning-a-view-versus-a-copy\n",
      "  df['Date'] = pd.to_datetime(df['Date'], format='%d.%m.%Y')\n"
     ]
    }
   ],
   "source": [
    "list_files =  os.listdir(ENERGY_PRICE_FOLDER)\n",
    "df_list = []\n",
    "for file in list_files:\n",
    "    print(file)\n",
    "    filename = os.path.join(ENERGY_PRICE_FOLDER, file)\n",
    "    df = load_energy_prices_data(filename, 'Germany')\n",
    "    print(df.columns)\n",
    "    df.set_index('Date', inplace=True)\n",
    "    print(df.columns)\n",
    "    df_list.append(df)"
   ]
  },
  {
   "cell_type": "code",
   "execution_count": 63,
   "metadata": {},
   "outputs": [
    {
     "data": {
      "text/html": [
       "<div>\n",
       "<style scoped>\n",
       "    .dataframe tbody tr th:only-of-type {\n",
       "        vertical-align: middle;\n",
       "    }\n",
       "\n",
       "    .dataframe tbody tr th {\n",
       "        vertical-align: top;\n",
       "    }\n",
       "\n",
       "    .dataframe thead th {\n",
       "        text-align: right;\n",
       "    }\n",
       "</style>\n",
       "<table border=\"1\" class=\"dataframe\">\n",
       "  <thead>\n",
       "    <tr style=\"text-align: right;\">\n",
       "      <th></th>\n",
       "      <th>Germany [€/MWh]</th>\n",
       "    </tr>\n",
       "    <tr>\n",
       "      <th>Date</th>\n",
       "      <th></th>\n",
       "    </tr>\n",
       "  </thead>\n",
       "  <tbody>\n",
       "    <tr>\n",
       "      <th>2021-01-01</th>\n",
       "      <td>46.060</td>\n",
       "    </tr>\n",
       "    <tr>\n",
       "      <th>2021-01-02</th>\n",
       "      <td>49.265</td>\n",
       "    </tr>\n",
       "    <tr>\n",
       "      <th>2021-01-03</th>\n",
       "      <td>38.405</td>\n",
       "    </tr>\n",
       "    <tr>\n",
       "      <th>2021-01-04</th>\n",
       "      <td>48.475</td>\n",
       "    </tr>\n",
       "    <tr>\n",
       "      <th>2021-01-05</th>\n",
       "      <td>54.440</td>\n",
       "    </tr>\n",
       "  </tbody>\n",
       "</table>\n",
       "</div>"
      ],
      "text/plain": [
       "            Germany [€/MWh]\n",
       "Date                       \n",
       "2021-01-01           46.060\n",
       "2021-01-02           49.265\n",
       "2021-01-03           38.405\n",
       "2021-01-04           48.475\n",
       "2021-01-05           54.440"
      ]
     },
     "execution_count": 63,
     "metadata": {},
     "output_type": "execute_result"
    }
   ],
   "source": [
    "df_list[0].head()"
   ]
  },
  {
   "cell_type": "code",
   "execution_count": 64,
   "metadata": {},
   "outputs": [
    {
     "data": {
      "text/plain": [
       "(1867, 1)"
      ]
     },
     "execution_count": 64,
     "metadata": {},
     "output_type": "execute_result"
    }
   ],
   "source": [
    "final_df = pd.concat(df_list).sort_index()\n",
    "final_df.shape"
   ]
  },
  {
   "cell_type": "code",
   "execution_count": 65,
   "metadata": {},
   "outputs": [
    {
     "data": {
      "text/html": [
       "<div>\n",
       "<style scoped>\n",
       "    .dataframe tbody tr th:only-of-type {\n",
       "        vertical-align: middle;\n",
       "    }\n",
       "\n",
       "    .dataframe tbody tr th {\n",
       "        vertical-align: top;\n",
       "    }\n",
       "\n",
       "    .dataframe thead th {\n",
       "        text-align: right;\n",
       "    }\n",
       "</style>\n",
       "<table border=\"1\" class=\"dataframe\">\n",
       "  <thead>\n",
       "    <tr style=\"text-align: right;\">\n",
       "      <th></th>\n",
       "      <th>Germany [€/MWh]</th>\n",
       "    </tr>\n",
       "    <tr>\n",
       "      <th>Date</th>\n",
       "      <th></th>\n",
       "    </tr>\n",
       "  </thead>\n",
       "  <tbody>\n",
       "    <tr>\n",
       "      <th>2018-01-01</th>\n",
       "      <td>-25,3</td>\n",
       "    </tr>\n",
       "    <tr>\n",
       "      <th>2018-01-02</th>\n",
       "      <td>33,44</td>\n",
       "    </tr>\n",
       "    <tr>\n",
       "      <th>2018-01-03</th>\n",
       "      <td>8,97</td>\n",
       "    </tr>\n",
       "    <tr>\n",
       "      <th>2018-01-04</th>\n",
       "      <td>29,86</td>\n",
       "    </tr>\n",
       "    <tr>\n",
       "      <th>2018-01-05</th>\n",
       "      <td>31,51</td>\n",
       "    </tr>\n",
       "  </tbody>\n",
       "</table>\n",
       "</div>"
      ],
      "text/plain": [
       "           Germany [€/MWh]\n",
       "Date                      \n",
       "2018-01-01           -25,3\n",
       "2018-01-02           33,44\n",
       "2018-01-03            8,97\n",
       "2018-01-04           29,86\n",
       "2018-01-05           31,51"
      ]
     },
     "execution_count": 65,
     "metadata": {},
     "output_type": "execute_result"
    }
   ],
   "source": [
    "final_df.head()"
   ]
  },
  {
   "cell_type": "code",
   "execution_count": 66,
   "metadata": {},
   "outputs": [
    {
     "data": {
      "text/html": [
       "<div>\n",
       "<style scoped>\n",
       "    .dataframe tbody tr th:only-of-type {\n",
       "        vertical-align: middle;\n",
       "    }\n",
       "\n",
       "    .dataframe tbody tr th {\n",
       "        vertical-align: top;\n",
       "    }\n",
       "\n",
       "    .dataframe thead th {\n",
       "        text-align: right;\n",
       "    }\n",
       "</style>\n",
       "<table border=\"1\" class=\"dataframe\">\n",
       "  <thead>\n",
       "    <tr style=\"text-align: right;\">\n",
       "      <th></th>\n",
       "      <th>Germany [€/MWh]</th>\n",
       "    </tr>\n",
       "    <tr>\n",
       "      <th>Date</th>\n",
       "      <th></th>\n",
       "    </tr>\n",
       "  </thead>\n",
       "  <tbody>\n",
       "    <tr>\n",
       "      <th>2022-12-27</th>\n",
       "      <td>99.195</td>\n",
       "    </tr>\n",
       "    <tr>\n",
       "      <th>2022-12-28</th>\n",
       "      <td>59.585</td>\n",
       "    </tr>\n",
       "    <tr>\n",
       "      <th>2022-12-29</th>\n",
       "      <td>29.065</td>\n",
       "    </tr>\n",
       "    <tr>\n",
       "      <th>2022-12-30</th>\n",
       "      <td>24.255</td>\n",
       "    </tr>\n",
       "    <tr>\n",
       "      <th>2022-12-31</th>\n",
       "      <td>10.93</td>\n",
       "    </tr>\n",
       "  </tbody>\n",
       "</table>\n",
       "</div>"
      ],
      "text/plain": [
       "           Germany [€/MWh]\n",
       "Date                      \n",
       "2022-12-27          99.195\n",
       "2022-12-28          59.585\n",
       "2022-12-29          29.065\n",
       "2022-12-30          24.255\n",
       "2022-12-31           10.93"
      ]
     },
     "execution_count": 66,
     "metadata": {},
     "output_type": "execute_result"
    }
   ],
   "source": [
    "final_df.tail()"
   ]
  },
  {
   "cell_type": "code",
   "execution_count": 71,
   "metadata": {},
   "outputs": [
    {
     "data": {
      "text/plain": [
       "'Germany [€/MWh]'"
      ]
     },
     "execution_count": 71,
     "metadata": {},
     "output_type": "execute_result"
    }
   ],
   "source": [
    "final_df.columns[0]"
   ]
  },
  {
   "attachments": {},
   "cell_type": "markdown",
   "metadata": {},
   "source": [
    "## Train and test split"
   ]
  },
  {
   "cell_type": "code",
   "execution_count": 78,
   "metadata": {},
   "outputs": [
    {
     "name": "stdout",
     "output_type": "stream",
     "text": [
      "(1867, 1)\n",
      "INPUT_LENGTH_SPLIT = 281\n"
     ]
    }
   ],
   "source": [
    "print(final_df.shape)\n",
    "TRAIN_TEST_SEQUENCE = math.ceil(final_df.shape[0] * 0.15)\n",
    "print('INPUT_LENGTH_SPLIT =', TRAIN_TEST_SEQUENCE)\n",
    "TRAIN_TEST_RATIO = 0.66\n",
    "N_FEATURES = 1\n",
    "OUTPUT_LENGTH = 1\n",
    "FOLDS_SEQUENCE = 1\n",
    "FOLD_LENGTH_RATIO = 0.66\n",
    "TARGET = final_df.columns[0]"
   ]
  },
  {
   "cell_type": "code",
   "execution_count": 75,
   "metadata": {},
   "outputs": [
    {
     "name": "stdout",
     "output_type": "stream",
     "text": [
      "INPUT_LENGTH_FOLD_TRAIN = 812\n",
      "INPUT_LENGTH_FOLD_TEST = 604\n",
      "420 train folds generated\n",
      "312 test folds generated\n"
     ]
    }
   ],
   "source": [
    "X_train, y_train, X_test, y_test = get_X_y_train_and_test_data(final_df,\n",
    "                                TRAIN_TEST_RATIO,\n",
    "                                TRAIN_TEST_SEQUENCE,\n",
    "                                FOLD_LENGTH_RATIO,\n",
    "                                FOLDS_SEQUENCE,\n",
    "                                OUTPUT_LENGTH,\n",
    "                                TARGET) "
   ]
  },
  {
   "cell_type": "code",
   "execution_count": 77,
   "metadata": {},
   "outputs": [
    {
     "name": "stdout",
     "output_type": "stream",
     "text": [
      "INPUT_LENGTH_FOLD_TRAIN = 812\n",
      "INPUT_LENGTH_FOLD_TEST = 604\n",
      "420 train folds generated\n",
      "312 test folds generated\n"
     ]
    }
   ],
   "source": [
    "len_train = round(final_df.shape[0]*TRAIN_TEST_RATIO)\n",
    "len_test = final_df.shape[0]- len_train + TRAIN_TEST_SEQUENCE\n",
    "\n",
    "INPUT_LENGTH_FOLD_TRAIN = round((len_train - OUTPUT_LENGTH)*FOLD_LENGTH_RATIO)\n",
    "print('INPUT_LENGTH_FOLD_TRAIN =', INPUT_LENGTH_FOLD_TRAIN)\n",
    "\n",
    "INPUT_LENGTH_FOLD_TEST = round((len_test - OUTPUT_LENGTH)*FOLD_LENGTH_RATIO)\n",
    "print('INPUT_LENGTH_FOLD_TEST =', INPUT_LENGTH_FOLD_TEST)\n",
    "\n",
    "total_number_train_folds = len_train - INPUT_LENGTH_FOLD_TRAIN - OUTPUT_LENGTH + FOLDS_SEQUENCE\n",
    "total_number_test_folds = len_test - INPUT_LENGTH_FOLD_TEST - OUTPUT_LENGTH + FOLDS_SEQUENCE\n",
    "print(f'{total_number_train_folds} train folds generated')\n",
    "print(f'{total_number_test_folds} test folds generated')"
   ]
  },
  {
   "cell_type": "code",
   "execution_count": 79,
   "metadata": {},
   "outputs": [],
   "source": [
    "assert X_train.shape == (total_number_train_folds, INPUT_LENGTH_FOLD_TRAIN, N_FEATURES)\n",
    "assert X_test.shape == (total_number_test_folds, INPUT_LENGTH_FOLD_TEST, N_FEATURES)"
   ]
  },
  {
   "attachments": {},
   "cell_type": "markdown",
   "metadata": {},
   "source": [
    "# Investigate Data from Commercial foreign trade (Kommerzieler Ausserhandel Preis)"
   ]
  },
  {
   "cell_type": "code",
   "execution_count": 33,
   "metadata": {},
   "outputs": [
    {
     "data": {
      "text/html": [
       "<div>\n",
       "<style scoped>\n",
       "    .dataframe tbody tr th:only-of-type {\n",
       "        vertical-align: middle;\n",
       "    }\n",
       "\n",
       "    .dataframe tbody tr th {\n",
       "        vertical-align: top;\n",
       "    }\n",
       "\n",
       "    .dataframe thead th {\n",
       "        text-align: right;\n",
       "    }\n",
       "</style>\n",
       "<table border=\"1\" class=\"dataframe\">\n",
       "  <thead>\n",
       "    <tr style=\"text-align: right;\">\n",
       "      <th></th>\n",
       "      <th>Datum</th>\n",
       "      <th>Anfang</th>\n",
       "      <th>Ende</th>\n",
       "      <th>Nettoexport [MWh] Berechnete Auflösungen</th>\n",
       "      <th>Niederlande (Export) [MWh] Berechnete Auflösungen</th>\n",
       "      <th>Niederlande (Import) [MWh] Berechnete Auflösungen</th>\n",
       "      <th>Schweiz (Export) [MWh] Berechnete Auflösungen</th>\n",
       "      <th>Schweiz (Import) [MWh] Berechnete Auflösungen</th>\n",
       "      <th>Dänemark (Export) [MWh] Berechnete Auflösungen</th>\n",
       "      <th>Dänemark (Import) [MWh] Berechnete Auflösungen</th>\n",
       "      <th>...</th>\n",
       "      <th>Österreich (Export) [MWh] Berechnete Auflösungen</th>\n",
       "      <th>Österreich (Import) [MWh] Berechnete Auflösungen</th>\n",
       "      <th>Frankreich (Export) [MWh] Berechnete Auflösungen</th>\n",
       "      <th>Frankreich (Import) [MWh] Berechnete Auflösungen</th>\n",
       "      <th>Polen (Export) [MWh] Berechnete Auflösungen</th>\n",
       "      <th>Polen (Import) [MWh] Berechnete Auflösungen</th>\n",
       "      <th>Norwegen (Export) [MWh] Berechnete Auflösungen</th>\n",
       "      <th>Norwegen (Import) [MWh] Berechnete Auflösungen</th>\n",
       "      <th>Belgien (Export) [MWh] Berechnete Auflösungen</th>\n",
       "      <th>Belgien (Import) [MWh] Berechnete Auflösungen</th>\n",
       "    </tr>\n",
       "  </thead>\n",
       "  <tbody>\n",
       "    <tr>\n",
       "      <th>0</th>\n",
       "      <td>01.01.2018</td>\n",
       "      <td>00:00</td>\n",
       "      <td>00:00</td>\n",
       "      <td>-</td>\n",
       "      <td>24.439</td>\n",
       "      <td>-172</td>\n",
       "      <td>19.250</td>\n",
       "      <td>-678</td>\n",
       "      <td>50.485</td>\n",
       "      <td>-85</td>\n",
       "      <td>...</td>\n",
       "      <td>120.809</td>\n",
       "      <td>-20.152</td>\n",
       "      <td>87.570</td>\n",
       "      <td>-14.248</td>\n",
       "      <td>2.933</td>\n",
       "      <td>-658</td>\n",
       "      <td>-</td>\n",
       "      <td>-</td>\n",
       "      <td>-</td>\n",
       "      <td>-</td>\n",
       "    </tr>\n",
       "    <tr>\n",
       "      <th>1</th>\n",
       "      <td>02.01.2018</td>\n",
       "      <td>00:00</td>\n",
       "      <td>00:00</td>\n",
       "      <td>-</td>\n",
       "      <td>55.880</td>\n",
       "      <td>-241</td>\n",
       "      <td>19.200</td>\n",
       "      <td>-287</td>\n",
       "      <td>18.874</td>\n",
       "      <td>-23.448</td>\n",
       "      <td>...</td>\n",
       "      <td>113.103</td>\n",
       "      <td>-52.742</td>\n",
       "      <td>36.463</td>\n",
       "      <td>-22.596</td>\n",
       "      <td>6.480</td>\n",
       "      <td>-581</td>\n",
       "      <td>-</td>\n",
       "      <td>-</td>\n",
       "      <td>-</td>\n",
       "      <td>-</td>\n",
       "    </tr>\n",
       "    <tr>\n",
       "      <th>2</th>\n",
       "      <td>03.01.2018</td>\n",
       "      <td>00:00</td>\n",
       "      <td>00:00</td>\n",
       "      <td>-</td>\n",
       "      <td>34.481</td>\n",
       "      <td>-24</td>\n",
       "      <td>19.202</td>\n",
       "      <td>-2</td>\n",
       "      <td>50.400</td>\n",
       "      <td>-30</td>\n",
       "      <td>...</td>\n",
       "      <td>135.379</td>\n",
       "      <td>-17.455</td>\n",
       "      <td>22.298</td>\n",
       "      <td>-2.909</td>\n",
       "      <td>6.688</td>\n",
       "      <td>0</td>\n",
       "      <td>-</td>\n",
       "      <td>-</td>\n",
       "      <td>-</td>\n",
       "      <td>-</td>\n",
       "    </tr>\n",
       "    <tr>\n",
       "      <th>3</th>\n",
       "      <td>04.01.2018</td>\n",
       "      <td>00:00</td>\n",
       "      <td>00:00</td>\n",
       "      <td>-</td>\n",
       "      <td>51.926</td>\n",
       "      <td>-2.052</td>\n",
       "      <td>21.722</td>\n",
       "      <td>-194</td>\n",
       "      <td>18.831</td>\n",
       "      <td>-26.153</td>\n",
       "      <td>...</td>\n",
       "      <td>120.083</td>\n",
       "      <td>-49.424</td>\n",
       "      <td>52.353</td>\n",
       "      <td>-32.326</td>\n",
       "      <td>2.663</td>\n",
       "      <td>-650</td>\n",
       "      <td>-</td>\n",
       "      <td>-</td>\n",
       "      <td>-</td>\n",
       "      <td>-</td>\n",
       "    </tr>\n",
       "    <tr>\n",
       "      <th>4</th>\n",
       "      <td>05.01.2018</td>\n",
       "      <td>00:00</td>\n",
       "      <td>00:00</td>\n",
       "      <td>-</td>\n",
       "      <td>58.059</td>\n",
       "      <td>-837</td>\n",
       "      <td>23.375</td>\n",
       "      <td>-4.317</td>\n",
       "      <td>15.987</td>\n",
       "      <td>-24.934</td>\n",
       "      <td>...</td>\n",
       "      <td>121.300</td>\n",
       "      <td>-44.237</td>\n",
       "      <td>63.425</td>\n",
       "      <td>-23.055</td>\n",
       "      <td>1.385</td>\n",
       "      <td>-7.027</td>\n",
       "      <td>-</td>\n",
       "      <td>-</td>\n",
       "      <td>-</td>\n",
       "      <td>-</td>\n",
       "    </tr>\n",
       "  </tbody>\n",
       "</table>\n",
       "<p>5 rows × 26 columns</p>\n",
       "</div>"
      ],
      "text/plain": [
       "        Datum Anfang   Ende Nettoexport [MWh] Berechnete Auflösungen  \\\n",
       "0  01.01.2018  00:00  00:00                                        -   \n",
       "1  02.01.2018  00:00  00:00                                        -   \n",
       "2  03.01.2018  00:00  00:00                                        -   \n",
       "3  04.01.2018  00:00  00:00                                        -   \n",
       "4  05.01.2018  00:00  00:00                                        -   \n",
       "\n",
       "  Niederlande (Export) [MWh] Berechnete Auflösungen  \\\n",
       "0                                            24.439   \n",
       "1                                            55.880   \n",
       "2                                            34.481   \n",
       "3                                            51.926   \n",
       "4                                            58.059   \n",
       "\n",
       "  Niederlande (Import) [MWh] Berechnete Auflösungen  \\\n",
       "0                                              -172   \n",
       "1                                              -241   \n",
       "2                                               -24   \n",
       "3                                            -2.052   \n",
       "4                                              -837   \n",
       "\n",
       "  Schweiz (Export) [MWh] Berechnete Auflösungen  \\\n",
       "0                                        19.250   \n",
       "1                                        19.200   \n",
       "2                                        19.202   \n",
       "3                                        21.722   \n",
       "4                                        23.375   \n",
       "\n",
       "  Schweiz (Import) [MWh] Berechnete Auflösungen  \\\n",
       "0                                          -678   \n",
       "1                                          -287   \n",
       "2                                            -2   \n",
       "3                                          -194   \n",
       "4                                        -4.317   \n",
       "\n",
       "  Dänemark (Export) [MWh] Berechnete Auflösungen  \\\n",
       "0                                         50.485   \n",
       "1                                         18.874   \n",
       "2                                         50.400   \n",
       "3                                         18.831   \n",
       "4                                         15.987   \n",
       "\n",
       "  Dänemark (Import) [MWh] Berechnete Auflösungen  ...  \\\n",
       "0                                            -85  ...   \n",
       "1                                        -23.448  ...   \n",
       "2                                            -30  ...   \n",
       "3                                        -26.153  ...   \n",
       "4                                        -24.934  ...   \n",
       "\n",
       "  Österreich (Export) [MWh] Berechnete Auflösungen  \\\n",
       "0                                          120.809   \n",
       "1                                          113.103   \n",
       "2                                          135.379   \n",
       "3                                          120.083   \n",
       "4                                          121.300   \n",
       "\n",
       "  Österreich (Import) [MWh] Berechnete Auflösungen  \\\n",
       "0                                          -20.152   \n",
       "1                                          -52.742   \n",
       "2                                          -17.455   \n",
       "3                                          -49.424   \n",
       "4                                          -44.237   \n",
       "\n",
       "  Frankreich (Export) [MWh] Berechnete Auflösungen  \\\n",
       "0                                           87.570   \n",
       "1                                           36.463   \n",
       "2                                           22.298   \n",
       "3                                           52.353   \n",
       "4                                           63.425   \n",
       "\n",
       "  Frankreich (Import) [MWh] Berechnete Auflösungen  \\\n",
       "0                                          -14.248   \n",
       "1                                          -22.596   \n",
       "2                                           -2.909   \n",
       "3                                          -32.326   \n",
       "4                                          -23.055   \n",
       "\n",
       "  Polen (Export) [MWh] Berechnete Auflösungen  \\\n",
       "0                                       2.933   \n",
       "1                                       6.480   \n",
       "2                                       6.688   \n",
       "3                                       2.663   \n",
       "4                                       1.385   \n",
       "\n",
       "  Polen (Import) [MWh] Berechnete Auflösungen  \\\n",
       "0                                        -658   \n",
       "1                                        -581   \n",
       "2                                           0   \n",
       "3                                        -650   \n",
       "4                                      -7.027   \n",
       "\n",
       "  Norwegen (Export) [MWh] Berechnete Auflösungen  \\\n",
       "0                                              -   \n",
       "1                                              -   \n",
       "2                                              -   \n",
       "3                                              -   \n",
       "4                                              -   \n",
       "\n",
       "  Norwegen (Import) [MWh] Berechnete Auflösungen  \\\n",
       "0                                              -   \n",
       "1                                              -   \n",
       "2                                              -   \n",
       "3                                              -   \n",
       "4                                              -   \n",
       "\n",
       "  Belgien (Export) [MWh] Berechnete Auflösungen  \\\n",
       "0                                             -   \n",
       "1                                             -   \n",
       "2                                             -   \n",
       "3                                             -   \n",
       "4                                             -   \n",
       "\n",
       "  Belgien (Import) [MWh] Berechnete Auflösungen  \n",
       "0                                             -  \n",
       "1                                             -  \n",
       "2                                             -  \n",
       "3                                             -  \n",
       "4                                             -  \n",
       "\n",
       "[5 rows x 26 columns]"
      ]
     },
     "execution_count": 33,
     "metadata": {},
     "output_type": "execute_result"
    }
   ],
   "source": [
    "foreing_trade = pd.read_csv('data-prices/Kommerzieller_Au_enhandel_2018_01_01_2018_12_31_Tag.csv', delimiter=';', decimal=',')\n",
    "foreing_trade.head()"
   ]
  },
  {
   "cell_type": "code",
   "execution_count": 38,
   "metadata": {},
   "outputs": [
    {
     "data": {
      "text/plain": [
       "Index(['Datum', 'Anfang', 'Ende', 'Nettoexport [MWh] Berechnete Auflösungen',\n",
       "       'Niederlande (Export) [MWh] Berechnete Auflösungen',\n",
       "       'Niederlande (Import) [MWh] Berechnete Auflösungen',\n",
       "       'Schweiz (Export) [MWh] Berechnete Auflösungen',\n",
       "       'Schweiz (Import) [MWh] Berechnete Auflösungen',\n",
       "       'Dänemark (Export) [MWh] Berechnete Auflösungen',\n",
       "       'Dänemark (Import) [MWh] Berechnete Auflösungen',\n",
       "       'Tschechien (Export) [MWh] Berechnete Auflösungen',\n",
       "       'Tschechien (Import) [MWh] Berechnete Auflösungen',\n",
       "       'Luxemburg (Export) [MWh] Berechnete Auflösungen',\n",
       "       'Luxemburg (Import) [MWh] Berechnete Auflösungen',\n",
       "       'Schweden (Export) [MWh] Berechnete Auflösungen',\n",
       "       'Schweden (Import) [MWh] Berechnete Auflösungen',\n",
       "       'Österreich (Export) [MWh] Berechnete Auflösungen',\n",
       "       'Österreich (Import) [MWh] Berechnete Auflösungen',\n",
       "       'Frankreich (Export) [MWh] Berechnete Auflösungen',\n",
       "       'Frankreich (Import) [MWh] Berechnete Auflösungen',\n",
       "       'Polen (Export) [MWh] Berechnete Auflösungen',\n",
       "       'Polen (Import) [MWh] Berechnete Auflösungen',\n",
       "       'Norwegen (Export) [MWh] Berechnete Auflösungen',\n",
       "       'Norwegen (Import) [MWh] Berechnete Auflösungen',\n",
       "       'Belgien (Export) [MWh] Berechnete Auflösungen',\n",
       "       'Belgien (Import) [MWh] Berechnete Auflösungen', 'Date'],\n",
       "      dtype='object')"
      ]
     },
     "execution_count": 38,
     "metadata": {},
     "output_type": "execute_result"
    }
   ],
   "source": [
    "foreing_trade.columns"
   ]
  },
  {
   "cell_type": "code",
   "execution_count": 42,
   "metadata": {},
   "outputs": [],
   "source": [
    "foreing_trade['Date'] = pd.to_datetime(foreing_trade['Date'], yearfirst=True)"
   ]
  },
  {
   "cell_type": "code",
   "execution_count": 37,
   "metadata": {},
   "outputs": [
    {
     "data": {
      "text/plain": [
       "-    1.0\n",
       "Name: Nettoexport [MWh] Berechnete Auflösungen, dtype: float64"
      ]
     },
     "execution_count": 37,
     "metadata": {},
     "output_type": "execute_result"
    }
   ],
   "source": [
    "foreing_trade['Nettoexport [MWh] Berechnete Auflösungen'].value_counts(normalize=True)"
   ]
  },
  {
   "cell_type": "code",
   "execution_count": 39,
   "metadata": {},
   "outputs": [
    {
     "data": {
      "text/plain": [
       "-    1.0\n",
       "Name: Norwegen (Import) [MWh] Berechnete Auflösungen, dtype: float64"
      ]
     },
     "execution_count": 39,
     "metadata": {},
     "output_type": "execute_result"
    }
   ],
   "source": [
    "foreing_trade['Norwegen (Import) [MWh] Berechnete Auflösungen'].value_counts(normalize=True)"
   ]
  },
  {
   "attachments": {},
   "cell_type": "markdown",
   "metadata": {},
   "source": [
    "# Investigate data from physical flow of electricity (physikalischer Stromfluss)"
   ]
  },
  {
   "cell_type": "code",
   "execution_count": null,
   "metadata": {},
   "outputs": [],
   "source": [
    "electricity_flow = pd.read_csv('SMARD/data-prices/Physikalischer_Stromfluss_2018_01_01_2018_12_31_Tag.csv', delimiter=';', decimal=',')\n",
    "electricity_flow.head()"
   ]
  },
  {
   "cell_type": "code",
   "execution_count": 43,
   "metadata": {},
   "outputs": [
    {
     "data": {
      "text/plain": [
       "(365, 26)"
      ]
     },
     "execution_count": 43,
     "metadata": {},
     "output_type": "execute_result"
    }
   ],
   "source": [
    "electricity_flow.shape"
   ]
  },
  {
   "cell_type": "code",
   "execution_count": 44,
   "metadata": {},
   "outputs": [
    {
     "data": {
      "text/plain": [
       "-    1.0\n",
       "Name: Nettoexport [MWh] Berechnete Auflösungen, dtype: float64"
      ]
     },
     "execution_count": 44,
     "metadata": {},
     "output_type": "execute_result"
    }
   ],
   "source": [
    "electricity_flow['Nettoexport [MWh] Berechnete Auflösungen'].value_counts(normalize=True)"
   ]
  },
  {
   "cell_type": "code",
   "execution_count": 45,
   "metadata": {},
   "outputs": [
    {
     "data": {
      "text/plain": [
       "-    1.0\n",
       "Name: Norwegen (Export) [MWh] Berechnete Auflösungen, dtype: float64"
      ]
     },
     "execution_count": 45,
     "metadata": {},
     "output_type": "execute_result"
    }
   ],
   "source": [
    "electricity_flow['Norwegen (Export) [MWh] Berechnete Auflösungen'].value_counts(normalize=True)"
   ]
  },
  {
   "cell_type": "code",
   "execution_count": 47,
   "metadata": {},
   "outputs": [
    {
     "data": {
      "text/plain": [
       "1460"
      ]
     },
     "execution_count": 47,
     "metadata": {},
     "output_type": "execute_result"
    }
   ],
   "source": [
    "total_data_days = (2022-2018)*365\n",
    "total_data_days"
   ]
  },
  {
   "cell_type": "code",
   "execution_count": 48,
   "metadata": {},
   "outputs": [
    {
     "data": {
      "text/plain": [
       "35040"
      ]
     },
     "execution_count": 48,
     "metadata": {},
     "output_type": "execute_result"
    }
   ],
   "source": [
    "total_data_hours = (2022-2018)*365*24\n",
    "total_data_hours"
   ]
  },
  {
   "attachments": {},
   "cell_type": "markdown",
   "metadata": {},
   "source": [
    "# Power Plant data"
   ]
  },
  {
   "cell_type": "code",
   "execution_count": 2,
   "metadata": {},
   "outputs": [
    {
     "data": {
      "text/plain": [
       "['Abwinden-Asten_202201010000_202212312359_Tag_1.csv',\n",
       " 'Abwinden-Asten_202201010000_202212312359_Tag_1.csv:Zone.Identifier',\n",
       " 'Altenw_rth_202201010000_202212312359_Tag_3.csv',\n",
       " 'Altenw_rth_202201010000_202212312359_Tag_3.csv:Zone.Identifier',\n",
       " 'Bergkamen_202201010000_202212312359_Tag_6.csv']"
      ]
     },
     "execution_count": 2,
     "metadata": {},
     "output_type": "execute_result"
    }
   ],
   "source": [
    "path = r'SMARD/power-plant-data-2022-Jan-to-Dec'\n",
    "power_plant_list = os.listdir(path)\n",
    "power_plant_list.sort()\n",
    "power_plant_list[0:5]"
   ]
  },
  {
   "cell_type": "code",
   "execution_count": 3,
   "metadata": {},
   "outputs": [
    {
     "data": {
      "text/plain": [
       "226"
      ]
     },
     "execution_count": 3,
     "metadata": {},
     "output_type": "execute_result"
    }
   ],
   "source": [
    "len(power_plant_list)"
   ]
  },
  {
   "cell_type": "code",
   "execution_count": null,
   "metadata": {},
   "outputs": [],
   "source": [
    "test =  pd.read_csv('SMARD/power-plant-data-2022-Jan-to-Dec/Amrumbank_West_202201010000_202212312359_Tag_4.csv',delimiter=';', decimal=',') \n",
    "test"
   ]
  },
  {
   "cell_type": "code",
   "execution_count": 46,
   "metadata": {},
   "outputs": [
    {
     "data": {
      "text/plain": [
       "(1, 4)"
      ]
     },
     "execution_count": 46,
     "metadata": {},
     "output_type": "execute_result"
    }
   ],
   "source": [
    "test.shape"
   ]
  },
  {
   "cell_type": "code",
   "execution_count": null,
   "metadata": {},
   "outputs": [],
   "source": [
    "test2 = pd.read_csv('SMARD/power-plant-data-2022-Jan-to-Dec/Pumpspeicherkraftwerk_Vianden_202201010000_202212312359_Tag_137.csv', delimiter=';', decimal=',') \n",
    "test2.head()"
   ]
  },
  {
   "cell_type": "code",
   "execution_count": 62,
   "metadata": {},
   "outputs": [],
   "source": [
    "num_cols = test2.columns[3:len(test2)]"
   ]
  },
  {
   "cell_type": "code",
   "execution_count": 63,
   "metadata": {},
   "outputs": [],
   "source": [
    "def convert_str_to_float(text):\n",
    "    if text == '-':\n",
    "        return 0\n",
    "    else:\n",
    "        text=text.replace(',','.')\n",
    "        return float(text)"
   ]
  },
  {
   "cell_type": "code",
   "execution_count": 59,
   "metadata": {},
   "outputs": [],
   "source": [
    "test2['Generation_DE Maschine 9 [MW] Berechnete Auflösungen']=test2['Generation_DE Maschine 9 [MW] Berechnete Auflösungen'].apply(from_str_to_float)"
   ]
  },
  {
   "cell_type": "code",
   "execution_count": 60,
   "metadata": {},
   "outputs": [
    {
     "data": {
      "text/plain": [
       "0    148.0\n",
       "1      0.0\n",
       "2    257.0\n",
       "3    210.0\n",
       "4      0.0\n",
       "Name: Generation_DE Maschine 9 [MW] Berechnete Auflösungen, dtype: float64"
      ]
     },
     "execution_count": 60,
     "metadata": {},
     "output_type": "execute_result"
    }
   ],
   "source": [
    "test2['Generation_DE Maschine 9 [MW] Berechnete Auflösungen'].head()"
   ]
  },
  {
   "cell_type": "code",
   "execution_count": 64,
   "metadata": {},
   "outputs": [],
   "source": [
    "for col in num_cols:\n",
    "    test2[col] = test2[col].apply(convert_str_to_float)  "
   ]
  },
  {
   "cell_type": "code",
   "execution_count": 65,
   "metadata": {},
   "outputs": [
    {
     "data": {
      "text/plain": [
       "Datum                                                     object\n",
       "Anfang                                                    object\n",
       "Ende                                                      object\n",
       "Generation_DE Maschine 9 [MW] Berechnete Auflösungen     float64\n",
       "Generation_DE Maschine 8 [MW] Berechnete Auflösungen     float64\n",
       "Generation_DE Maschine 2 [MW] Berechnete Auflösungen     float64\n",
       "Generation_DE Maschine 3 [MW] Berechnete Auflösungen     float64\n",
       "Generation_DE Maschine 4 [MW] Berechnete Auflösungen     float64\n",
       "Generation_DE Maschine 7 [MW] Berechnete Auflösungen     float64\n",
       "Generation_DE Maschine 1 [MW] Berechnete Auflösungen     float64\n",
       "Generation_DE Maschine 5 [MW] Berechnete Auflösungen     float64\n",
       "Generation_DE Maschine 6 [MW] Berechnete Auflösungen     float64\n",
       "Generation_DE Maschine 10 [MW] Berechnete Auflösungen    float64\n",
       "Generation_DE Maschine 11 [MW] Berechnete Auflösungen    float64\n",
       "dtype: object"
      ]
     },
     "execution_count": 65,
     "metadata": {},
     "output_type": "execute_result"
    }
   ],
   "source": [
    "test2.dtypes"
   ]
  },
  {
   "cell_type": "code",
   "execution_count": null,
   "metadata": {},
   "outputs": [],
   "source": [
    "test2['Generation_DE [MW] Berechnete Auflösungen'] = test2.sum(numeric_only = True, axis =1)\n",
    "test2.head()"
   ]
  },
  {
   "cell_type": "code",
   "execution_count": 71,
   "metadata": {},
   "outputs": [
    {
     "data": {
      "text/plain": [
       "2466.951"
      ]
     },
     "execution_count": 71,
     "metadata": {},
     "output_type": "execute_result"
    }
   ],
   "source": [
    "148.0 + 176.0+ 0.0+ 1.475+ 765.000+ 232.0+ 1.476+ 460.0\t+ 391.0+ 0.0+ 292.0\t"
   ]
  },
  {
   "cell_type": "code",
   "execution_count": 28,
   "metadata": {},
   "outputs": [
    {
     "data": {
      "text/plain": [
       "str"
      ]
     },
     "execution_count": 28,
     "metadata": {},
     "output_type": "execute_result"
    }
   ],
   "source": [
    "type(test2['Generation_DE Maschine 9 [MW] Berechnete Auflösungen'][177])"
   ]
  },
  {
   "cell_type": "code",
   "execution_count": 30,
   "metadata": {},
   "outputs": [
    {
     "data": {
      "text/plain": [
       "'-'"
      ]
     },
     "execution_count": 30,
     "metadata": {},
     "output_type": "execute_result"
    }
   ],
   "source": [
    "test2['Generation_DE Maschine 9 [MW] Berechnete Auflösungen'][178]"
   ]
  },
  {
   "cell_type": "code",
   "execution_count": 39,
   "metadata": {},
   "outputs": [
    {
     "data": {
      "text/plain": [
       "230.0"
      ]
     },
     "execution_count": 39,
     "metadata": {},
     "output_type": "execute_result"
    }
   ],
   "source": [
    "float(test2['Generation_DE Maschine 9 [MW] Berechnete Auflösungen'][177])"
   ]
  },
  {
   "cell_type": "code",
   "execution_count": 42,
   "metadata": {},
   "outputs": [
    {
     "data": {
      "text/html": [
       "<div>\n",
       "<style scoped>\n",
       "    .dataframe tbody tr th:only-of-type {\n",
       "        vertical-align: middle;\n",
       "    }\n",
       "\n",
       "    .dataframe tbody tr th {\n",
       "        vertical-align: top;\n",
       "    }\n",
       "\n",
       "    .dataframe thead th {\n",
       "        text-align: right;\n",
       "    }\n",
       "</style>\n",
       "<table border=\"1\" class=\"dataframe\">\n",
       "  <thead>\n",
       "    <tr style=\"text-align: right;\">\n",
       "      <th></th>\n",
       "      <th>Date</th>\n",
       "      <th>Start</th>\n",
       "      <th>End</th>\n",
       "      <th>Abwinden-Asten</th>\n",
       "    </tr>\n",
       "  </thead>\n",
       "  <tbody>\n",
       "    <tr>\n",
       "      <th>0</th>\n",
       "      <td>01.01.2022</td>\n",
       "      <td>00:00</td>\n",
       "      <td>00:00</td>\n",
       "      <td>3.906</td>\n",
       "    </tr>\n",
       "    <tr>\n",
       "      <th>1</th>\n",
       "      <td>02.01.2022</td>\n",
       "      <td>00:00</td>\n",
       "      <td>00:00</td>\n",
       "      <td>3.813</td>\n",
       "    </tr>\n",
       "    <tr>\n",
       "      <th>2</th>\n",
       "      <td>03.01.2022</td>\n",
       "      <td>00:00</td>\n",
       "      <td>00:00</td>\n",
       "      <td>3.479</td>\n",
       "    </tr>\n",
       "    <tr>\n",
       "      <th>3</th>\n",
       "      <td>04.01.2022</td>\n",
       "      <td>00:00</td>\n",
       "      <td>00:00</td>\n",
       "      <td>3.488</td>\n",
       "    </tr>\n",
       "    <tr>\n",
       "      <th>4</th>\n",
       "      <td>05.01.2022</td>\n",
       "      <td>00:00</td>\n",
       "      <td>00:00</td>\n",
       "      <td>3.667</td>\n",
       "    </tr>\n",
       "  </tbody>\n",
       "</table>\n",
       "</div>"
      ],
      "text/plain": [
       "         Date  Start    End Abwinden-Asten\n",
       "0  01.01.2022  00:00  00:00          3.906\n",
       "1  02.01.2022  00:00  00:00          3.813\n",
       "2  03.01.2022  00:00  00:00          3.479\n",
       "3  04.01.2022  00:00  00:00          3.488\n",
       "4  05.01.2022  00:00  00:00          3.667"
      ]
     },
     "execution_count": 42,
     "metadata": {},
     "output_type": "execute_result"
    }
   ],
   "source": [
    "# Take first company\n",
    "file1 = power_plant_list[0].split('_')[0]\n",
    "col = file1.split('_')[0]\n",
    "folder = path + '/' + power_plant_list[0]\n",
    "power_plant = pd.read_csv(folder, delimiter=';', decimal=',')\n",
    "power_plant.columns = ['Date', 'Start', 'End', col]\n",
    "power_plant.head()"
   ]
  },
  {
   "cell_type": "code",
   "execution_count": 39,
   "metadata": {},
   "outputs": [
    {
     "data": {
      "text/plain": [
       "['Abwinden-Asten_202201010000_202212312359_Tag_1.csv',\n",
       " 'Ahrensfelde_202201010000_202212312359_Tag_2.csv',\n",
       " 'Ahrensfelde_202201010000_202212312359_Tag_2.csv:Zone.Identifier',\n",
       " 'Altenw_rth_202201010000_202212312359_Tag_3.csv',\n",
       " 'Altenw_rth_202201010000_202212312359_Tag_3.csv:Zone.Identifier']"
      ]
     },
     "execution_count": 39,
     "metadata": {},
     "output_type": "execute_result"
    }
   ],
   "source": [
    "power_plant_list.pop(1)\n",
    "power_plant_list[0:5]"
   ]
  },
  {
   "cell_type": "code",
   "execution_count": 32,
   "metadata": {},
   "outputs": [
    {
     "data": {
      "text/html": [
       "<div>\n",
       "<style scoped>\n",
       "    .dataframe tbody tr th:only-of-type {\n",
       "        vertical-align: middle;\n",
       "    }\n",
       "\n",
       "    .dataframe tbody tr th {\n",
       "        vertical-align: top;\n",
       "    }\n",
       "\n",
       "    .dataframe thead th {\n",
       "        text-align: right;\n",
       "    }\n",
       "</style>\n",
       "<table border=\"1\" class=\"dataframe\">\n",
       "  <thead>\n",
       "    <tr style=\"text-align: right;\">\n",
       "      <th></th>\n",
       "      <th>Datum</th>\n",
       "      <th>Anfang</th>\n",
       "      <th>Ende</th>\n",
       "      <th>Generation_DE  [MW] Berechnete Auflösungen</th>\n",
       "    </tr>\n",
       "  </thead>\n",
       "  <tbody>\n",
       "    <tr>\n",
       "      <th>0</th>\n",
       "      <td>01.01.2022</td>\n",
       "      <td>00:00</td>\n",
       "      <td>00:00</td>\n",
       "      <td>3.906</td>\n",
       "    </tr>\n",
       "    <tr>\n",
       "      <th>1</th>\n",
       "      <td>02.01.2022</td>\n",
       "      <td>00:00</td>\n",
       "      <td>00:00</td>\n",
       "      <td>3.813</td>\n",
       "    </tr>\n",
       "    <tr>\n",
       "      <th>2</th>\n",
       "      <td>03.01.2022</td>\n",
       "      <td>00:00</td>\n",
       "      <td>00:00</td>\n",
       "      <td>3.479</td>\n",
       "    </tr>\n",
       "    <tr>\n",
       "      <th>3</th>\n",
       "      <td>04.01.2022</td>\n",
       "      <td>00:00</td>\n",
       "      <td>00:00</td>\n",
       "      <td>3.488</td>\n",
       "    </tr>\n",
       "    <tr>\n",
       "      <th>4</th>\n",
       "      <td>05.01.2022</td>\n",
       "      <td>00:00</td>\n",
       "      <td>00:00</td>\n",
       "      <td>3.667</td>\n",
       "    </tr>\n",
       "  </tbody>\n",
       "</table>\n",
       "</div>"
      ],
      "text/plain": [
       "        Datum Anfang   Ende Generation_DE  [MW] Berechnete Auflösungen\n",
       "0  01.01.2022  00:00  00:00                                      3.906\n",
       "1  02.01.2022  00:00  00:00                                      3.813\n",
       "2  03.01.2022  00:00  00:00                                      3.479\n",
       "3  04.01.2022  00:00  00:00                                      3.488\n",
       "4  05.01.2022  00:00  00:00                                      3.667"
      ]
     },
     "execution_count": 32,
     "metadata": {},
     "output_type": "execute_result"
    }
   ],
   "source": [
    "for file in power_plant_list:\n",
    "    col = file.split('_')[0]\n",
    "    folder = path + '/' + file\n",
    "    df = pd.read_csv(folder, delimiter=';', decimal=',')\n",
    "    \n",
    "    if df.shape[0] > 1:\n",
    "        if df.shape[2] > 4:\n",
    "            num_cols =  df.columns[3:len(test2)]\n",
    "            for col in num_cols:\n",
    "                test2[col] = test2[col].apply(convert_str_to_float)  \n",
    "            df['Generation_DE [MW] Berechnete Auflösungen'] = df.sum(numeric_only = True, axis =1)\n",
    "        data_name = 'Generation_DE [MW] Berechnete Auflösungen' \n",
    "        for i in df.columns:\n",
    "            if 'Berechnete Auflösungen' in i:\n",
    "                data_name = i\n",
    "        power_plant[col] = df[data_name]\n",
    "    else:\n",
    "        print(f'Company {col} data is empty')\n"
   ]
  },
  {
   "cell_type": "code",
   "execution_count": null,
   "metadata": {},
   "outputs": [],
   "source": [
    "power_plant_dict= {\n",
    "    'Laufwasser': ['Abwinden-Asten'],\n",
    "    'Erdgas' : ['Ahrensfelde']    \n",
    "}\n",
    "    "
   ]
  },
  {
   "cell_type": "code",
   "execution_count": 13,
   "metadata": {},
   "outputs": [
    {
     "data": {
      "text/html": [
       "<div>\n",
       "<style scoped>\n",
       "    .dataframe tbody tr th:only-of-type {\n",
       "        vertical-align: middle;\n",
       "    }\n",
       "\n",
       "    .dataframe tbody tr th {\n",
       "        vertical-align: top;\n",
       "    }\n",
       "\n",
       "    .dataframe thead th {\n",
       "        text-align: right;\n",
       "    }\n",
       "</style>\n",
       "<table border=\"1\" class=\"dataframe\">\n",
       "  <thead>\n",
       "    <tr style=\"text-align: right;\">\n",
       "      <th></th>\n",
       "      <th>Name</th>\n",
       "      <th>Place</th>\n",
       "      <th>Energy_Source</th>\n",
       "      <th>Rated_capacity</th>\n",
       "    </tr>\n",
       "  </thead>\n",
       "  <tbody>\n",
       "    <tr>\n",
       "      <th>0</th>\n",
       "      <td>Abfallentsorgungszentrum Asdonkshof</td>\n",
       "      <td>Kamp-Lintfort</td>\n",
       "      <td>Abfall</td>\n",
       "      <td>20.8 MW</td>\n",
       "    </tr>\n",
       "    <tr>\n",
       "      <th>1</th>\n",
       "      <td>Abfallheizkraftwerk Neunkirchen</td>\n",
       "      <td>Neunkirchen</td>\n",
       "      <td>Abfall</td>\n",
       "      <td>11.6 MW</td>\n",
       "    </tr>\n",
       "    <tr>\n",
       "      <th>2</th>\n",
       "      <td>AMK - Abfallentsorgungsgesellschaft des Maerki...</td>\n",
       "      <td>Iserlohn</td>\n",
       "      <td>Abfall</td>\n",
       "      <td>12.6 MW</td>\n",
       "    </tr>\n",
       "    <tr>\n",
       "      <th>3</th>\n",
       "      <td>AVA GmbH</td>\n",
       "      <td>Augsburg</td>\n",
       "      <td>Abfall</td>\n",
       "      <td>10 MW</td>\n",
       "    </tr>\n",
       "    <tr>\n",
       "      <th>4</th>\n",
       "      <td>AVA Velsen</td>\n",
       "      <td>Saarbruecken</td>\n",
       "      <td>Abfall</td>\n",
       "      <td>16 MW</td>\n",
       "    </tr>\n",
       "  </tbody>\n",
       "</table>\n",
       "</div>"
      ],
      "text/plain": [
       "                                                Name           Place  \\\n",
       "0               Abfallentsorgungszentrum Asdonkshof   Kamp-Lintfort    \n",
       "1                   Abfallheizkraftwerk Neunkirchen     Neunkirchen    \n",
       "2  AMK - Abfallentsorgungsgesellschaft des Maerki...       Iserlohn    \n",
       "3                                          AVA GmbH        Augsburg    \n",
       "4                                        AVA Velsen    Saarbruecken    \n",
       "\n",
       "  Energy_Source Rated_capacity  \n",
       "0       Abfall        20.8 MW   \n",
       "1       Abfall        11.6 MW   \n",
       "2       Abfall        12.6 MW   \n",
       "3       Abfall          10 MW   \n",
       "4       Abfall          16 MW   "
      ]
     },
     "execution_count": 13,
     "metadata": {},
     "output_type": "execute_result"
    }
   ],
   "source": [
    "\n",
    "test2 = pd.read_csv('Powerplant_types/Powerplant_types_v4.csv',delimiter = \",\", encoding = \"utf-8\") \n",
    "test2.head()"
   ]
  },
  {
   "cell_type": "code",
   "execution_count": 15,
   "metadata": {},
   "outputs": [
    {
     "data": {
      "text/plain": [
       "Erdgas                                     269\n",
       "Laufwasser                                 104\n",
       "Wind (Onshore)                              90\n",
       "Steinkohle                                  80\n",
       "Photovoltaik                                63\n",
       "Biomasse                                    56\n",
       "Abfall                                      45\n",
       "Braunkohle                                  28\n",
       "Pumpspeicher                                28\n",
       "Wind (Offshore)                             28\n",
       "Sonstige konventionelle Energietraeger      25\n",
       "Mineraloelprodukte                          23\n",
       "Speicherwasser (ohne Pumpspeicher)          21\n",
       "Batteriespeicher                            15\n",
       "Kernenergie                                  8\n",
       "Steinkohle - Heizoel                         1\n",
       "Biomasse                                     1\n",
       "Waerme                                       1\n",
       "Erdgas – Heizoel                             1\n",
       "Name: Energy_Source, dtype: int64"
      ]
     },
     "execution_count": 15,
     "metadata": {},
     "output_type": "execute_result"
    }
   ],
   "source": [
    "test2['Energy_Source'].value_counts()"
   ]
  }
 ],
 "metadata": {
  "kernelspec": {
   "display_name": "Python 3",
   "language": "python",
   "name": "python3"
  },
  "language_info": {
   "codemirror_mode": {
    "name": "ipython",
    "version": 3
   },
   "file_extension": ".py",
   "mimetype": "text/x-python",
   "name": "python",
   "nbconvert_exporter": "python",
   "pygments_lexer": "ipython3",
   "version": "3.10.6"
  },
  "orig_nbformat": 4,
  "vscode": {
   "interpreter": {
    "hash": "0d39961f5a890b7e0f98dc3b1a34cbea5c044797cc6249b49b71442453fde5c1"
   }
  }
 },
 "nbformat": 4,
 "nbformat_minor": 2
}
